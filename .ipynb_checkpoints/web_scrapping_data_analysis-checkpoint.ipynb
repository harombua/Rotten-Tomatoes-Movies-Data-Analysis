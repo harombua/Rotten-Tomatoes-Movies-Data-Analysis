{
 "cells": [
  {
   "cell_type": "markdown",
   "id": "ce02b746",
   "metadata": {},
   "source": [
    "# DATA ANALYSIS OF ROTTENTOMATO MOVIES\n",
    "## INTRODUCTION\n",
    "In the following analysis, Data for analysis is scrapped from the internet. First I had files from a company known as rotten tomatoes in a `HTML FORMAT` and thus inorder to extract data I used a tool know as `BeautifulSoup` that was handy in fetching the necessary information for analysis. **Beautiful Soup** is an HTML parser written in the Python programming language. The name is derived from the \"tag soup\" which refers to the unstructured and difficult -to-parse HTML found on many websites. I also had another dataset that was provided by Udacity classroom inform of a `CSV file`. After parsing the html file I merged the data with the csv file given.\n",
    "\n",
    "In order to get the images, I had to search for them from the internet specifically on wikipedia pages for different movies i my final dataset. In order to fetch all this data, I needed API. I used `wptools` which is a wikimedia API useful for scrapping data from the internet. Here I obtained the urls for the movie posters."
   ]
  },
  {
   "cell_type": "code",
   "execution_count": 2,
   "id": "4f9dddcc",
   "metadata": {},
   "outputs": [],
   "source": [
    "# Importing libraries\n",
    "import numpy as np\n",
    "import pandas as pd\n",
    "import zipfile\n",
    "from bs4 import BeautifulSoup\n",
    "import os\n",
    "import requests\n",
    "from PIL import Image\n",
    "from io import BytesIO\n",
    "import seaborn as sns\n",
    "import plotly\n",
    "import plotly.express as px\n",
    "import matplotlib.pyplot as plt"
   ]
  },
  {
   "cell_type": "code",
   "execution_count": 2,
   "id": "5c239663",
   "metadata": {},
   "outputs": [
    {
     "data": {
      "text/html": [
       "<div>\n",
       "<style scoped>\n",
       "    .dataframe tbody tr th:only-of-type {\n",
       "        vertical-align: middle;\n",
       "    }\n",
       "\n",
       "    .dataframe tbody tr th {\n",
       "        vertical-align: top;\n",
       "    }\n",
       "\n",
       "    .dataframe thead th {\n",
       "        text-align: right;\n",
       "    }\n",
       "</style>\n",
       "<table border=\"1\" class=\"dataframe\">\n",
       "  <thead>\n",
       "    <tr style=\"text-align: right;\">\n",
       "      <th></th>\n",
       "      <th>ranking</th>\n",
       "      <th>critic_score</th>\n",
       "      <th>title</th>\n",
       "      <th>number_of_critic_ratings</th>\n",
       "    </tr>\n",
       "  </thead>\n",
       "  <tbody>\n",
       "    <tr>\n",
       "      <th>0</th>\n",
       "      <td>1</td>\n",
       "      <td>99</td>\n",
       "      <td>The Wizard of Oz (1939)</td>\n",
       "      <td>110</td>\n",
       "    </tr>\n",
       "    <tr>\n",
       "      <th>1</th>\n",
       "      <td>2</td>\n",
       "      <td>100</td>\n",
       "      <td>Citizen Kane (1941)</td>\n",
       "      <td>75</td>\n",
       "    </tr>\n",
       "    <tr>\n",
       "      <th>2</th>\n",
       "      <td>3</td>\n",
       "      <td>100</td>\n",
       "      <td>The Third Man (1949)</td>\n",
       "      <td>77</td>\n",
       "    </tr>\n",
       "    <tr>\n",
       "      <th>3</th>\n",
       "      <td>4</td>\n",
       "      <td>99</td>\n",
       "      <td>Get Out (2017)</td>\n",
       "      <td>282</td>\n",
       "    </tr>\n",
       "    <tr>\n",
       "      <th>4</th>\n",
       "      <td>5</td>\n",
       "      <td>97</td>\n",
       "      <td>Mad Max: Fury Road (2015)</td>\n",
       "      <td>370</td>\n",
       "    </tr>\n",
       "  </tbody>\n",
       "</table>\n",
       "</div>"
      ],
      "text/plain": [
       "   ranking  critic_score                      title  number_of_critic_ratings\n",
       "0        1            99    The Wizard of Oz (1939)                       110\n",
       "1        2           100        Citizen Kane (1941)                        75\n",
       "2        3           100       The Third Man (1949)                        77\n",
       "3        4            99             Get Out (2017)                       282\n",
       "4        5            97  Mad Max: Fury Road (2015)                       370"
      ]
     },
     "execution_count": 2,
     "metadata": {},
     "output_type": "execute_result"
    }
   ],
   "source": [
    "# Loading Best rotten tomatoe movies data using pandas\n",
    "best_movies=pd.read_csv('bestofrt.tsv',sep='\\t')\n",
    "#Display the first 5 rows\n",
    "best_movies.head()"
   ]
  },
  {
   "cell_type": "code",
   "execution_count": 3,
   "id": "2bb0d817",
   "metadata": {},
   "outputs": [
    {
     "data": {
      "text/plain": [
       "(100, 4)"
      ]
     },
     "execution_count": 3,
     "metadata": {},
     "output_type": "execute_result"
    }
   ],
   "source": [
    "# Chcking the shape of the data\n",
    "best_movies.shape"
   ]
  },
  {
   "cell_type": "code",
   "execution_count": 4,
   "id": "b3ffe631",
   "metadata": {},
   "outputs": [
    {
     "name": "stdout",
     "output_type": "stream",
     "text": [
      "<class 'pandas.core.frame.DataFrame'>\n",
      "RangeIndex: 100 entries, 0 to 99\n",
      "Data columns (total 4 columns):\n",
      " #   Column                    Non-Null Count  Dtype \n",
      "---  ------                    --------------  ----- \n",
      " 0   ranking                   100 non-null    int64 \n",
      " 1   critic_score              100 non-null    int64 \n",
      " 2   title                     100 non-null    object\n",
      " 3   number_of_critic_ratings  100 non-null    int64 \n",
      "dtypes: int64(3), object(1)\n",
      "memory usage: 3.2+ KB\n"
     ]
    }
   ],
   "source": [
    "# Checking the basic information of the table\n",
    "best_movies.info()"
   ]
  },
  {
   "cell_type": "code",
   "execution_count": 5,
   "id": "e384caab",
   "metadata": {},
   "outputs": [],
   "source": [
    "# Extract data from a zipfile\n",
    "#with zipfile.ZipFile('rt-html.zip','r') as rtfile:\n",
    "    #rtfile.extractall()"
   ]
  },
  {
   "cell_type": "code",
   "execution_count": 6,
   "id": "2dc05ac2",
   "metadata": {},
   "outputs": [],
   "source": [
    "# Using beautiful soup to parse html files\n",
    "# Import beautiful soup\n",
    "from bs4 import BeautifulSoup"
   ]
  },
  {
   "cell_type": "code",
   "execution_count": 7,
   "id": "1b1b013e",
   "metadata": {},
   "outputs": [],
   "source": [
    "# Making the soup by passing the path to the html file to a filehandle\n",
    "# then passing the filehandle to the BS constructor along with the parser.\n",
    "with open('rt_html\\et_the_extraterrestrial.html') as file:\n",
    "    soup=BeautifulSoup(file,\"lxml\")"
   ]
  },
  {
   "cell_type": "code",
   "execution_count": 8,
   "id": "7186c5ab",
   "metadata": {},
   "outputs": [
    {
     "data": {
      "text/plain": [
       "<title>E.T. The Extra-Terrestrial (1982) - Rotten Tomatoes</title>"
      ]
     },
     "execution_count": 8,
     "metadata": {},
     "output_type": "execute_result"
    }
   ],
   "source": [
    "#Checking the title tag of the movie in the html page\n",
    "soup.find('title')"
   ]
  },
  {
   "cell_type": "code",
   "execution_count": 9,
   "id": "29389351",
   "metadata": {},
   "outputs": [
    {
     "data": {
      "text/plain": [
       "'E.T. The Extra-Terrestrial\\xa0(1982)'"
      ]
     },
     "execution_count": 9,
     "metadata": {},
     "output_type": "execute_result"
    }
   ],
   "source": [
    "# Getting the exact title text in the title tag of a html element\n",
    "soup.find('title').contents[0][:-len(' - Rotten Tomatoes')]"
   ]
  },
  {
   "cell_type": "markdown",
   "id": "1dc1d61a",
   "metadata": {},
   "source": [
    "The `\\xa0` in the returned title is unicode for non-breaking space"
   ]
  },
  {
   "cell_type": "code",
   "execution_count": 10,
   "id": "1621aead",
   "metadata": {
    "scrolled": true
   },
   "outputs": [
    {
     "data": {
      "text/plain": [
       "['Kids & Family', 'Science Fiction & Fantasy']"
      ]
     },
     "execution_count": 10,
     "metadata": {},
     "output_type": "execute_result"
    }
   ],
   "source": [
    "# Getting the movie genre\n",
    "genres=soup.findAll('div',class_='meta-value')[1].findAll('a')\n",
    "list1=[]\n",
    "for genre in genres:\n",
    "    list1.append(genre.contents[0].strip())\n",
    "list1 "
   ]
  },
  {
   "cell_type": "code",
   "execution_count": 11,
   "id": "f64ff37e",
   "metadata": {},
   "outputs": [
    {
     "data": {
      "text/plain": [
       "'Steven Spielberg'"
      ]
     },
     "execution_count": 11,
     "metadata": {},
     "output_type": "execute_result"
    }
   ],
   "source": [
    "# Getting the writter of the movie\n",
    "soup.findAll('div',class_='meta-value')[2].find('a').contents[0]"
   ]
  },
  {
   "cell_type": "code",
   "execution_count": 12,
   "id": "21c819b0",
   "metadata": {},
   "outputs": [],
   "source": [
    "# When the error such as OSError or file not found error appears escape \n",
    "#using backslash in every backslash used or r(raw) before the path \n",
    "with open(r'rt_html\\1000013-12_angry_men.html') as file1:\n",
    "    soup1=BeautifulSoup(file1,'lxml')"
   ]
  },
  {
   "cell_type": "code",
   "execution_count": 13,
   "id": "c8442fb4",
   "metadata": {},
   "outputs": [],
   "source": [
    "# Using escape to solve the error\n",
    "with open('rt_html\\\\1000355-adventures_of_robin_hood.html') as file:\n",
    "    ad=BeautifulSoup(file,'lxml')"
   ]
  },
  {
   "cell_type": "code",
   "execution_count": 14,
   "id": "e6f4dc02",
   "metadata": {
    "scrolled": true
   },
   "outputs": [
    {
     "data": {
      "text/plain": [
       "'The Adventures of Robin Hood\\xa0(1938)'"
      ]
     },
     "execution_count": 14,
     "metadata": {},
     "output_type": "execute_result"
    }
   ],
   "source": [
    "# Using findall method and extracting the movie titles\n",
    "ad.findAll('title')[0].contents[0][:-18]"
   ]
  },
  {
   "cell_type": "code",
   "execution_count": 15,
   "id": "c96afa41",
   "metadata": {},
   "outputs": [
    {
     "data": {
      "text/plain": [
       "'89'"
      ]
     },
     "execution_count": 15,
     "metadata": {},
     "output_type": "execute_result"
    }
   ],
   "source": [
    "# Getting the audience score rating\n",
    "ad.find('div',class_='audience-score meter').find('span').contents[0][:-1]"
   ]
  },
  {
   "cell_type": "code",
   "execution_count": 16,
   "id": "e4408268",
   "metadata": {},
   "outputs": [
    {
     "data": {
      "text/plain": [
       "'33584'"
      ]
     },
     "execution_count": 16,
     "metadata": {},
     "output_type": "execute_result"
    }
   ],
   "source": [
    "# Getting number of audience score ratings\n",
    "ad.find('div',class_='audience-info hidden-xs superPageFontColor').findAll('div')[1].contents[2].strip().replace(',','')"
   ]
  },
  {
   "cell_type": "code",
   "execution_count": 17,
   "id": "8219f90a",
   "metadata": {
    "scrolled": true
   },
   "outputs": [
    {
     "data": {
      "text/plain": [
       "['Action & Adventure', 'Classics', 'Romance']"
      ]
     },
     "execution_count": 17,
     "metadata": {},
     "output_type": "execute_result"
    }
   ],
   "source": [
    "# Getting genres of the movies\n",
    "genres=ad.findAll('div',class_='meta-value')[1].findAll('a')\n",
    "list1=[]\n",
    "for genre in genres:\n",
    "    list1.append(genre.contents[0].strip())\n",
    "list1 "
   ]
  },
  {
   "cell_type": "code",
   "execution_count": 18,
   "id": "b8769fae",
   "metadata": {},
   "outputs": [
    {
     "data": {
      "text/plain": [
       "'Michael Curtiz'"
      ]
     },
     "execution_count": 18,
     "metadata": {},
     "output_type": "execute_result"
    }
   ],
   "source": [
    "# Getting the writters for the movies\n",
    "ad.findAll('div',class_='meta-value')[2].find('a').contents[0]"
   ]
  },
  {
   "cell_type": "code",
   "execution_count": 19,
   "id": "af8523d9",
   "metadata": {},
   "outputs": [
    {
     "data": {
      "text/plain": [
       "'Melissa Mathison'"
      ]
     },
     "execution_count": 19,
     "metadata": {},
     "output_type": "execute_result"
    }
   ],
   "source": [
    "# Getting the Director of the movie\n",
    "soup.findAll('div',class_='meta-value')[3].text.strip()"
   ]
  },
  {
   "cell_type": "markdown",
   "id": "3811391e",
   "metadata": {},
   "source": [
    "### Programmatic scrapping of many html files\n",
    "Using Soup to extract Audience Score metric and number of audience ratings, along with the movie title, authors, directors and genres"
   ]
  },
  {
   "cell_type": "code",
   "execution_count": 20,
   "id": "24461b1c",
   "metadata": {},
   "outputs": [
    {
     "name": "stdout",
     "output_type": "stream",
     "text": [
      "Wall time: 0 ns\n"
     ]
    }
   ],
   "source": [
    "# List of dictionaries to build a dataframe for movie ratings\n",
    "import os\n",
    "%time\n",
    "data_list=[]\n",
    "#list1=[]\n",
    "for movie_html in os.listdir('rt_html'):\n",
    "    with open(os.path.join('rt_html',movie_html)) as file:\n",
    "        movie_data=BeautifulSoup(file,'lxml')\n",
    "        # Finding movie title from the movie data\n",
    "        movie_title=movie_data.find('title').contents[0][:-len(' - Rotten Tomatoes')]\n",
    "        # Getting the audience score\n",
    "        audience_score=movie_data.find('div',class_='audience-score meter').find('span').contents[0][:-1]\n",
    "        # Getting the number of audience ratings\n",
    "        num_of_audience_rating=movie_data.find('div',class_='audience-info hidden-xs superPageFontColor').findAll('div')[1].contents[2].strip().replace(',','')\n",
    "        # Finding the genres for movie\n",
    "        genres=movie_data.findAll('div',class_='meta-value')[1].findAll('a')\n",
    "        list1=[]\n",
    "        for genre in genres:\n",
    "            list1.append(genre.contents[0].strip())\n",
    "        #Getting the writter of the movie\n",
    "        author=movie_data.findAll('div',class_='meta-value')[2].find('a').contents[0]\n",
    "        # Getting the Director of the movie\n",
    "        director=movie_data.findAll('div',class_='meta-value')[3].text.strip()\n",
    "        # Appending to the list of dictionaries \n",
    "        data_list.append({'title':movie_title,\n",
    "                         'audience_score':audience_score,\n",
    "                         'number_of_audience_ratings':num_of_audience_rating,\n",
    "                         'movie_genre':list1,\n",
    "                         'movie_author':author,\n",
    "                         'movie_director':director})\n",
    "        # Getting the dataframe\n",
    "        movie_df=pd.DataFrame(data_list,columns=['title','audience_score','number_of_audience_ratings','movie_genre','movie_author','movie_director'])"
   ]
  },
  {
   "cell_type": "code",
   "execution_count": 21,
   "id": "366d806b",
   "metadata": {},
   "outputs": [
    {
     "data": {
      "text/html": [
       "<div>\n",
       "<style scoped>\n",
       "    .dataframe tbody tr th:only-of-type {\n",
       "        vertical-align: middle;\n",
       "    }\n",
       "\n",
       "    .dataframe tbody tr th {\n",
       "        vertical-align: top;\n",
       "    }\n",
       "\n",
       "    .dataframe thead th {\n",
       "        text-align: right;\n",
       "    }\n",
       "</style>\n",
       "<table border=\"1\" class=\"dataframe\">\n",
       "  <thead>\n",
       "    <tr style=\"text-align: right;\">\n",
       "      <th></th>\n",
       "      <th>title</th>\n",
       "      <th>audience_score</th>\n",
       "      <th>number_of_audience_ratings</th>\n",
       "      <th>movie_genre</th>\n",
       "      <th>movie_author</th>\n",
       "      <th>movie_director</th>\n",
       "    </tr>\n",
       "  </thead>\n",
       "  <tbody>\n",
       "    <tr>\n",
       "      <th>0</th>\n",
       "      <td>12 Angry Men (Twelve Angry Men) (1957)</td>\n",
       "      <td>97</td>\n",
       "      <td>103672</td>\n",
       "      <td>[Classics, Drama]</td>\n",
       "      <td>Sidney Lumet</td>\n",
       "      <td>Reginald Rose</td>\n",
       "    </tr>\n",
       "    <tr>\n",
       "      <th>1</th>\n",
       "      <td>The 39 Steps (1935)</td>\n",
       "      <td>86</td>\n",
       "      <td>23647</td>\n",
       "      <td>[Action &amp; Adventure, Classics, Mystery &amp; Suspe...</td>\n",
       "      <td>Alfred Hitchcock</td>\n",
       "      <td>Alma Reville, Charles Bennett, Ian Hay</td>\n",
       "    </tr>\n",
       "    <tr>\n",
       "      <th>2</th>\n",
       "      <td>The Adventures of Robin Hood (1938)</td>\n",
       "      <td>89</td>\n",
       "      <td>33584</td>\n",
       "      <td>[Action &amp; Adventure, Classics, Romance]</td>\n",
       "      <td>Michael Curtiz</td>\n",
       "      <td>Norman Reilly Raine, Seton I. Miller</td>\n",
       "    </tr>\n",
       "    <tr>\n",
       "      <th>3</th>\n",
       "      <td>All About Eve (1950)</td>\n",
       "      <td>94</td>\n",
       "      <td>44564</td>\n",
       "      <td>[Classics, Comedy, Drama]</td>\n",
       "      <td>Joseph L. Mankiewicz</td>\n",
       "      <td>Joseph L. Mankiewicz</td>\n",
       "    </tr>\n",
       "    <tr>\n",
       "      <th>4</th>\n",
       "      <td>All Quiet on the Western Front (1930)</td>\n",
       "      <td>89</td>\n",
       "      <td>17768</td>\n",
       "      <td>[Classics, Drama]</td>\n",
       "      <td>Lewis Milestone</td>\n",
       "      <td>Lewis Milestone, Maxwell Anderson, Del Andrews...</td>\n",
       "    </tr>\n",
       "  </tbody>\n",
       "</table>\n",
       "</div>"
      ],
      "text/plain": [
       "                                    title audience_score  \\\n",
       "0  12 Angry Men (Twelve Angry Men) (1957)             97   \n",
       "1                     The 39 Steps (1935)             86   \n",
       "2     The Adventures of Robin Hood (1938)             89   \n",
       "3                    All About Eve (1950)             94   \n",
       "4   All Quiet on the Western Front (1930)             89   \n",
       "\n",
       "  number_of_audience_ratings  \\\n",
       "0                     103672   \n",
       "1                      23647   \n",
       "2                      33584   \n",
       "3                      44564   \n",
       "4                      17768   \n",
       "\n",
       "                                         movie_genre          movie_author  \\\n",
       "0                                  [Classics, Drama]          Sidney Lumet   \n",
       "1  [Action & Adventure, Classics, Mystery & Suspe...      Alfred Hitchcock   \n",
       "2            [Action & Adventure, Classics, Romance]        Michael Curtiz   \n",
       "3                          [Classics, Comedy, Drama]  Joseph L. Mankiewicz   \n",
       "4                                  [Classics, Drama]       Lewis Milestone   \n",
       "\n",
       "                                      movie_director  \n",
       "0                                      Reginald Rose  \n",
       "1             Alma Reville, Charles Bennett, Ian Hay  \n",
       "2               Norman Reilly Raine, Seton I. Miller  \n",
       "3                               Joseph L. Mankiewicz  \n",
       "4  Lewis Milestone, Maxwell Anderson, Del Andrews...  "
      ]
     },
     "execution_count": 21,
     "metadata": {},
     "output_type": "execute_result"
    }
   ],
   "source": [
    "#Checking the first 5 rows of the movie ratings dataframe\n",
    "movie_df.head()"
   ]
  },
  {
   "cell_type": "code",
   "execution_count": 22,
   "id": "f3b84ecf",
   "metadata": {},
   "outputs": [],
   "source": [
    "# Removing the brackets from the movie genre column\n",
    "movie_df['movie_genre']=movie_df['movie_genre'].str.join(',')"
   ]
  },
  {
   "cell_type": "code",
   "execution_count": 23,
   "id": "14ff28e7",
   "metadata": {},
   "outputs": [],
   "source": [
    "# Replacing the unicode space (non-breaking space) with a space in the movie titles\n",
    "movie_df['title'] = movie_df['title'].apply(lambda x: str(x).replace(u'\\xa0', u' '))"
   ]
  },
  {
   "cell_type": "code",
   "execution_count": 24,
   "id": "3b216dfe",
   "metadata": {},
   "outputs": [
    {
     "name": "stdout",
     "output_type": "stream",
     "text": [
      "<class 'pandas.core.frame.DataFrame'>\n",
      "RangeIndex: 100 entries, 0 to 99\n",
      "Data columns (total 6 columns):\n",
      " #   Column                      Non-Null Count  Dtype \n",
      "---  ------                      --------------  ----- \n",
      " 0   title                       100 non-null    object\n",
      " 1   audience_score              100 non-null    object\n",
      " 2   number_of_audience_ratings  100 non-null    object\n",
      " 3   movie_genre                 100 non-null    object\n",
      " 4   movie_author                100 non-null    object\n",
      " 5   movie_director              100 non-null    object\n",
      "dtypes: object(6)\n",
      "memory usage: 4.8+ KB\n"
     ]
    }
   ],
   "source": [
    "movie_df.info()"
   ]
  },
  {
   "cell_type": "code",
   "execution_count": 25,
   "id": "affeb93c",
   "metadata": {},
   "outputs": [
    {
     "data": {
      "text/plain": [
       "(100, 6)"
      ]
     },
     "execution_count": 25,
     "metadata": {},
     "output_type": "execute_result"
    }
   ],
   "source": [
    "# Shape of the dataframe\n",
    "movie_df.shape"
   ]
  },
  {
   "cell_type": "code",
   "execution_count": 26,
   "id": "3a152f12",
   "metadata": {},
   "outputs": [
    {
     "data": {
      "text/plain": [
       "55"
      ]
     },
     "execution_count": 26,
     "metadata": {},
     "output_type": "execute_result"
    }
   ],
   "source": [
    "# The unique values in the genre column\n",
    "movie_df.movie_genre.nunique()"
   ]
  },
  {
   "cell_type": "code",
   "execution_count": 27,
   "id": "84a7488c",
   "metadata": {},
   "outputs": [
    {
     "data": {
      "text/plain": [
       "81"
      ]
     },
     "execution_count": 27,
     "metadata": {},
     "output_type": "execute_result"
    }
   ],
   "source": [
    "# Unique values in the authors column\n",
    "movie_df.movie_author.nunique()"
   ]
  },
  {
   "cell_type": "code",
   "execution_count": 28,
   "id": "f2041a37",
   "metadata": {},
   "outputs": [
    {
     "data": {
      "text/plain": [
       "98"
      ]
     },
     "execution_count": 28,
     "metadata": {},
     "output_type": "execute_result"
    }
   ],
   "source": [
    "# Unique values in the director column\n",
    "movie_df.movie_director.nunique()"
   ]
  },
  {
   "cell_type": "code",
   "execution_count": 29,
   "id": "f8847fe5",
   "metadata": {},
   "outputs": [],
   "source": [
    "# Merging the dataframe\n",
    "data=movie_df.merge(best_movies,on='title',how='inner')"
   ]
  },
  {
   "cell_type": "code",
   "execution_count": 30,
   "id": "f883f614",
   "metadata": {
    "scrolled": false
   },
   "outputs": [
    {
     "data": {
      "text/html": [
       "<div>\n",
       "<style scoped>\n",
       "    .dataframe tbody tr th:only-of-type {\n",
       "        vertical-align: middle;\n",
       "    }\n",
       "\n",
       "    .dataframe tbody tr th {\n",
       "        vertical-align: top;\n",
       "    }\n",
       "\n",
       "    .dataframe thead th {\n",
       "        text-align: right;\n",
       "    }\n",
       "</style>\n",
       "<table border=\"1\" class=\"dataframe\">\n",
       "  <thead>\n",
       "    <tr style=\"text-align: right;\">\n",
       "      <th></th>\n",
       "      <th>title</th>\n",
       "      <th>audience_score</th>\n",
       "      <th>number_of_audience_ratings</th>\n",
       "      <th>movie_genre</th>\n",
       "      <th>movie_author</th>\n",
       "      <th>movie_director</th>\n",
       "      <th>ranking</th>\n",
       "      <th>critic_score</th>\n",
       "      <th>number_of_critic_ratings</th>\n",
       "    </tr>\n",
       "  </thead>\n",
       "  <tbody>\n",
       "    <tr>\n",
       "      <th>0</th>\n",
       "      <td>12 Angry Men (Twelve Angry Men) (1957)</td>\n",
       "      <td>97</td>\n",
       "      <td>103672</td>\n",
       "      <td>Classics,Drama</td>\n",
       "      <td>Sidney Lumet</td>\n",
       "      <td>Reginald Rose</td>\n",
       "      <td>53</td>\n",
       "      <td>100</td>\n",
       "      <td>49</td>\n",
       "    </tr>\n",
       "    <tr>\n",
       "      <th>1</th>\n",
       "      <td>The 39 Steps (1935)</td>\n",
       "      <td>86</td>\n",
       "      <td>23647</td>\n",
       "      <td>Action &amp; Adventure,Classics,Mystery &amp; Suspense</td>\n",
       "      <td>Alfred Hitchcock</td>\n",
       "      <td>Alma Reville, Charles Bennett, Ian Hay</td>\n",
       "      <td>76</td>\n",
       "      <td>98</td>\n",
       "      <td>44</td>\n",
       "    </tr>\n",
       "    <tr>\n",
       "      <th>2</th>\n",
       "      <td>The Adventures of Robin Hood (1938)</td>\n",
       "      <td>89</td>\n",
       "      <td>33584</td>\n",
       "      <td>Action &amp; Adventure,Classics,Romance</td>\n",
       "      <td>Michael Curtiz</td>\n",
       "      <td>Norman Reilly Raine, Seton I. Miller</td>\n",
       "      <td>34</td>\n",
       "      <td>100</td>\n",
       "      <td>45</td>\n",
       "    </tr>\n",
       "    <tr>\n",
       "      <th>3</th>\n",
       "      <td>All About Eve (1950)</td>\n",
       "      <td>94</td>\n",
       "      <td>44564</td>\n",
       "      <td>Classics,Comedy,Drama</td>\n",
       "      <td>Joseph L. Mankiewicz</td>\n",
       "      <td>Joseph L. Mankiewicz</td>\n",
       "      <td>7</td>\n",
       "      <td>100</td>\n",
       "      <td>64</td>\n",
       "    </tr>\n",
       "    <tr>\n",
       "      <th>4</th>\n",
       "      <td>All Quiet on the Western Front (1930)</td>\n",
       "      <td>89</td>\n",
       "      <td>17768</td>\n",
       "      <td>Classics,Drama</td>\n",
       "      <td>Lewis Milestone</td>\n",
       "      <td>Lewis Milestone, Maxwell Anderson, Del Andrews...</td>\n",
       "      <td>56</td>\n",
       "      <td>100</td>\n",
       "      <td>40</td>\n",
       "    </tr>\n",
       "    <tr>\n",
       "      <th>...</th>\n",
       "      <td>...</td>\n",
       "      <td>...</td>\n",
       "      <td>...</td>\n",
       "      <td>...</td>\n",
       "      <td>...</td>\n",
       "      <td>...</td>\n",
       "      <td>...</td>\n",
       "      <td>...</td>\n",
       "      <td>...</td>\n",
       "    </tr>\n",
       "    <tr>\n",
       "      <th>92</th>\n",
       "      <td>Up (2009)</td>\n",
       "      <td>90</td>\n",
       "      <td>1201878</td>\n",
       "      <td>Action &amp; Adventure,Animation,Comedy,Kids &amp; Family</td>\n",
       "      <td>Pete Docter</td>\n",
       "      <td>Bob Peterson, Pete Docter, Tom McCarthy, Ronni...</td>\n",
       "      <td>52</td>\n",
       "      <td>98</td>\n",
       "      <td>286</td>\n",
       "    </tr>\n",
       "    <tr>\n",
       "      <th>93</th>\n",
       "      <td>Vertigo (1958)</td>\n",
       "      <td>93</td>\n",
       "      <td>101454</td>\n",
       "      <td>Classics,Drama,Mystery &amp; Suspense,Romance</td>\n",
       "      <td>Alfred Hitchcock</td>\n",
       "      <td>Samuel W. Taylor, Samuel A. Taylor, Alec Coppel</td>\n",
       "      <td>66</td>\n",
       "      <td>97</td>\n",
       "      <td>64</td>\n",
       "    </tr>\n",
       "    <tr>\n",
       "      <th>94</th>\n",
       "      <td>The Wages of Fear (1953)</td>\n",
       "      <td>95</td>\n",
       "      <td>8536</td>\n",
       "      <td>Art House &amp; International,Drama,Mystery &amp; Susp...</td>\n",
       "      <td>Henri-Georges Clouzot</td>\n",
       "      <td>Henri-Georges Clouzot, Jerome Geronimi</td>\n",
       "      <td>91</td>\n",
       "      <td>100</td>\n",
       "      <td>40</td>\n",
       "    </tr>\n",
       "    <tr>\n",
       "      <th>95</th>\n",
       "      <td>Wonder Woman (2017)</td>\n",
       "      <td>90</td>\n",
       "      <td>112955</td>\n",
       "      <td>Action &amp; Adventure,Drama,Science Fiction &amp; Fan...</td>\n",
       "      <td>Patty Jenkins</td>\n",
       "      <td>Allan Heinberg, Zack Snyder, Jason Fuchs</td>\n",
       "      <td>46</td>\n",
       "      <td>92</td>\n",
       "      <td>333</td>\n",
       "    </tr>\n",
       "    <tr>\n",
       "      <th>96</th>\n",
       "      <td>Zootopia (2016)</td>\n",
       "      <td>92</td>\n",
       "      <td>98633</td>\n",
       "      <td>Action &amp; Adventure,Animation,Comedy</td>\n",
       "      <td>Byron Howard</td>\n",
       "      <td>Jared Bush, Phil Johnston</td>\n",
       "      <td>44</td>\n",
       "      <td>98</td>\n",
       "      <td>249</td>\n",
       "    </tr>\n",
       "  </tbody>\n",
       "</table>\n",
       "<p>97 rows × 9 columns</p>\n",
       "</div>"
      ],
      "text/plain": [
       "                                     title audience_score  \\\n",
       "0   12 Angry Men (Twelve Angry Men) (1957)             97   \n",
       "1                      The 39 Steps (1935)             86   \n",
       "2      The Adventures of Robin Hood (1938)             89   \n",
       "3                     All About Eve (1950)             94   \n",
       "4    All Quiet on the Western Front (1930)             89   \n",
       "..                                     ...            ...   \n",
       "92                               Up (2009)             90   \n",
       "93                          Vertigo (1958)             93   \n",
       "94                The Wages of Fear (1953)             95   \n",
       "95                     Wonder Woman (2017)             90   \n",
       "96                         Zootopia (2016)             92   \n",
       "\n",
       "   number_of_audience_ratings  \\\n",
       "0                      103672   \n",
       "1                       23647   \n",
       "2                       33584   \n",
       "3                       44564   \n",
       "4                       17768   \n",
       "..                        ...   \n",
       "92                    1201878   \n",
       "93                     101454   \n",
       "94                       8536   \n",
       "95                     112955   \n",
       "96                      98633   \n",
       "\n",
       "                                          movie_genre           movie_author  \\\n",
       "0                                      Classics,Drama           Sidney Lumet   \n",
       "1      Action & Adventure,Classics,Mystery & Suspense       Alfred Hitchcock   \n",
       "2                 Action & Adventure,Classics,Romance         Michael Curtiz   \n",
       "3                               Classics,Comedy,Drama   Joseph L. Mankiewicz   \n",
       "4                                      Classics,Drama        Lewis Milestone   \n",
       "..                                                ...                    ...   \n",
       "92  Action & Adventure,Animation,Comedy,Kids & Family            Pete Docter   \n",
       "93          Classics,Drama,Mystery & Suspense,Romance       Alfred Hitchcock   \n",
       "94  Art House & International,Drama,Mystery & Susp...  Henri-Georges Clouzot   \n",
       "95  Action & Adventure,Drama,Science Fiction & Fan...          Patty Jenkins   \n",
       "96                Action & Adventure,Animation,Comedy           Byron Howard   \n",
       "\n",
       "                                       movie_director  ranking  critic_score  \\\n",
       "0                                       Reginald Rose       53           100   \n",
       "1              Alma Reville, Charles Bennett, Ian Hay       76            98   \n",
       "2                Norman Reilly Raine, Seton I. Miller       34           100   \n",
       "3                                Joseph L. Mankiewicz        7           100   \n",
       "4   Lewis Milestone, Maxwell Anderson, Del Andrews...       56           100   \n",
       "..                                                ...      ...           ...   \n",
       "92  Bob Peterson, Pete Docter, Tom McCarthy, Ronni...       52            98   \n",
       "93    Samuel W. Taylor, Samuel A. Taylor, Alec Coppel       66            97   \n",
       "94             Henri-Georges Clouzot, Jerome Geronimi       91           100   \n",
       "95           Allan Heinberg, Zack Snyder, Jason Fuchs       46            92   \n",
       "96                          Jared Bush, Phil Johnston       44            98   \n",
       "\n",
       "    number_of_critic_ratings  \n",
       "0                         49  \n",
       "1                         44  \n",
       "2                         45  \n",
       "3                         64  \n",
       "4                         40  \n",
       "..                       ...  \n",
       "92                       286  \n",
       "93                        64  \n",
       "94                        40  \n",
       "95                       333  \n",
       "96                       249  \n",
       "\n",
       "[97 rows x 9 columns]"
      ]
     },
     "execution_count": 30,
     "metadata": {},
     "output_type": "execute_result"
    }
   ],
   "source": [
    "data"
   ]
  },
  {
   "cell_type": "code",
   "execution_count": 31,
   "id": "e67ea69b",
   "metadata": {},
   "outputs": [
    {
     "data": {
      "text/plain": [
       "title                         0\n",
       "audience_score                0\n",
       "number_of_audience_ratings    0\n",
       "movie_genre                   0\n",
       "movie_author                  0\n",
       "movie_director                0\n",
       "ranking                       0\n",
       "critic_score                  0\n",
       "number_of_critic_ratings      0\n",
       "dtype: int64"
      ]
     },
     "execution_count": 31,
     "metadata": {},
     "output_type": "execute_result"
    }
   ],
   "source": [
    "# Checking the missing values\n",
    "data.isnull().sum()"
   ]
  },
  {
   "cell_type": "code",
   "execution_count": 32,
   "id": "1aafe557",
   "metadata": {},
   "outputs": [],
   "source": [
    "#Saving data \n",
    "data.to_csv('rt.csv',index=False)"
   ]
  },
  {
   "cell_type": "code",
   "execution_count": 36,
   "id": "5eb7c568",
   "metadata": {
    "scrolled": true
   },
   "outputs": [
    {
     "name": "stderr",
     "output_type": "stream",
     "text": [
      "en.wikipedia.org (query) E.T._the_Extra-Terrestrial\n",
      "en.wikipedia.org (query) E.T. the Extra-Terrestrial (&plcontinue=...\n",
      "en.wikipedia.org (parse) 73441\n",
      "www.wikidata.org (wikidata) Q11621\n",
      "www.wikidata.org (labels) P9979|Q1044183|P3995|Q377616|Q816843|P3...\n",
      "www.wikidata.org (labels) Q131520|P269|P577|P3138|Q1011509|Q10414...\n",
      "www.wikidata.org (labels) P495|Q8555|P6145|Q105640076|P3844|Q1860...\n",
      "www.wikidata.org (labels) Q104144557|P3077|P840|P8189|Q443775|P24...\n",
      "www.wikidata.org (labels) P5970|P2758|P8313|P437|Q8436|P86|Q68608...\n",
      "en.wikipedia.org (restbase) /page/summary/E.T._the_Extra-Terrestrial\n",
      "en.wikipedia.org (imageinfo) File:E t the extra terrestrial ver3....\n",
      "E.T. the Extra-Terrestrial (en) data\n",
      "{\n",
      "  WARNINGS: <dict(1)> extracts\n",
      "  aliases: <list(2)> E.T., ET\n",
      "  assessments: <dict(4)> United States, Film, Science Fiction, Lib...\n",
      "  claims: <dict(129)> P1562, P57, P272, P345, P31, P161, P373, P48...\n",
      "  description: 1982 American science fiction film\n",
      "  exhtml: <str(461)> <p><i><b>E.T. the Extra-Terrestrial</b></i> i...\n",
      "  exrest: <str(440)> E.T. the Extra-Terrestrial is a 1982 American...\n",
      "  extext: <str(2248)> _**E.T. the Extra-Terrestrial**_ (or simply ...\n",
      "  extract: <str(2374)> <p class=\"mw-empty-elt\"></p><p><i><b>E.T. t...\n",
      "  image: <list(4)> {'kind': 'parse-image', 'file': 'File:E t the e...\n",
      "  infobox: <dict(19)> name, image, alt, caption, director, produce...\n",
      "  iwlinks: <list(6)> https://commons.wikimedia.org/wiki/Category:E...\n",
      "  label: E.T. the Extra-Terrestrial\n",
      "  labels: <dict(249)> P9979, Q1044183, P3995, Q377616, Q816843, P3...\n",
      "  length: 127,836\n",
      "  links: <list(769)> 10th Saturn Awards, 12 Angry Men (1957 film),...\n",
      "  modified: <dict(2)> page, wikidata\n",
      "  pageid: 73441\n",
      "  parsetree: <str(157187)> <root><template><title>short descriptio...\n",
      "  random: The Garden of God\n",
      "  redirects: <list(37)> {'pageid': 177061, 'ns': 0, 'title': 'E.T....\n",
      "  requests: <list(11)> query, query, parse, wikidata, labels, labe...\n",
      "  title: E.T._the_Extra-Terrestrial\n",
      "  url: https://en.wikipedia.org/wiki/E.T._the_Extra-Terrestrial\n",
      "  url_raw: <str(67)> https://en.wikipedia.org/wiki/E.T._the_Extra-...\n",
      "  watchers: 368\n",
      "  what: film\n",
      "  wikibase: Q11621\n",
      "  wikidata: <dict(129)> AllMovie title ID (P1562), director (P57),...\n",
      "  wikidata_pageid: 13150\n",
      "  wikidata_url: https://www.wikidata.org/wiki/Q11621\n",
      "  wikitext: <str(126995)> {{short description|1982 American scienc...\n",
      "}\n"
     ]
    }
   ],
   "source": [
    "# using wptools to download images from wikimedia\n",
    "import wptools\n",
    "page=wptools.page('E.T._the_Extra-Terrestrial').get()"
   ]
  },
  {
   "cell_type": "markdown",
   "id": "61083cba",
   "metadata": {},
   "source": [
    "Accessing Wikipedia page data via the MediaWiki API with wptools inorder to download movie posters"
   ]
  },
  {
   "cell_type": "code",
   "execution_count": 37,
   "id": "81e13281",
   "metadata": {
    "scrolled": true
   },
   "outputs": [
    {
     "data": {
      "text/plain": [
       "{'kind': 'parse-image',\n",
       " 'file': 'File:E t the extra terrestrial ver3.jpg',\n",
       " 'orig': 'E t the extra terrestrial ver3.jpg',\n",
       " 'timestamp': '2016-06-04T10:30:46Z',\n",
       " 'size': 83073,\n",
       " 'width': 253,\n",
       " 'height': 394,\n",
       " 'url': 'https://upload.wikimedia.org/wikipedia/en/6/66/E_t_the_extra_terrestrial_ver3.jpg',\n",
       " 'descriptionurl': 'https://en.wikipedia.org/wiki/File:E_t_the_extra_terrestrial_ver3.jpg',\n",
       " 'descriptionshorturl': 'https://en.wikipedia.org/w/index.php?curid=7419503',\n",
       " 'title': 'File:E t the extra terrestrial ver3.jpg',\n",
       " 'metadata': {'DateTime': {'value': '2016-06-04 10:30:46',\n",
       "   'source': 'mediawiki-metadata',\n",
       "   'hidden': ''},\n",
       "  'ObjectName': {'value': 'E t the extra terrestrial ver3',\n",
       "   'source': 'mediawiki-metadata',\n",
       "   'hidden': ''},\n",
       "  'CommonsMetadataExtension': {'value': 1.2,\n",
       "   'source': 'extension',\n",
       "   'hidden': ''},\n",
       "  'Categories': {'value': 'All non-free media|E.T. the Extra-Terrestrial|Fair use images of film posters|Files with no machine-readable author|Noindexed pages|Wikipedia non-free files for NFUR review|Wikipedia non-free files with valid backlink',\n",
       "   'source': 'commons-categories',\n",
       "   'hidden': ''},\n",
       "  'Assessments': {'value': '', 'source': 'commons-categories', 'hidden': ''},\n",
       "  'ImageDescription': {'value': '<p>This is a poster for  <i>E.T. the Extra-Terrestrial</i>. <br>The poster art copyright is believed to belong to <a href=\"//en.wikipedia.org/wiki/John_Alvin\" title=\"John Alvin\">John Alvin</a>.\\n</p>',\n",
       "   'source': 'commons-desc-page'},\n",
       "  'Credit': {'value': '<p>The poster art can or could be obtained from <a href=\"//en.wikipedia.org/wiki/John_Alvin\" title=\"John Alvin\">John Alvin</a>.\\n</p>',\n",
       "   'source': 'commons-desc-page',\n",
       "   'hidden': ''},\n",
       "  'LicenseShortName': {'value': 'Fair use',\n",
       "   'source': 'commons-desc-page',\n",
       "   'hidden': ''},\n",
       "  'UsageTerms': {'value': '<a href=\"//en.wikipedia.org/wiki/Wikipedia:Non-free_use_rationale_guideline\" title=\"Wikipedia:Non-free use rationale guideline\">Fair use</a> of copyrighted material in the context of <a href=\"//en.wikipedia.org/wiki/E.T._the_Extra-Terrestrial\" title=\"E.T. the Extra-Terrestrial\">E.T. the Extra-Terrestrial</a>',\n",
       "   'source': 'commons-desc-page',\n",
       "   'hidden': ''},\n",
       "  'Attribution': {'value': '<p>The poster art can or could be obtained from <a href=\"//en.wikipedia.org/wiki/John_Alvin\" title=\"John Alvin\">John Alvin</a>.\\n</p>',\n",
       "   'source': 'commons-desc-page',\n",
       "   'hidden': ''},\n",
       "  'LicenseUrl': {'value': '//en.wikipedia.org/wiki/File:E_t_the_extra_terrestrial_ver3.jpg',\n",
       "   'source': 'commons-desc-page',\n",
       "   'hidden': ''},\n",
       "  'NonFree': {'value': 'true', 'source': 'commons-desc-page', 'hidden': ''},\n",
       "  'Copyrighted': {'value': 'True',\n",
       "   'source': 'commons-desc-page',\n",
       "   'hidden': ''},\n",
       "  'Restrictions': {'value': '', 'source': 'commons-desc-page', 'hidden': ''}}}"
      ]
     },
     "execution_count": 37,
     "metadata": {},
     "output_type": "execute_result"
    }
   ],
   "source": [
    "# Accessing the first image in the images attribute, which is a JSON array.\n",
    "image1=page.data['image'][0]\n",
    "image1"
   ]
  },
  {
   "cell_type": "code",
   "execution_count": 40,
   "id": "f1aeb2d5",
   "metadata": {},
   "outputs": [
    {
     "name": "stdout",
     "output_type": "stream",
     "text": [
      "The url for the first image is:\n",
      " https://upload.wikimedia.org/wikipedia/en/6/66/E_t_the_extra_terrestrial_ver3.jpg\n"
     ]
    },
    {
     "data": {
      "image/png": "[encoded data removed]",
      "text/plain": [
       "<PIL.JpegImagePlugin.JpegImageFile image mode=RGB size=253x394 at 0xA58E72BD60>"
      ]
     },
     "execution_count": 40,
     "metadata": {},
     "output_type": "execute_result"
    }
   ],
   "source": [
    "#Accessing the first image url using PIL(pillow) and BytesIO for accessing non-text requests\n",
    "image1_url=image1['url']\n",
    "print('The url for the first image is:\\n',image1_url)\n",
    "#Downloading the first image \n",
    "Image.open(BytesIO(requests.get(image1_url).content))\n",
    "#im=Image.open(BytesIO(re.content))"
   ]
  },
  {
   "cell_type": "code",
   "execution_count": null,
   "id": "4e1338d7",
   "metadata": {},
   "outputs": [],
   "source": []
  },
  {
   "cell_type": "code",
   "execution_count": 41,
   "id": "3fa9af6a",
   "metadata": {},
   "outputs": [
    {
     "data": {
      "text/plain": [
       "'Steven Spielberg'"
      ]
     },
     "execution_count": 41,
     "metadata": {},
     "output_type": "execute_result"
    }
   ],
   "source": [
    "#Accessing the director key of the infobox attribute, which is a JSON object.\n",
    "page.data['infobox']['director'][2:-2]"
   ]
  },
  {
   "cell_type": "markdown",
   "id": "1bb824e0",
   "metadata": {},
   "source": [
    "### Data visualization can be informative, but it can also be art.\n",
    "We've gathered the data to produce our second goal visualization, the Roger Ebert Review word cloud!\n",
    "These word clouds required gathering data from two different sources: downloading files from the internet, i.e. the Roger Ebert review text files, and accessing data from an API, i.e. the movie poster URLs. And this data was in two formats, .txt and JSON."
   ]
  },
  {
   "cell_type": "code",
   "execution_count": 42,
   "id": "b2da9094",
   "metadata": {},
   "outputs": [],
   "source": [
    " # Lists of titles\n",
    "title_list = [\n",
    " 'The_Wizard_of_Oz_(1939_film)',\n",
    " 'Citizen_Kane',\n",
    " 'The_Third_Man',\n",
    " 'Get_Out_(film)',\n",
    " 'Mad_Max:_Fury_Road',\n",
    " 'The_Cabinet_of_Dr._Caligari',\n",
    " 'All_About_Eve',\n",
    " 'Inside_Out_(2015_film)',\n",
    " 'The_Godfather',\n",
    " 'Metropolis_(1927_film)',\n",
    " 'E.T._the_Extra-Terrestrial',\n",
    " 'Modern_Times_(film)',\n",
    " 'It_Happened_One_Night',\n",
    " \"Singin'_in_the_Rain\",\n",
    " 'Boyhood_(film)',\n",
    " 'Casablanca_(film)',\n",
    " 'Moonlight_(2016_film)',\n",
    " 'Psycho_(1960_film)',\n",
    " 'Laura_(1944_film)',\n",
    " 'Nosferatu',\n",
    " 'Snow_White_and_the_Seven_Dwarfs_(1937_film)',\n",
    " \"A_Hard_Day%27s_Night_(film)\",\n",
    " 'La_Grande_Illusion',\n",
    " 'North_by_Northwest',\n",
    " 'The_Battle_of_Algiers',\n",
    " 'Dunkirk_(2017_film)',\n",
    " 'The_Maltese_Falcon_(1941_film)',\n",
    " 'Repulsion_(film)',\n",
    " '12_Years_a_Slave_(film)',\n",
    " 'Gravity_(2013_film)',\n",
    " 'Sunset_Boulevard_(film)',\n",
    " 'King_Kong_(1933_film)',\n",
    " 'Spotlight_(film)',\n",
    " 'The_Adventures_of_Robin_Hood',\n",
    " 'Rashomon',\n",
    " 'Rear_Window',\n",
    " 'Selma_(film)',\n",
    " 'Taxi_Driver',\n",
    " 'Toy_Story_3',\n",
    " 'Argo_(2012_film)',\n",
    " 'Toy_Story_2',\n",
    " 'The_Big_Sick',\n",
    " 'Bride_of_Frankenstein',\n",
    " 'Zootopia',\n",
    " 'M_(1931_film)',\n",
    " 'Wonder_Woman_(2017_film)',\n",
    " 'The_Philadelphia_Story_(film)',\n",
    " 'Alien_(film)',\n",
    " 'Bicycle_Thieves',\n",
    " 'Seven_Samurai',\n",
    " 'The_Treasure_of_the_Sierra_Madre_(film)',\n",
    " 'Up_(2009_film)',\n",
    " '12_Angry_Men_(1957_film)',\n",
    " 'The_400_Blows',\n",
    " 'Logan_(film)',\n",
    " 'All_Quiet_on_the_Western_Front_(1930_film)',\n",
    " 'Army_of_Shadows',\n",
    " 'Arrival_(film)',\n",
    " 'Baby_Driver',\n",
    " 'A_Streetcar_Named_Desire_(1951_film)',\n",
    " 'The_Night_of_the_Hunter_(film)',\n",
    " 'Star_Wars:_The_Force_Awakens',\n",
    " 'Manchester_by_the_Sea_(film)',\n",
    " 'Dr._Strangelove',\n",
    " 'Frankenstein_(1931_film)',\n",
    " 'Vertigo_(film)',\n",
    " 'The_Dark_Knight_(film)',\n",
    " 'Touch_of_Evil',\n",
    " 'The_Babadook',\n",
    " 'The_Conformist_(film)',\n",
    " 'Rebecca_(1940_film)',\n",
    " \"Rosemary%27s_Baby_(film)\",\n",
    " 'Finding_Nemo',\n",
    " 'Brooklyn_(film)',\n",
    " 'The_Wrestler_(2008_film)',\n",
    " 'The_39_Steps_(1935_film)',\n",
    " 'L.A._Confidential_(film)',\n",
    " 'Gone_with_the_Wind_(film)',\n",
    " 'The_Good,_the_Bad_and_the_Ugly',\n",
    " 'Skyfall',\n",
    " 'Rome,_Open_City',\n",
    " 'Tokyo_Story',\n",
    " 'Hell_or_High_Water_(film)',\n",
    " 'Pinocchio_(1940_film)',\n",
    " 'The_Jungle_Book_(2016_film)',\n",
    " 'La_La_Land_(film)',\n",
    " 'Star_Trek_(film)',\n",
    " 'High_Noon',\n",
    " 'Apocalypse_Now',\n",
    " 'On_the_Waterfront',\n",
    " 'The_Wages_of_Fear',\n",
    " 'The_Last_Picture_Show',\n",
    " 'Harry_Potter_and_the_Deathly_Hallows_–_Part_2',\n",
    " 'The_Grapes_of_Wrath_(film)',\n",
    " 'Roman_Holiday',\n",
    " 'Man_on_Wire',\n",
    " 'Jaws_(film)',\n",
    " 'Toy_Story',\n",
    " 'The_Godfather_Part_II',\n",
    " 'Battleship_Potemkin'\n",
    "]"
   ]
  },
  {
   "cell_type": "code",
   "execution_count": 43,
   "id": "2f9991cb",
   "metadata": {},
   "outputs": [],
   "source": [
    "# Creating a directory if it does not exist\n",
    "folder='movie_posters'\n",
    "if not os.path.exists(folder):\n",
    "    os.makedirs(folder)\n"
   ]
  },
  {
   "cell_type": "code",
   "execution_count": 44,
   "id": "001d8696",
   "metadata": {},
   "outputs": [
    {
     "data": {
      "text/plain": [
       "99"
      ]
     },
     "execution_count": 44,
     "metadata": {},
     "output_type": "execute_result"
    }
   ],
   "source": [
    "title_list.index('Battleship_Potemkin')"
   ]
  },
  {
   "cell_type": "code",
   "execution_count": 48,
   "id": "6f0ef3c4",
   "metadata": {},
   "outputs": [
    {
     "name": "stdout",
     "output_type": "stream",
     "text": [
      "1\n",
      "1_The_Wizard_of_Oz_(1939_film):cannot identify image file <_io.BytesIO object at 0x000000A5AC6F8CC0>\n",
      "2\n",
      "2_Citizen_Kane:cannot identify image file <_io.BytesIO object at 0x000000A5AC730D60>\n",
      "3\n",
      "3_The_Third_Man:cannot identify image file <_io.BytesIO object at 0x000000A5AC578590>\n",
      "4\n",
      "5\n",
      "6\n",
      "6_The_Cabinet_of_Dr._Caligari:cannot identify image file <_io.BytesIO object at 0x000000A5AC3705E0>\n",
      "7\n",
      "7_All_About_Eve:cannot identify image file <_io.BytesIO object at 0x000000A5AC7B9EA0>\n",
      "8\n",
      "9\n",
      "10\n",
      "10_Metropolis_(1927_film):cannot identify image file <_io.BytesIO object at 0x000000A5ABEB2E00>\n",
      "11\n",
      "12\n",
      "12_Modern_Times_(film):cannot identify image file <_io.BytesIO object at 0x000000A5AC5709A0>\n",
      "13\n",
      "13_It_Happened_One_Night:cannot identify image file <_io.BytesIO object at 0x000000A5AC3BE770>\n",
      "14\n",
      "14_Singin'_in_the_Rain:cannot identify image file <_io.BytesIO object at 0x000000A5AC3515E0>\n",
      "15\n",
      "15_Boyhood_(film):'image'\n",
      "16\n",
      "17\n",
      "18\n",
      "18_Psycho_(1960_film):cannot identify image file <_io.BytesIO object at 0x000000A5AC3599F0>\n",
      "19\n",
      "19_Laura_(1944_film):cannot identify image file <_io.BytesIO object at 0x000000A5AC7B9A40>\n",
      "20\n",
      "20_Nosferatu:cannot identify image file <_io.BytesIO object at 0x000000A5AC578CC0>\n",
      "21\n",
      "22\n"
     ]
    },
    {
     "name": "stderr",
     "output_type": "stream",
     "text": [
      "API error: {'code': 'invalidtitle', 'info': 'Bad title \"A_Hard_Day%27s_Night_(film)\".', 'docref': 'See https://en.wikipedia.org/w/api.php for API usage. Subscribe to the mediawiki-api-announce mailing list at &lt;https://lists.wikimedia.org/postorius/lists/mediawiki-api-announce.lists.wikimedia.org/&gt; for notice of API deprecations and breaking changes.'}\n"
     ]
    },
    {
     "name": "stdout",
     "output_type": "stream",
     "text": [
      "22_A_Hard_Day%27s_Night_(film):https://en.wikipedia.org/w/api.php?action=parse&formatversion=2&contentmodel=text&disableeditsection=&disablelimitreport=&disabletoc=&prop=text|iwlinks|parsetree|wikitext|displaytitle|properties&redirects&page=A_Hard_Day%2527s_Night_%28film%29\n",
      "23\n",
      "24\n",
      "24_North_by_Northwest:cannot identify image file <_io.BytesIO object at 0x000000A5AC7B9810>\n",
      "25\n",
      "26\n",
      "27\n",
      "27_The_Maltese_Falcon_(1941_film):cannot identify image file <_io.BytesIO object at 0x000000A5AC5709A0>\n",
      "28\n",
      "29\n",
      "30\n",
      "31\n",
      "31_Sunset_Boulevard_(film):cannot identify image file <_io.BytesIO object at 0x000000A5AC139F90>\n",
      "32\n",
      "33\n",
      "34\n",
      "34_The_Adventures_of_Robin_Hood:cannot identify image file <_io.BytesIO object at 0x000000A5AC130310>\n",
      "35\n",
      "35_Rashomon:cannot identify image file <_io.BytesIO object at 0x000000A5AC394F90>\n",
      "36\n",
      "37\n",
      "37_Selma_(film):cannot identify image file <_io.BytesIO object at 0x000000A5AC2DC540>\n",
      "38\n",
      "39\n",
      "40\n",
      "41\n",
      "42\n",
      "43\n",
      "43_Bride_of_Frankenstein:cannot identify image file <_io.BytesIO object at 0x000000A5AC1481D0>\n",
      "44\n",
      "45\n",
      "46\n",
      "47\n",
      "47_The_Philadelphia_Story_(film):cannot identify image file <_io.BytesIO object at 0x000000A5ABEA7B80>\n",
      "48\n",
      "49\n",
      "50\n",
      "50_Seven_Samurai:cannot identify image file <_io.BytesIO object at 0x000000A5AC730950>\n",
      "51\n",
      "51_The_Treasure_of_the_Sierra_Madre_(film):cannot identify image file <_io.BytesIO object at 0x000000A5AC5783B0>\n",
      "52\n",
      "53\n",
      "53_12_Angry_Men_(1957_film):cannot identify image file <_io.BytesIO object at 0x000000A5AC2DCF40>\n",
      "54\n",
      "55\n",
      "56\n",
      "56_All_Quiet_on_the_Western_Front_(1930_film):cannot identify image file <_io.BytesIO object at 0x000000A5AC7B9720>\n",
      "57\n",
      "58\n",
      "59\n",
      "60\n",
      "60_A_Streetcar_Named_Desire_(1951_film):cannot identify image file <_io.BytesIO object at 0x000000A5AC578090>\n",
      "61\n",
      "61_The_Night_of_the_Hunter_(film):cannot identify image file <_io.BytesIO object at 0x000000A5AC3FA3B0>\n",
      "62\n",
      "63\n",
      "64\n",
      "65\n",
      "66\n",
      "66_Vertigo_(film):cannot identify image file <_io.BytesIO object at 0x000000A5AC3B7040>\n",
      "67\n",
      "68\n",
      "68_Touch_of_Evil:cannot identify image file <_io.BytesIO object at 0x000000A5AC510F90>\n",
      "69\n",
      "70\n",
      "71\n",
      "71_Rebecca_(1940_film):cannot identify image file <_io.BytesIO object at 0x000000A5AC559400>\n",
      "72\n"
     ]
    },
    {
     "name": "stderr",
     "output_type": "stream",
     "text": [
      "API error: {'code': 'invalidtitle', 'info': 'Bad title \"Rosemary%27s_Baby_(film)\".', 'docref': 'See https://en.wikipedia.org/w/api.php for API usage. Subscribe to the mediawiki-api-announce mailing list at &lt;https://lists.wikimedia.org/postorius/lists/mediawiki-api-announce.lists.wikimedia.org/&gt; for notice of API deprecations and breaking changes.'}\n"
     ]
    },
    {
     "name": "stdout",
     "output_type": "stream",
     "text": [
      "72_Rosemary%27s_Baby_(film):https://en.wikipedia.org/w/api.php?action=parse&formatversion=2&contentmodel=text&disableeditsection=&disablelimitreport=&disabletoc=&prop=text|iwlinks|parsetree|wikitext|displaytitle|properties&redirects&page=Rosemary%2527s_Baby_%28film%29\n",
      "73\n",
      "74\n",
      "75\n",
      "76\n",
      "76_The_39_Steps_(1935_film):cannot identify image file <_io.BytesIO object at 0x000000A5AC12E1D0>\n",
      "77\n",
      "78\n",
      "78_Gone_with_the_Wind_(film):cannot identify image file <_io.BytesIO object at 0x000000A5AC394E50>\n",
      "79\n",
      "80\n",
      "81\n",
      "81_Rome,_Open_City:cannot identify image file <_io.BytesIO object at 0x000000A5AC16A2C0>\n",
      "82\n",
      "82_Tokyo_Story:cannot identify image file <_io.BytesIO object at 0x000000A5AC360EA0>\n",
      "83\n",
      "84\n",
      "85\n",
      "86\n",
      "87\n",
      "88\n",
      "88_High_Noon:cannot identify image file <_io.BytesIO object at 0x000000A5AC3C8C70>\n",
      "89\n",
      "90\n",
      "90_On_the_Waterfront:cannot identify image file <_io.BytesIO object at 0x000000A5AC528F90>\n",
      "91\n",
      "91_The_Wages_of_Fear:cannot identify image file <_io.BytesIO object at 0x000000A5AC559360>\n",
      "92\n",
      "92_The_Last_Picture_Show:cannot identify image file <_io.BytesIO object at 0x000000A5AC2DCB80>\n",
      "93\n",
      "94\n",
      "94_The_Grapes_of_Wrath_(film):cannot identify image file <_io.BytesIO object at 0x000000A5ABEA87C0>\n",
      "95\n",
      "95_Roman_Holiday:cannot identify image file <_io.BytesIO object at 0x000000A5AC14E450>\n",
      "96\n",
      "96_Man_on_Wire:cannot identify image file <_io.BytesIO object at 0x000000A5AC378040>\n",
      "97\n",
      "98\n",
      "99\n",
      "100\n",
      "100_Battleship_Potemkin:cannot identify image file <_io.BytesIO object at 0x000000A5AC43C450>\n"
     ]
    }
   ],
   "source": [
    "# \n",
    "image_list=[]\n",
    "image_errors={}\n",
    "for title in title_list:\n",
    "    try:\n",
    "        ranking=title_list.index(title) + 1\n",
    "        print(ranking)\n",
    "        page=wptools.page(title,silent=True)\n",
    "        #Getting data  for image\n",
    "        images=page.get().data['image']\n",
    "        #The first image with poster url\n",
    "        first_image_url=images[0]['url']\n",
    "        r=requests.get(first_image_url)\n",
    "        #Downloading the poster\n",
    "        i=Image.open(BytesIO(r.content))\n",
    "        image_file_format=first_image_url.split('.')[-1]\n",
    "        i.save(folder + '/' + str(ranking) +'_' + title + '.' + image_file_format)\n",
    "        #Append to the list of dictionaries\n",
    "        image_list.append({'ranking':int(ranking),\n",
    "                          'title':title,\n",
    "                          'poster_url':first_image_url})\n",
    "        #Catching the exceptions\n",
    "    except Exception as e:\n",
    "        print(str(ranking) + '_' + title + ':' + str(e))\n",
    "        image_errors[str(ranking) + '_' + title]= images\n",
    "            "
   ]
  },
  {
   "cell_type": "code",
   "execution_count": 49,
   "id": "1b56cc7f",
   "metadata": {},
   "outputs": [
    {
     "name": "stdout",
     "output_type": "stream",
     "text": [
      "1_The_Wizard_of_Oz_(1939_film)\n",
      "2_Citizen_Kane\n",
      "3_The_Third_Man\n",
      "6_The_Cabinet_of_Dr._Caligari\n",
      "7_All_About_Eve\n",
      "10_Metropolis_(1927_film)\n",
      "12_Modern_Times_(film)\n",
      "13_It_Happened_One_Night\n",
      "14_Singin'_in_the_Rain\n",
      "15_Boyhood_(film)\n",
      "18_Psycho_(1960_film)\n",
      "19_Laura_(1944_film)\n",
      "20_Nosferatu\n",
      "22_A_Hard_Day%27s_Night_(film)\n",
      "24_North_by_Northwest\n",
      "27_The_Maltese_Falcon_(1941_film)\n",
      "31_Sunset_Boulevard_(film)\n",
      "34_The_Adventures_of_Robin_Hood\n",
      "35_Rashomon\n",
      "37_Selma_(film)\n",
      "43_Bride_of_Frankenstein\n",
      "47_The_Philadelphia_Story_(film)\n",
      "50_Seven_Samurai\n",
      "51_The_Treasure_of_the_Sierra_Madre_(film)\n",
      "53_12_Angry_Men_(1957_film)\n",
      "56_All_Quiet_on_the_Western_Front_(1930_film)\n",
      "60_A_Streetcar_Named_Desire_(1951_film)\n",
      "61_The_Night_of_the_Hunter_(film)\n",
      "66_Vertigo_(film)\n",
      "68_Touch_of_Evil\n",
      "71_Rebecca_(1940_film)\n",
      "72_Rosemary%27s_Baby_(film)\n",
      "76_The_39_Steps_(1935_film)\n",
      "78_Gone_with_the_Wind_(film)\n",
      "81_Rome,_Open_City\n",
      "82_Tokyo_Story\n",
      "88_High_Noon\n",
      "90_On_the_Waterfront\n",
      "91_The_Wages_of_Fear\n",
      "92_The_Last_Picture_Show\n",
      "94_The_Grapes_of_Wrath_(film)\n",
      "95_Roman_Holiday\n",
      "96_Man_on_Wire\n",
      "100_Battleship_Potemkin\n"
     ]
    }
   ],
   "source": [
    "for key in image_errors.keys():\n",
    "    print(key)"
   ]
  },
  {
   "cell_type": "code",
   "execution_count": 97,
   "id": "ebe7e394",
   "metadata": {
    "scrolled": true
   },
   "outputs": [
    {
     "data": {
      "text/html": [
       "<div>\n",
       "<style scoped>\n",
       "    .dataframe tbody tr th:only-of-type {\n",
       "        vertical-align: middle;\n",
       "    }\n",
       "\n",
       "    .dataframe tbody tr th {\n",
       "        vertical-align: top;\n",
       "    }\n",
       "\n",
       "    .dataframe thead th {\n",
       "        text-align: right;\n",
       "    }\n",
       "</style>\n",
       "<table border=\"1\" class=\"dataframe\">\n",
       "  <thead>\n",
       "    <tr style=\"text-align: right;\">\n",
       "      <th></th>\n",
       "      <th>title</th>\n",
       "      <th>poster_url</th>\n",
       "    </tr>\n",
       "  </thead>\n",
       "  <tbody>\n",
       "    <tr>\n",
       "      <th>0</th>\n",
       "      <td>Get_Out_(film)</td>\n",
       "      <td>https://upload.wikimedia.org/wikipedia/en/a/a3...</td>\n",
       "    </tr>\n",
       "    <tr>\n",
       "      <th>1</th>\n",
       "      <td>Mad_Max:_Fury_Road</td>\n",
       "      <td>https://upload.wikimedia.org/wikipedia/en/6/6e...</td>\n",
       "    </tr>\n",
       "    <tr>\n",
       "      <th>2</th>\n",
       "      <td>Inside_Out_(2015_film)</td>\n",
       "      <td>https://upload.wikimedia.org/wikipedia/en/0/0a...</td>\n",
       "    </tr>\n",
       "    <tr>\n",
       "      <th>3</th>\n",
       "      <td>The_Godfather</td>\n",
       "      <td>https://upload.wikimedia.org/wikipedia/en/1/1c...</td>\n",
       "    </tr>\n",
       "    <tr>\n",
       "      <th>4</th>\n",
       "      <td>E.T._the_Extra-Terrestrial</td>\n",
       "      <td>https://upload.wikimedia.org/wikipedia/en/6/66...</td>\n",
       "    </tr>\n",
       "    <tr>\n",
       "      <th>5</th>\n",
       "      <td>Casablanca_(film)</td>\n",
       "      <td>https://upload.wikimedia.org/wikipedia/commons...</td>\n",
       "    </tr>\n",
       "    <tr>\n",
       "      <th>6</th>\n",
       "      <td>Moonlight_(2016_film)</td>\n",
       "      <td>https://upload.wikimedia.org/wikipedia/en/8/84...</td>\n",
       "    </tr>\n",
       "    <tr>\n",
       "      <th>7</th>\n",
       "      <td>Snow_White_and_the_Seven_Dwarfs_(1937_film)</td>\n",
       "      <td>https://upload.wikimedia.org/wikipedia/en/4/49...</td>\n",
       "    </tr>\n",
       "    <tr>\n",
       "      <th>8</th>\n",
       "      <td>La_Grande_Illusion</td>\n",
       "      <td>https://upload.wikimedia.org/wikipedia/en/3/33...</td>\n",
       "    </tr>\n",
       "    <tr>\n",
       "      <th>9</th>\n",
       "      <td>The_Battle_of_Algiers</td>\n",
       "      <td>https://upload.wikimedia.org/wikipedia/en/a/aa...</td>\n",
       "    </tr>\n",
       "    <tr>\n",
       "      <th>10</th>\n",
       "      <td>Dunkirk_(2017_film)</td>\n",
       "      <td>https://upload.wikimedia.org/wikipedia/en/1/15...</td>\n",
       "    </tr>\n",
       "    <tr>\n",
       "      <th>11</th>\n",
       "      <td>Repulsion_(film)</td>\n",
       "      <td>https://upload.wikimedia.org/wikipedia/en/8/89...</td>\n",
       "    </tr>\n",
       "    <tr>\n",
       "      <th>12</th>\n",
       "      <td>12_Years_a_Slave_(film)</td>\n",
       "      <td>https://upload.wikimedia.org/wikipedia/en/5/5c...</td>\n",
       "    </tr>\n",
       "    <tr>\n",
       "      <th>13</th>\n",
       "      <td>Gravity_(2013_film)</td>\n",
       "      <td>https://upload.wikimedia.org/wikipedia/en/f/f6...</td>\n",
       "    </tr>\n",
       "    <tr>\n",
       "      <th>14</th>\n",
       "      <td>King_Kong_(1933_film)</td>\n",
       "      <td>https://upload.wikimedia.org/wikipedia/commons...</td>\n",
       "    </tr>\n",
       "    <tr>\n",
       "      <th>15</th>\n",
       "      <td>Spotlight_(film)</td>\n",
       "      <td>https://upload.wikimedia.org/wikipedia/en/f/f3...</td>\n",
       "    </tr>\n",
       "    <tr>\n",
       "      <th>16</th>\n",
       "      <td>Rear_Window</td>\n",
       "      <td>https://upload.wikimedia.org/wikipedia/commons...</td>\n",
       "    </tr>\n",
       "    <tr>\n",
       "      <th>17</th>\n",
       "      <td>Taxi_Driver</td>\n",
       "      <td>https://upload.wikimedia.org/wikipedia/en/3/33...</td>\n",
       "    </tr>\n",
       "    <tr>\n",
       "      <th>18</th>\n",
       "      <td>Toy_Story_3</td>\n",
       "      <td>https://upload.wikimedia.org/wikipedia/en/6/69...</td>\n",
       "    </tr>\n",
       "    <tr>\n",
       "      <th>19</th>\n",
       "      <td>Argo_(2012_film)</td>\n",
       "      <td>https://upload.wikimedia.org/wikipedia/en/e/e1...</td>\n",
       "    </tr>\n",
       "    <tr>\n",
       "      <th>20</th>\n",
       "      <td>Toy_Story_2</td>\n",
       "      <td>https://upload.wikimedia.org/wikipedia/en/c/c0...</td>\n",
       "    </tr>\n",
       "    <tr>\n",
       "      <th>21</th>\n",
       "      <td>The_Big_Sick</td>\n",
       "      <td>https://upload.wikimedia.org/wikipedia/en/6/69...</td>\n",
       "    </tr>\n",
       "    <tr>\n",
       "      <th>22</th>\n",
       "      <td>Zootopia</td>\n",
       "      <td>https://upload.wikimedia.org/wikipedia/en/9/96...</td>\n",
       "    </tr>\n",
       "    <tr>\n",
       "      <th>23</th>\n",
       "      <td>M_(1931_film)</td>\n",
       "      <td>https://upload.wikimedia.org/wikipedia/en/a/ab...</td>\n",
       "    </tr>\n",
       "    <tr>\n",
       "      <th>24</th>\n",
       "      <td>Wonder_Woman_(2017_film)</td>\n",
       "      <td>https://upload.wikimedia.org/wikipedia/en/b/b0...</td>\n",
       "    </tr>\n",
       "    <tr>\n",
       "      <th>25</th>\n",
       "      <td>Alien_(film)</td>\n",
       "      <td>https://upload.wikimedia.org/wikipedia/en/c/c3...</td>\n",
       "    </tr>\n",
       "    <tr>\n",
       "      <th>26</th>\n",
       "      <td>Bicycle_Thieves</td>\n",
       "      <td>https://upload.wikimedia.org/wikipedia/en/2/20...</td>\n",
       "    </tr>\n",
       "    <tr>\n",
       "      <th>27</th>\n",
       "      <td>Up_(2009_film)</td>\n",
       "      <td>https://upload.wikimedia.org/wikipedia/en/0/05...</td>\n",
       "    </tr>\n",
       "    <tr>\n",
       "      <th>28</th>\n",
       "      <td>The_400_Blows</td>\n",
       "      <td>https://upload.wikimedia.org/wikipedia/en/f/f9...</td>\n",
       "    </tr>\n",
       "    <tr>\n",
       "      <th>29</th>\n",
       "      <td>Logan_(film)</td>\n",
       "      <td>https://upload.wikimedia.org/wikipedia/en/3/37...</td>\n",
       "    </tr>\n",
       "    <tr>\n",
       "      <th>30</th>\n",
       "      <td>Army_of_Shadows</td>\n",
       "      <td>https://upload.wikimedia.org/wikipedia/en/0/08...</td>\n",
       "    </tr>\n",
       "    <tr>\n",
       "      <th>31</th>\n",
       "      <td>Arrival_(film)</td>\n",
       "      <td>https://upload.wikimedia.org/wikipedia/en/d/df...</td>\n",
       "    </tr>\n",
       "    <tr>\n",
       "      <th>32</th>\n",
       "      <td>Baby_Driver</td>\n",
       "      <td>https://upload.wikimedia.org/wikipedia/en/8/8e...</td>\n",
       "    </tr>\n",
       "    <tr>\n",
       "      <th>33</th>\n",
       "      <td>Star_Wars:_The_Force_Awakens</td>\n",
       "      <td>https://upload.wikimedia.org/wikipedia/en/a/a2...</td>\n",
       "    </tr>\n",
       "    <tr>\n",
       "      <th>34</th>\n",
       "      <td>Manchester_by_the_Sea_(film)</td>\n",
       "      <td>https://upload.wikimedia.org/wikipedia/en/d/de...</td>\n",
       "    </tr>\n",
       "    <tr>\n",
       "      <th>35</th>\n",
       "      <td>Dr._Strangelove</td>\n",
       "      <td>https://upload.wikimedia.org/wikipedia/en/e/e6...</td>\n",
       "    </tr>\n",
       "    <tr>\n",
       "      <th>36</th>\n",
       "      <td>Frankenstein_(1931_film)</td>\n",
       "      <td>https://upload.wikimedia.org/wikipedia/commons...</td>\n",
       "    </tr>\n",
       "    <tr>\n",
       "      <th>37</th>\n",
       "      <td>The_Dark_Knight_(film)</td>\n",
       "      <td>https://upload.wikimedia.org/wikipedia/en/1/1c...</td>\n",
       "    </tr>\n",
       "    <tr>\n",
       "      <th>38</th>\n",
       "      <td>The_Babadook</td>\n",
       "      <td>https://upload.wikimedia.org/wikipedia/en/d/d7...</td>\n",
       "    </tr>\n",
       "    <tr>\n",
       "      <th>39</th>\n",
       "      <td>The_Conformist_(film)</td>\n",
       "      <td>https://upload.wikimedia.org/wikipedia/en/7/78...</td>\n",
       "    </tr>\n",
       "    <tr>\n",
       "      <th>40</th>\n",
       "      <td>Finding_Nemo</td>\n",
       "      <td>https://upload.wikimedia.org/wikipedia/en/2/29...</td>\n",
       "    </tr>\n",
       "    <tr>\n",
       "      <th>41</th>\n",
       "      <td>Brooklyn_(film)</td>\n",
       "      <td>https://upload.wikimedia.org/wikipedia/en/5/5b...</td>\n",
       "    </tr>\n",
       "    <tr>\n",
       "      <th>42</th>\n",
       "      <td>The_Wrestler_(2008_film)</td>\n",
       "      <td>https://upload.wikimedia.org/wikipedia/en/3/3e...</td>\n",
       "    </tr>\n",
       "    <tr>\n",
       "      <th>43</th>\n",
       "      <td>L.A._Confidential_(film)</td>\n",
       "      <td>https://upload.wikimedia.org/wikipedia/en/d/d8...</td>\n",
       "    </tr>\n",
       "    <tr>\n",
       "      <th>44</th>\n",
       "      <td>The_Good,_the_Bad_and_the_Ugly</td>\n",
       "      <td>https://upload.wikimedia.org/wikipedia/en/4/45...</td>\n",
       "    </tr>\n",
       "    <tr>\n",
       "      <th>45</th>\n",
       "      <td>Skyfall</td>\n",
       "      <td>https://upload.wikimedia.org/wikipedia/en/a/a7...</td>\n",
       "    </tr>\n",
       "    <tr>\n",
       "      <th>46</th>\n",
       "      <td>Hell_or_High_Water_(film)</td>\n",
       "      <td>https://upload.wikimedia.org/wikipedia/en/8/8f...</td>\n",
       "    </tr>\n",
       "    <tr>\n",
       "      <th>47</th>\n",
       "      <td>Pinocchio_(1940_film)</td>\n",
       "      <td>https://upload.wikimedia.org/wikipedia/en/b/ba...</td>\n",
       "    </tr>\n",
       "    <tr>\n",
       "      <th>48</th>\n",
       "      <td>The_Jungle_Book_(2016_film)</td>\n",
       "      <td>https://upload.wikimedia.org/wikipedia/en/a/a4...</td>\n",
       "    </tr>\n",
       "    <tr>\n",
       "      <th>49</th>\n",
       "      <td>La_La_Land_(film)</td>\n",
       "      <td>https://upload.wikimedia.org/wikipedia/en/a/ab...</td>\n",
       "    </tr>\n",
       "    <tr>\n",
       "      <th>50</th>\n",
       "      <td>Star_Trek_(film)</td>\n",
       "      <td>https://upload.wikimedia.org/wikipedia/en/2/29...</td>\n",
       "    </tr>\n",
       "    <tr>\n",
       "      <th>51</th>\n",
       "      <td>Apocalypse_Now</td>\n",
       "      <td>https://upload.wikimedia.org/wikipedia/en/c/c2...</td>\n",
       "    </tr>\n",
       "    <tr>\n",
       "      <th>52</th>\n",
       "      <td>Harry_Potter_and_the_Deathly_Hallows_–_Part_2</td>\n",
       "      <td>https://upload.wikimedia.org/wikipedia/en/d/df...</td>\n",
       "    </tr>\n",
       "    <tr>\n",
       "      <th>53</th>\n",
       "      <td>Jaws_(film)</td>\n",
       "      <td>https://upload.wikimedia.org/wikipedia/en/e/eb...</td>\n",
       "    </tr>\n",
       "    <tr>\n",
       "      <th>54</th>\n",
       "      <td>Toy_Story</td>\n",
       "      <td>https://upload.wikimedia.org/wikipedia/en/1/13...</td>\n",
       "    </tr>\n",
       "    <tr>\n",
       "      <th>55</th>\n",
       "      <td>The_Godfather_Part_II</td>\n",
       "      <td>https://upload.wikimedia.org/wikipedia/en/0/03...</td>\n",
       "    </tr>\n",
       "  </tbody>\n",
       "</table>\n",
       "</div>"
      ],
      "text/plain": [
       "                                            title  \\\n",
       "0                                  Get_Out_(film)   \n",
       "1                              Mad_Max:_Fury_Road   \n",
       "2                          Inside_Out_(2015_film)   \n",
       "3                                   The_Godfather   \n",
       "4                      E.T._the_Extra-Terrestrial   \n",
       "5                               Casablanca_(film)   \n",
       "6                           Moonlight_(2016_film)   \n",
       "7     Snow_White_and_the_Seven_Dwarfs_(1937_film)   \n",
       "8                              La_Grande_Illusion   \n",
       "9                           The_Battle_of_Algiers   \n",
       "10                            Dunkirk_(2017_film)   \n",
       "11                               Repulsion_(film)   \n",
       "12                        12_Years_a_Slave_(film)   \n",
       "13                            Gravity_(2013_film)   \n",
       "14                          King_Kong_(1933_film)   \n",
       "15                               Spotlight_(film)   \n",
       "16                                    Rear_Window   \n",
       "17                                    Taxi_Driver   \n",
       "18                                    Toy_Story_3   \n",
       "19                               Argo_(2012_film)   \n",
       "20                                    Toy_Story_2   \n",
       "21                                   The_Big_Sick   \n",
       "22                                       Zootopia   \n",
       "23                                  M_(1931_film)   \n",
       "24                       Wonder_Woman_(2017_film)   \n",
       "25                                   Alien_(film)   \n",
       "26                                Bicycle_Thieves   \n",
       "27                                 Up_(2009_film)   \n",
       "28                                  The_400_Blows   \n",
       "29                                   Logan_(film)   \n",
       "30                                Army_of_Shadows   \n",
       "31                                 Arrival_(film)   \n",
       "32                                    Baby_Driver   \n",
       "33                   Star_Wars:_The_Force_Awakens   \n",
       "34                   Manchester_by_the_Sea_(film)   \n",
       "35                                Dr._Strangelove   \n",
       "36                       Frankenstein_(1931_film)   \n",
       "37                         The_Dark_Knight_(film)   \n",
       "38                                   The_Babadook   \n",
       "39                          The_Conformist_(film)   \n",
       "40                                   Finding_Nemo   \n",
       "41                                Brooklyn_(film)   \n",
       "42                       The_Wrestler_(2008_film)   \n",
       "43                       L.A._Confidential_(film)   \n",
       "44                 The_Good,_the_Bad_and_the_Ugly   \n",
       "45                                        Skyfall   \n",
       "46                      Hell_or_High_Water_(film)   \n",
       "47                          Pinocchio_(1940_film)   \n",
       "48                    The_Jungle_Book_(2016_film)   \n",
       "49                              La_La_Land_(film)   \n",
       "50                               Star_Trek_(film)   \n",
       "51                                 Apocalypse_Now   \n",
       "52  Harry_Potter_and_the_Deathly_Hallows_–_Part_2   \n",
       "53                                    Jaws_(film)   \n",
       "54                                      Toy_Story   \n",
       "55                          The_Godfather_Part_II   \n",
       "\n",
       "                                           poster_url  \n",
       "0   https://upload.wikimedia.org/wikipedia/en/a/a3...  \n",
       "1   https://upload.wikimedia.org/wikipedia/en/6/6e...  \n",
       "2   https://upload.wikimedia.org/wikipedia/en/0/0a...  \n",
       "3   https://upload.wikimedia.org/wikipedia/en/1/1c...  \n",
       "4   https://upload.wikimedia.org/wikipedia/en/6/66...  \n",
       "5   https://upload.wikimedia.org/wikipedia/commons...  \n",
       "6   https://upload.wikimedia.org/wikipedia/en/8/84...  \n",
       "7   https://upload.wikimedia.org/wikipedia/en/4/49...  \n",
       "8   https://upload.wikimedia.org/wikipedia/en/3/33...  \n",
       "9   https://upload.wikimedia.org/wikipedia/en/a/aa...  \n",
       "10  https://upload.wikimedia.org/wikipedia/en/1/15...  \n",
       "11  https://upload.wikimedia.org/wikipedia/en/8/89...  \n",
       "12  https://upload.wikimedia.org/wikipedia/en/5/5c...  \n",
       "13  https://upload.wikimedia.org/wikipedia/en/f/f6...  \n",
       "14  https://upload.wikimedia.org/wikipedia/commons...  \n",
       "15  https://upload.wikimedia.org/wikipedia/en/f/f3...  \n",
       "16  https://upload.wikimedia.org/wikipedia/commons...  \n",
       "17  https://upload.wikimedia.org/wikipedia/en/3/33...  \n",
       "18  https://upload.wikimedia.org/wikipedia/en/6/69...  \n",
       "19  https://upload.wikimedia.org/wikipedia/en/e/e1...  \n",
       "20  https://upload.wikimedia.org/wikipedia/en/c/c0...  \n",
       "21  https://upload.wikimedia.org/wikipedia/en/6/69...  \n",
       "22  https://upload.wikimedia.org/wikipedia/en/9/96...  \n",
       "23  https://upload.wikimedia.org/wikipedia/en/a/ab...  \n",
       "24  https://upload.wikimedia.org/wikipedia/en/b/b0...  \n",
       "25  https://upload.wikimedia.org/wikipedia/en/c/c3...  \n",
       "26  https://upload.wikimedia.org/wikipedia/en/2/20...  \n",
       "27  https://upload.wikimedia.org/wikipedia/en/0/05...  \n",
       "28  https://upload.wikimedia.org/wikipedia/en/f/f9...  \n",
       "29  https://upload.wikimedia.org/wikipedia/en/3/37...  \n",
       "30  https://upload.wikimedia.org/wikipedia/en/0/08...  \n",
       "31  https://upload.wikimedia.org/wikipedia/en/d/df...  \n",
       "32  https://upload.wikimedia.org/wikipedia/en/8/8e...  \n",
       "33  https://upload.wikimedia.org/wikipedia/en/a/a2...  \n",
       "34  https://upload.wikimedia.org/wikipedia/en/d/de...  \n",
       "35  https://upload.wikimedia.org/wikipedia/en/e/e6...  \n",
       "36  https://upload.wikimedia.org/wikipedia/commons...  \n",
       "37  https://upload.wikimedia.org/wikipedia/en/1/1c...  \n",
       "38  https://upload.wikimedia.org/wikipedia/en/d/d7...  \n",
       "39  https://upload.wikimedia.org/wikipedia/en/7/78...  \n",
       "40  https://upload.wikimedia.org/wikipedia/en/2/29...  \n",
       "41  https://upload.wikimedia.org/wikipedia/en/5/5b...  \n",
       "42  https://upload.wikimedia.org/wikipedia/en/3/3e...  \n",
       "43  https://upload.wikimedia.org/wikipedia/en/d/d8...  \n",
       "44  https://upload.wikimedia.org/wikipedia/en/4/45...  \n",
       "45  https://upload.wikimedia.org/wikipedia/en/a/a7...  \n",
       "46  https://upload.wikimedia.org/wikipedia/en/8/8f...  \n",
       "47  https://upload.wikimedia.org/wikipedia/en/b/ba...  \n",
       "48  https://upload.wikimedia.org/wikipedia/en/a/a4...  \n",
       "49  https://upload.wikimedia.org/wikipedia/en/a/ab...  \n",
       "50  https://upload.wikimedia.org/wikipedia/en/2/29...  \n",
       "51  https://upload.wikimedia.org/wikipedia/en/c/c2...  \n",
       "52  https://upload.wikimedia.org/wikipedia/en/d/df...  \n",
       "53  https://upload.wikimedia.org/wikipedia/en/e/eb...  \n",
       "54  https://upload.wikimedia.org/wikipedia/en/1/13...  \n",
       "55  https://upload.wikimedia.org/wikipedia/en/0/03...  "
      ]
     },
     "execution_count": 97,
     "metadata": {},
     "output_type": "execute_result"
    }
   ],
   "source": [
    "# Create DataFrame from list of dictionaries\n",
    "df1 = pd.DataFrame(image_list, columns = [ 'title', 'poster_url'])\n",
    "df1"
   ]
  },
  {
   "cell_type": "markdown",
   "id": "ec65f34c",
   "metadata": {},
   "source": [
    "# Analysis\n",
    "## Loading data for analysis"
   ]
  },
  {
   "cell_type": "code",
   "execution_count": 4,
   "id": "f003d1ab",
   "metadata": {
    "scrolled": true
   },
   "outputs": [
    {
     "data": {
      "text/html": [
       "<div>\n",
       "<style scoped>\n",
       "    .dataframe tbody tr th:only-of-type {\n",
       "        vertical-align: middle;\n",
       "    }\n",
       "\n",
       "    .dataframe tbody tr th {\n",
       "        vertical-align: top;\n",
       "    }\n",
       "\n",
       "    .dataframe thead th {\n",
       "        text-align: right;\n",
       "    }\n",
       "</style>\n",
       "<table border=\"1\" class=\"dataframe\">\n",
       "  <thead>\n",
       "    <tr style=\"text-align: right;\">\n",
       "      <th></th>\n",
       "      <th>title</th>\n",
       "      <th>audience_score</th>\n",
       "      <th>number_of_audience_ratings</th>\n",
       "      <th>movie_genre</th>\n",
       "      <th>movie_author</th>\n",
       "      <th>movie_director</th>\n",
       "      <th>ranking</th>\n",
       "      <th>critic_score</th>\n",
       "      <th>number_of_critic_ratings</th>\n",
       "    </tr>\n",
       "  </thead>\n",
       "  <tbody>\n",
       "    <tr>\n",
       "      <th>0</th>\n",
       "      <td>12 Angry Men (Twelve Angry Men) (1957)</td>\n",
       "      <td>97</td>\n",
       "      <td>103672</td>\n",
       "      <td>Classics,Drama</td>\n",
       "      <td>Sidney Lumet</td>\n",
       "      <td>Reginald Rose</td>\n",
       "      <td>53</td>\n",
       "      <td>100</td>\n",
       "      <td>49</td>\n",
       "    </tr>\n",
       "    <tr>\n",
       "      <th>1</th>\n",
       "      <td>The 39 Steps (1935)</td>\n",
       "      <td>86</td>\n",
       "      <td>23647</td>\n",
       "      <td>Action &amp; Adventure,Classics,Mystery &amp; Suspense</td>\n",
       "      <td>Alfred Hitchcock</td>\n",
       "      <td>Alma Reville, Charles Bennett, Ian Hay</td>\n",
       "      <td>76</td>\n",
       "      <td>98</td>\n",
       "      <td>44</td>\n",
       "    </tr>\n",
       "    <tr>\n",
       "      <th>2</th>\n",
       "      <td>The Adventures of Robin Hood (1938)</td>\n",
       "      <td>89</td>\n",
       "      <td>33584</td>\n",
       "      <td>Action &amp; Adventure,Classics,Romance</td>\n",
       "      <td>Michael Curtiz</td>\n",
       "      <td>Norman Reilly Raine, Seton I. Miller</td>\n",
       "      <td>34</td>\n",
       "      <td>100</td>\n",
       "      <td>45</td>\n",
       "    </tr>\n",
       "    <tr>\n",
       "      <th>3</th>\n",
       "      <td>All About Eve (1950)</td>\n",
       "      <td>94</td>\n",
       "      <td>44564</td>\n",
       "      <td>Classics,Comedy,Drama</td>\n",
       "      <td>Joseph L. Mankiewicz</td>\n",
       "      <td>Joseph L. Mankiewicz</td>\n",
       "      <td>7</td>\n",
       "      <td>100</td>\n",
       "      <td>64</td>\n",
       "    </tr>\n",
       "    <tr>\n",
       "      <th>4</th>\n",
       "      <td>All Quiet on the Western Front (1930)</td>\n",
       "      <td>89</td>\n",
       "      <td>17768</td>\n",
       "      <td>Classics,Drama</td>\n",
       "      <td>Lewis Milestone</td>\n",
       "      <td>Lewis Milestone, Maxwell Anderson, Del Andrews...</td>\n",
       "      <td>56</td>\n",
       "      <td>100</td>\n",
       "      <td>40</td>\n",
       "    </tr>\n",
       "  </tbody>\n",
       "</table>\n",
       "</div>"
      ],
      "text/plain": [
       "                                    title  audience_score  \\\n",
       "0  12 Angry Men (Twelve Angry Men) (1957)              97   \n",
       "1                     The 39 Steps (1935)              86   \n",
       "2     The Adventures of Robin Hood (1938)              89   \n",
       "3                    All About Eve (1950)              94   \n",
       "4   All Quiet on the Western Front (1930)              89   \n",
       "\n",
       "   number_of_audience_ratings                                     movie_genre  \\\n",
       "0                      103672                                  Classics,Drama   \n",
       "1                       23647  Action & Adventure,Classics,Mystery & Suspense   \n",
       "2                       33584             Action & Adventure,Classics,Romance   \n",
       "3                       44564                           Classics,Comedy,Drama   \n",
       "4                       17768                                  Classics,Drama   \n",
       "\n",
       "           movie_author                                     movie_director  \\\n",
       "0          Sidney Lumet                                      Reginald Rose   \n",
       "1      Alfred Hitchcock             Alma Reville, Charles Bennett, Ian Hay   \n",
       "2        Michael Curtiz               Norman Reilly Raine, Seton I. Miller   \n",
       "3  Joseph L. Mankiewicz                               Joseph L. Mankiewicz   \n",
       "4       Lewis Milestone  Lewis Milestone, Maxwell Anderson, Del Andrews...   \n",
       "\n",
       "   ranking  critic_score  number_of_critic_ratings  \n",
       "0       53           100                        49  \n",
       "1       76            98                        44  \n",
       "2       34           100                        45  \n",
       "3        7           100                        64  \n",
       "4       56           100                        40  "
      ]
     },
     "execution_count": 4,
     "metadata": {},
     "output_type": "execute_result"
    }
   ],
   "source": [
    "df=pd.read_csv('rt.csv')\n",
    "df.head()"
   ]
  },
  {
   "cell_type": "markdown",
   "id": "36d96548",
   "metadata": {},
   "source": [
    "## Visualization\n",
    "### Possible questions\n",
    "1. Distributions of the movie ratings, ranking, critic score and audience scores\n",
    "2. which movies are ranked high according to genre?\n",
    "3. Which movies are ranked high according to movie authors and which movie has the best ranking?\n",
    "4. How does audience score compare with number of audience rating?\n",
    "5. How does critic score compare with number of critic ratings?\n",
    "6. how does ranking compare with critic score?"
   ]
  },
  {
   "cell_type": "markdown",
   "id": "832d09a8",
   "metadata": {},
   "source": [
    "### Basic checks"
   ]
  },
  {
   "cell_type": "code",
   "execution_count": 5,
   "id": "bb97268c",
   "metadata": {
    "scrolled": true
   },
   "outputs": [
    {
     "name": "stdout",
     "output_type": "stream",
     "text": [
      "<class 'pandas.core.frame.DataFrame'>\n",
      "RangeIndex: 97 entries, 0 to 96\n",
      "Data columns (total 9 columns):\n",
      " #   Column                      Non-Null Count  Dtype \n",
      "---  ------                      --------------  ----- \n",
      " 0   title                       97 non-null     object\n",
      " 1   audience_score              97 non-null     int64 \n",
      " 2   number_of_audience_ratings  97 non-null     int64 \n",
      " 3   movie_genre                 97 non-null     object\n",
      " 4   movie_author                97 non-null     object\n",
      " 5   movie_director              97 non-null     object\n",
      " 6   ranking                     97 non-null     int64 \n",
      " 7   critic_score                97 non-null     int64 \n",
      " 8   number_of_critic_ratings    97 non-null     int64 \n",
      "dtypes: int64(5), object(4)\n",
      "memory usage: 6.9+ KB\n"
     ]
    }
   ],
   "source": [
    "# Checking the basic information\n",
    "df.info()"
   ]
  },
  {
   "cell_type": "code",
   "execution_count": 6,
   "id": "856f9020",
   "metadata": {
    "scrolled": true
   },
   "outputs": [
    {
     "data": {
      "text/html": [
       "<div>\n",
       "<style scoped>\n",
       "    .dataframe tbody tr th:only-of-type {\n",
       "        vertical-align: middle;\n",
       "    }\n",
       "\n",
       "    .dataframe tbody tr th {\n",
       "        vertical-align: top;\n",
       "    }\n",
       "\n",
       "    .dataframe thead th {\n",
       "        text-align: right;\n",
       "    }\n",
       "</style>\n",
       "<table border=\"1\" class=\"dataframe\">\n",
       "  <thead>\n",
       "    <tr style=\"text-align: right;\">\n",
       "      <th></th>\n",
       "      <th>audience_score</th>\n",
       "      <th>number_of_audience_ratings</th>\n",
       "      <th>ranking</th>\n",
       "      <th>critic_score</th>\n",
       "      <th>number_of_critic_ratings</th>\n",
       "    </tr>\n",
       "  </thead>\n",
       "  <tbody>\n",
       "    <tr>\n",
       "      <th>count</th>\n",
       "      <td>97.000000</td>\n",
       "      <td>9.700000e+01</td>\n",
       "      <td>97.000000</td>\n",
       "      <td>97.000000</td>\n",
       "      <td>97.000000</td>\n",
       "    </tr>\n",
       "    <tr>\n",
       "      <th>mean</th>\n",
       "      <td>89.567010</td>\n",
       "      <td>8.633923e+05</td>\n",
       "      <td>50.268041</td>\n",
       "      <td>97.917526</td>\n",
       "      <td>142.329897</td>\n",
       "    </tr>\n",
       "    <tr>\n",
       "      <th>std</th>\n",
       "      <td>5.355891</td>\n",
       "      <td>4.673229e+06</td>\n",
       "      <td>29.234154</td>\n",
       "      <td>2.182650</td>\n",
       "      <td>113.028455</td>\n",
       "    </tr>\n",
       "    <tr>\n",
       "      <th>min</th>\n",
       "      <td>72.000000</td>\n",
       "      <td>6.128000e+03</td>\n",
       "      <td>1.000000</td>\n",
       "      <td>92.000000</td>\n",
       "      <td>40.000000</td>\n",
       "    </tr>\n",
       "    <tr>\n",
       "      <th>25%</th>\n",
       "      <td>87.000000</td>\n",
       "      <td>3.702400e+04</td>\n",
       "      <td>25.000000</td>\n",
       "      <td>97.000000</td>\n",
       "      <td>54.000000</td>\n",
       "    </tr>\n",
       "    <tr>\n",
       "      <th>50%</th>\n",
       "      <td>90.000000</td>\n",
       "      <td>6.732500e+04</td>\n",
       "      <td>50.000000</td>\n",
       "      <td>98.000000</td>\n",
       "      <td>75.000000</td>\n",
       "    </tr>\n",
       "    <tr>\n",
       "      <th>75%</th>\n",
       "      <td>94.000000</td>\n",
       "      <td>2.227890e+05</td>\n",
       "      <td>75.000000</td>\n",
       "      <td>100.000000</td>\n",
       "      <td>256.000000</td>\n",
       "    </tr>\n",
       "    <tr>\n",
       "      <th>max</th>\n",
       "      <td>98.000000</td>\n",
       "      <td>3.335567e+07</td>\n",
       "      <td>100.000000</td>\n",
       "      <td>100.000000</td>\n",
       "      <td>370.000000</td>\n",
       "    </tr>\n",
       "  </tbody>\n",
       "</table>\n",
       "</div>"
      ],
      "text/plain": [
       "       audience_score  number_of_audience_ratings     ranking  critic_score  \\\n",
       "count       97.000000                9.700000e+01   97.000000     97.000000   \n",
       "mean        89.567010                8.633923e+05   50.268041     97.917526   \n",
       "std          5.355891                4.673229e+06   29.234154      2.182650   \n",
       "min         72.000000                6.128000e+03    1.000000     92.000000   \n",
       "25%         87.000000                3.702400e+04   25.000000     97.000000   \n",
       "50%         90.000000                6.732500e+04   50.000000     98.000000   \n",
       "75%         94.000000                2.227890e+05   75.000000    100.000000   \n",
       "max         98.000000                3.335567e+07  100.000000    100.000000   \n",
       "\n",
       "       number_of_critic_ratings  \n",
       "count                 97.000000  \n",
       "mean                 142.329897  \n",
       "std                  113.028455  \n",
       "min                   40.000000  \n",
       "25%                   54.000000  \n",
       "50%                   75.000000  \n",
       "75%                  256.000000  \n",
       "max                  370.000000  "
      ]
     },
     "execution_count": 6,
     "metadata": {},
     "output_type": "execute_result"
    }
   ],
   "source": [
    "# Checking the statistical information of the numerical columns\n",
    "df.describe()"
   ]
  },
  {
   "cell_type": "markdown",
   "id": "4f930aa5",
   "metadata": {},
   "source": [
    "### Insights from the basic checks\n",
    "+ We have 97 records and 9 columns with information about the movies\n",
    "+ No missing values in the dataset"
   ]
  },
  {
   "cell_type": "markdown",
   "id": "f4d5203c",
   "metadata": {},
   "source": [
    "## Data Cleaning for analysis"
   ]
  },
  {
   "cell_type": "markdown",
   "id": "6a62b8c1",
   "metadata": {},
   "source": [
    "### Univariate analysis\n",
    "#### Possible question\n",
    "1. Distributions of the movie ratings, ranking, critic score and audience scores"
   ]
  },
  {
   "cell_type": "code",
   "execution_count": 8,
   "id": "661fb9e5",
   "metadata": {},
   "outputs": [
    {
     "data": {
      "text/html": [
       "<div>\n",
       "<style scoped>\n",
       "    .dataframe tbody tr th:only-of-type {\n",
       "        vertical-align: middle;\n",
       "    }\n",
       "\n",
       "    .dataframe tbody tr th {\n",
       "        vertical-align: top;\n",
       "    }\n",
       "\n",
       "    .dataframe thead th {\n",
       "        text-align: right;\n",
       "    }\n",
       "</style>\n",
       "<table border=\"1\" class=\"dataframe\">\n",
       "  <thead>\n",
       "    <tr style=\"text-align: right;\">\n",
       "      <th></th>\n",
       "      <th>title</th>\n",
       "      <th>audience_score</th>\n",
       "      <th>number_of_audience_ratings</th>\n",
       "      <th>movie_genre</th>\n",
       "      <th>movie_author</th>\n",
       "      <th>movie_director</th>\n",
       "      <th>ranking</th>\n",
       "      <th>critic_score</th>\n",
       "      <th>number_of_critic_ratings</th>\n",
       "    </tr>\n",
       "  </thead>\n",
       "  <tbody>\n",
       "    <tr>\n",
       "      <th>0</th>\n",
       "      <td>12 Angry Men (Twelve Angry Men) (1957)</td>\n",
       "      <td>97</td>\n",
       "      <td>103672</td>\n",
       "      <td>Classics,Drama</td>\n",
       "      <td>Sidney Lumet</td>\n",
       "      <td>Reginald Rose</td>\n",
       "      <td>53</td>\n",
       "      <td>100</td>\n",
       "      <td>49</td>\n",
       "    </tr>\n",
       "  </tbody>\n",
       "</table>\n",
       "</div>"
      ],
      "text/plain": [
       "                                    title  audience_score  \\\n",
       "0  12 Angry Men (Twelve Angry Men) (1957)              97   \n",
       "\n",
       "   number_of_audience_ratings     movie_genre  movie_author movie_director  \\\n",
       "0                      103672  Classics,Drama  Sidney Lumet  Reginald Rose   \n",
       "\n",
       "   ranking  critic_score  number_of_critic_ratings  \n",
       "0       53           100                        49  "
      ]
     },
     "execution_count": 8,
     "metadata": {},
     "output_type": "execute_result"
    }
   ],
   "source": [
    "df.head(1)"
   ]
  },
  {
   "cell_type": "code",
   "execution_count": 9,
   "id": "9e811210",
   "metadata": {},
   "outputs": [
    {
     "data": {
      "image/png": "[encoded data removed]",
      "text/plain": [
       "<Figure size 1008x720 with 4 Axes>"
      ]
     },
     "metadata": {},
     "output_type": "display_data"
    }
   ],
   "source": [
    "# Distribution of movie ratings, ranking, critic score and audience score in the data\n",
    "df1=df.loc[:,['audience_score','ranking','critic_score','number_of_critic_ratings']]\n",
    "plt.figure(figsize=(14,10),facecolor='white')\n",
    "plotnumber=1\n",
    "for col in df1:\n",
    "    if plotnumber<5:\n",
    "        ax=plt.subplot(4,2,plotnumber)\n",
    "        sns.histplot(df1[col])\n",
    "        plt.xlabel(col,fontsize=20)\n",
    "        plt.title('{} Distribution'.format(col))\n",
    "    plotnumber+=1\n",
    "plt.tight_layout()"
   ]
  },
  {
   "cell_type": "code",
   "execution_count": 61,
   "id": "674e3695",
   "metadata": {
    "scrolled": true
   },
   "outputs": [
    {
     "data": {
      "text/html": [
       "<div>\n",
       "<style scoped>\n",
       "    .dataframe tbody tr th:only-of-type {\n",
       "        vertical-align: middle;\n",
       "    }\n",
       "\n",
       "    .dataframe tbody tr th {\n",
       "        vertical-align: top;\n",
       "    }\n",
       "\n",
       "    .dataframe thead th {\n",
       "        text-align: right;\n",
       "    }\n",
       "</style>\n",
       "<table border=\"1\" class=\"dataframe\">\n",
       "  <thead>\n",
       "    <tr style=\"text-align: right;\">\n",
       "      <th></th>\n",
       "      <th>title</th>\n",
       "      <th>audience_score</th>\n",
       "      <th>number_of_audience_ratings</th>\n",
       "      <th>movie_genre</th>\n",
       "      <th>movie_author</th>\n",
       "      <th>movie_director</th>\n",
       "      <th>ranking</th>\n",
       "      <th>critic_score</th>\n",
       "      <th>number_of_critic_ratings</th>\n",
       "    </tr>\n",
       "  </thead>\n",
       "  <tbody>\n",
       "  </tbody>\n",
       "</table>\n",
       "</div>"
      ],
      "text/plain": [
       "Empty DataFrame\n",
       "Columns: [title, audience_score, number_of_audience_ratings, movie_genre, movie_author, movie_director, ranking, critic_score, number_of_critic_ratings]\n",
       "Index: []"
      ]
     },
     "execution_count": 61,
     "metadata": {},
     "output_type": "execute_result"
    }
   ],
   "source": [
    "# Dropping the rows with the high number of ratings\n",
    "df[df['number_of_audience_ratings']>32000000].drop(labels=[34,35],axis=0)"
   ]
  },
  {
   "cell_type": "code",
   "execution_count": 63,
   "id": "f43f6bf0",
   "metadata": {},
   "outputs": [],
   "source": [
    "df.drop(labels=[34,35],inplace=True)"
   ]
  },
  {
   "cell_type": "code",
   "execution_count": 64,
   "id": "34aff5f2",
   "metadata": {},
   "outputs": [
    {
     "data": {
      "application/vnd.plotly.v1+json": {
       "config": {
        "plotlyServerURL": "https://plot.ly"
       },
       "data": [
        {
         "alignmentgroup": "True",
         "bingroup": "x",
         "hovertemplate": "number_of_audience_ratings=%{x}<br>count=%{y}<extra></extra>",
         "legendgroup": "",
         "marker": {
          "color": "#636efa",
          "pattern": {
           "shape": ""
          }
         },
         "name": "",
         "offsetgroup": "",
         "orientation": "v",
         "showlegend": false,
         "type": "histogram",
         "x": [
          103672,
          23647,
          33584,
          44564,
          17768,
          355952,
          41140,
          89669,
          10481,
          35778,
          57268,
          62018,
          149458,
          39026,
          54761,
          30867,
          25065,
          469510,
          138789,
          38368,
          457186,
          284606,
          207373,
          78740,
          48114,
          18709,
          50067,
          33723,
          88478,
          24471,
          45763,
          157274,
          208215,
          53555,
          63837,
          730433,
          409574,
          292794,
          23954,
          301261,
          389431,
          37738,
          133558,
          33106,
          942217,
          13893,
          149772,
          11490,
          67325,
          86540,
          123937,
          48189,
          29827,
          39736,
          41956,
          24322,
          78793,
          47463,
          51664,
          6128,
          46810,
          278682,
          238259,
          18655,
          62895,
          72669,
          60533,
          90049,
          137643,
          372497,
          68142,
          746458,
          222789,
          52783,
          258405,
          37024,
          14267,
          23391,
          27163,
          8529,
          1827436,
          238420,
          92856,
          53081,
          874425,
          139795,
          1107731,
          998186,
          605098,
          25627,
          1201878,
          101454,
          8536,
          112955,
          98633
         ],
         "xaxis": "x",
         "yaxis": "y"
        },
        {
         "alignmentgroup": "True",
         "hovertemplate": "number_of_audience_ratings=%{x}<extra></extra>",
         "legendgroup": "",
         "marker": {
          "color": "#636efa"
         },
         "name": "",
         "notched": true,
         "offsetgroup": "",
         "showlegend": false,
         "type": "box",
         "x": [
          103672,
          23647,
          33584,
          44564,
          17768,
          355952,
          41140,
          89669,
          10481,
          35778,
          57268,
          62018,
          149458,
          39026,
          54761,
          30867,
          25065,
          469510,
          138789,
          38368,
          457186,
          284606,
          207373,
          78740,
          48114,
          18709,
          50067,
          33723,
          88478,
          24471,
          45763,
          157274,
          208215,
          53555,
          63837,
          730433,
          409574,
          292794,
          23954,
          301261,
          389431,
          37738,
          133558,
          33106,
          942217,
          13893,
          149772,
          11490,
          67325,
          86540,
          123937,
          48189,
          29827,
          39736,
          41956,
          24322,
          78793,
          47463,
          51664,
          6128,
          46810,
          278682,
          238259,
          18655,
          62895,
          72669,
          60533,
          90049,
          137643,
          372497,
          68142,
          746458,
          222789,
          52783,
          258405,
          37024,
          14267,
          23391,
          27163,
          8529,
          1827436,
          238420,
          92856,
          53081,
          874425,
          139795,
          1107731,
          998186,
          605098,
          25627,
          1201878,
          101454,
          8536,
          112955,
          98633
         ],
         "xaxis": "x2",
         "yaxis": "y2"
        }
       ],
       "layout": {
        "barmode": "relative",
        "legend": {
         "tracegroupgap": 0
        },
        "template": {
         "data": {
          "bar": [
           {
            "error_x": {
             "color": "#2a3f5f"
            },
            "error_y": {
             "color": "#2a3f5f"
            },
            "marker": {
             "line": {
              "color": "#E5ECF6",
              "width": 0.5
             },
             "pattern": {
              "fillmode": "overlay",
              "size": 10,
              "solidity": 0.2
             }
            },
            "type": "bar"
           }
          ],
          "barpolar": [
           {
            "marker": {
             "line": {
              "color": "#E5ECF6",
              "width": 0.5
             },
             "pattern": {
              "fillmode": "overlay",
              "size": 10,
              "solidity": 0.2
             }
            },
            "type": "barpolar"
           }
          ],
          "carpet": [
           {
            "aaxis": {
             "endlinecolor": "#2a3f5f",
             "gridcolor": "white",
             "linecolor": "white",
             "minorgridcolor": "white",
             "startlinecolor": "#2a3f5f"
            },
            "baxis": {
             "endlinecolor": "#2a3f5f",
             "gridcolor": "white",
             "linecolor": "white",
             "minorgridcolor": "white",
             "startlinecolor": "#2a3f5f"
            },
            "type": "carpet"
           }
          ],
          "choropleth": [
           {
            "colorbar": {
             "outlinewidth": 0,
             "ticks": ""
            },
            "type": "choropleth"
           }
          ],
          "contour": [
           {
            "colorbar": {
             "outlinewidth": 0,
             "ticks": ""
            },
            "colorscale": [
             [
              0,
              "#0d0887"
             ],
             [
              0.1111111111111111,
              "#46039f"
             ],
             [
              0.2222222222222222,
              "#7201a8"
             ],
             [
              0.3333333333333333,
              "#9c179e"
             ],
             [
              0.4444444444444444,
              "#bd3786"
             ],
             [
              0.5555555555555556,
              "#d8576b"
             ],
             [
              0.6666666666666666,
              "#ed7953"
             ],
             [
              0.7777777777777778,
              "#fb9f3a"
             ],
             [
              0.8888888888888888,
              "#fdca26"
             ],
             [
              1,
              "#f0f921"
             ]
            ],
            "type": "contour"
           }
          ],
          "contourcarpet": [
           {
            "colorbar": {
             "outlinewidth": 0,
             "ticks": ""
            },
            "type": "contourcarpet"
           }
          ],
          "heatmap": [
           {
            "colorbar": {
             "outlinewidth": 0,
             "ticks": ""
            },
            "colorscale": [
             [
              0,
              "#0d0887"
             ],
             [
              0.1111111111111111,
              "#46039f"
             ],
             [
              0.2222222222222222,
              "#7201a8"
             ],
             [
              0.3333333333333333,
              "#9c179e"
             ],
             [
              0.4444444444444444,
              "#bd3786"
             ],
             [
              0.5555555555555556,
              "#d8576b"
             ],
             [
              0.6666666666666666,
              "#ed7953"
             ],
             [
              0.7777777777777778,
              "#fb9f3a"
             ],
             [
              0.8888888888888888,
              "#fdca26"
             ],
             [
              1,
              "#f0f921"
             ]
            ],
            "type": "heatmap"
           }
          ],
          "heatmapgl": [
           {
            "colorbar": {
             "outlinewidth": 0,
             "ticks": ""
            },
            "colorscale": [
             [
              0,
              "#0d0887"
             ],
             [
              0.1111111111111111,
              "#46039f"
             ],
             [
              0.2222222222222222,
              "#7201a8"
             ],
             [
              0.3333333333333333,
              "#9c179e"
             ],
             [
              0.4444444444444444,
              "#bd3786"
             ],
             [
              0.5555555555555556,
              "#d8576b"
             ],
             [
              0.6666666666666666,
              "#ed7953"
             ],
             [
              0.7777777777777778,
              "#fb9f3a"
             ],
             [
              0.8888888888888888,
              "#fdca26"
             ],
             [
              1,
              "#f0f921"
             ]
            ],
            "type": "heatmapgl"
           }
          ],
          "histogram": [
           {
            "marker": {
             "pattern": {
              "fillmode": "overlay",
              "size": 10,
              "solidity": 0.2
             }
            },
            "type": "histogram"
           }
          ],
          "histogram2d": [
           {
            "colorbar": {
             "outlinewidth": 0,
             "ticks": ""
            },
            "colorscale": [
             [
              0,
              "#0d0887"
             ],
             [
              0.1111111111111111,
              "#46039f"
             ],
             [
              0.2222222222222222,
              "#7201a8"
             ],
             [
              0.3333333333333333,
              "#9c179e"
             ],
             [
              0.4444444444444444,
              "#bd3786"
             ],
             [
              0.5555555555555556,
              "#d8576b"
             ],
             [
              0.6666666666666666,
              "#ed7953"
             ],
             [
              0.7777777777777778,
              "#fb9f3a"
             ],
             [
              0.8888888888888888,
              "#fdca26"
             ],
             [
              1,
              "#f0f921"
             ]
            ],
            "type": "histogram2d"
           }
          ],
          "histogram2dcontour": [
           {
            "colorbar": {
             "outlinewidth": 0,
             "ticks": ""
            },
            "colorscale": [
             [
              0,
              "#0d0887"
             ],
             [
              0.1111111111111111,
              "#46039f"
             ],
             [
              0.2222222222222222,
              "#7201a8"
             ],
             [
              0.3333333333333333,
              "#9c179e"
             ],
             [
              0.4444444444444444,
              "#bd3786"
             ],
             [
              0.5555555555555556,
              "#d8576b"
             ],
             [
              0.6666666666666666,
              "#ed7953"
             ],
             [
              0.7777777777777778,
              "#fb9f3a"
             ],
             [
              0.8888888888888888,
              "#fdca26"
             ],
             [
              1,
              "#f0f921"
             ]
            ],
            "type": "histogram2dcontour"
           }
          ],
          "mesh3d": [
           {
            "colorbar": {
             "outlinewidth": 0,
             "ticks": ""
            },
            "type": "mesh3d"
           }
          ],
          "parcoords": [
           {
            "line": {
             "colorbar": {
              "outlinewidth": 0,
              "ticks": ""
             }
            },
            "type": "parcoords"
           }
          ],
          "pie": [
           {
            "automargin": true,
            "type": "pie"
           }
          ],
          "scatter": [
           {
            "fillpattern": {
             "fillmode": "overlay",
             "size": 10,
             "solidity": 0.2
            },
            "type": "scatter"
           }
          ],
          "scatter3d": [
           {
            "line": {
             "colorbar": {
              "outlinewidth": 0,
              "ticks": ""
             }
            },
            "marker": {
             "colorbar": {
              "outlinewidth": 0,
              "ticks": ""
             }
            },
            "type": "scatter3d"
           }
          ],
          "scattercarpet": [
           {
            "marker": {
             "colorbar": {
              "outlinewidth": 0,
              "ticks": ""
             }
            },
            "type": "scattercarpet"
           }
          ],
          "scattergeo": [
           {
            "marker": {
             "colorbar": {
              "outlinewidth": 0,
              "ticks": ""
             }
            },
            "type": "scattergeo"
           }
          ],
          "scattergl": [
           {
            "marker": {
             "colorbar": {
              "outlinewidth": 0,
              "ticks": ""
             }
            },
            "type": "scattergl"
           }
          ],
          "scattermapbox": [
           {
            "marker": {
             "colorbar": {
              "outlinewidth": 0,
              "ticks": ""
             }
            },
            "type": "scattermapbox"
           }
          ],
          "scatterpolar": [
           {
            "marker": {
             "colorbar": {
              "outlinewidth": 0,
              "ticks": ""
             }
            },
            "type": "scatterpolar"
           }
          ],
          "scatterpolargl": [
           {
            "marker": {
             "colorbar": {
              "outlinewidth": 0,
              "ticks": ""
             }
            },
            "type": "scatterpolargl"
           }
          ],
          "scatterternary": [
           {
            "marker": {
             "colorbar": {
              "outlinewidth": 0,
              "ticks": ""
             }
            },
            "type": "scatterternary"
           }
          ],
          "surface": [
           {
            "colorbar": {
             "outlinewidth": 0,
             "ticks": ""
            },
            "colorscale": [
             [
              0,
              "#0d0887"
             ],
             [
              0.1111111111111111,
              "#46039f"
             ],
             [
              0.2222222222222222,
              "#7201a8"
             ],
             [
              0.3333333333333333,
              "#9c179e"
             ],
             [
              0.4444444444444444,
              "#bd3786"
             ],
             [
              0.5555555555555556,
              "#d8576b"
             ],
             [
              0.6666666666666666,
              "#ed7953"
             ],
             [
              0.7777777777777778,
              "#fb9f3a"
             ],
             [
              0.8888888888888888,
              "#fdca26"
             ],
             [
              1,
              "#f0f921"
             ]
            ],
            "type": "surface"
           }
          ],
          "table": [
           {
            "cells": {
             "fill": {
              "color": "#EBF0F8"
             },
             "line": {
              "color": "white"
             }
            },
            "header": {
             "fill": {
              "color": "#C8D4E3"
             },
             "line": {
              "color": "white"
             }
            },
            "type": "table"
           }
          ]
         },
         "layout": {
          "annotationdefaults": {
           "arrowcolor": "#2a3f5f",
           "arrowhead": 0,
           "arrowwidth": 1
          },
          "autotypenumbers": "strict",
          "coloraxis": {
           "colorbar": {
            "outlinewidth": 0,
            "ticks": ""
           }
          },
          "colorscale": {
           "diverging": [
            [
             0,
             "#8e0152"
            ],
            [
             0.1,
             "#c51b7d"
            ],
            [
             0.2,
             "#de77ae"
            ],
            [
             0.3,
             "#f1b6da"
            ],
            [
             0.4,
             "#fde0ef"
            ],
            [
             0.5,
             "#f7f7f7"
            ],
            [
             0.6,
             "#e6f5d0"
            ],
            [
             0.7,
             "#b8e186"
            ],
            [
             0.8,
             "#7fbc41"
            ],
            [
             0.9,
             "#4d9221"
            ],
            [
             1,
             "#276419"
            ]
           ],
           "sequential": [
            [
             0,
             "#0d0887"
            ],
            [
             0.1111111111111111,
             "#46039f"
            ],
            [
             0.2222222222222222,
             "#7201a8"
            ],
            [
             0.3333333333333333,
             "#9c179e"
            ],
            [
             0.4444444444444444,
             "#bd3786"
            ],
            [
             0.5555555555555556,
             "#d8576b"
            ],
            [
             0.6666666666666666,
             "#ed7953"
            ],
            [
             0.7777777777777778,
             "#fb9f3a"
            ],
            [
             0.8888888888888888,
             "#fdca26"
            ],
            [
             1,
             "#f0f921"
            ]
           ],
           "sequentialminus": [
            [
             0,
             "#0d0887"
            ],
            [
             0.1111111111111111,
             "#46039f"
            ],
            [
             0.2222222222222222,
             "#7201a8"
            ],
            [
             0.3333333333333333,
             "#9c179e"
            ],
            [
             0.4444444444444444,
             "#bd3786"
            ],
            [
             0.5555555555555556,
             "#d8576b"
            ],
            [
             0.6666666666666666,
             "#ed7953"
            ],
            [
             0.7777777777777778,
             "#fb9f3a"
            ],
            [
             0.8888888888888888,
             "#fdca26"
            ],
            [
             1,
             "#f0f921"
            ]
           ]
          },
          "colorway": [
           "#636efa",
           "#EF553B",
           "#00cc96",
           "#ab63fa",
           "#FFA15A",
           "#19d3f3",
           "#FF6692",
           "#B6E880",
           "#FF97FF",
           "#FECB52"
          ],
          "font": {
           "color": "#2a3f5f"
          },
          "geo": {
           "bgcolor": "white",
           "lakecolor": "white",
           "landcolor": "#E5ECF6",
           "showlakes": true,
           "showland": true,
           "subunitcolor": "white"
          },
          "hoverlabel": {
           "align": "left"
          },
          "hovermode": "closest",
          "mapbox": {
           "style": "light"
          },
          "paper_bgcolor": "white",
          "plot_bgcolor": "#E5ECF6",
          "polar": {
           "angularaxis": {
            "gridcolor": "white",
            "linecolor": "white",
            "ticks": ""
           },
           "bgcolor": "#E5ECF6",
           "radialaxis": {
            "gridcolor": "white",
            "linecolor": "white",
            "ticks": ""
           }
          },
          "scene": {
           "xaxis": {
            "backgroundcolor": "#E5ECF6",
            "gridcolor": "white",
            "gridwidth": 2,
            "linecolor": "white",
            "showbackground": true,
            "ticks": "",
            "zerolinecolor": "white"
           },
           "yaxis": {
            "backgroundcolor": "#E5ECF6",
            "gridcolor": "white",
            "gridwidth": 2,
            "linecolor": "white",
            "showbackground": true,
            "ticks": "",
            "zerolinecolor": "white"
           },
           "zaxis": {
            "backgroundcolor": "#E5ECF6",
            "gridcolor": "white",
            "gridwidth": 2,
            "linecolor": "white",
            "showbackground": true,
            "ticks": "",
            "zerolinecolor": "white"
           }
          },
          "shapedefaults": {
           "line": {
            "color": "#2a3f5f"
           }
          },
          "ternary": {
           "aaxis": {
            "gridcolor": "white",
            "linecolor": "white",
            "ticks": ""
           },
           "baxis": {
            "gridcolor": "white",
            "linecolor": "white",
            "ticks": ""
           },
           "bgcolor": "#E5ECF6",
           "caxis": {
            "gridcolor": "white",
            "linecolor": "white",
            "ticks": ""
           }
          },
          "title": {
           "x": 0.05
          },
          "xaxis": {
           "automargin": true,
           "gridcolor": "white",
           "linecolor": "white",
           "ticks": "",
           "title": {
            "standoff": 15
           },
           "zerolinecolor": "white",
           "zerolinewidth": 2
          },
          "yaxis": {
           "automargin": true,
           "gridcolor": "white",
           "linecolor": "white",
           "ticks": "",
           "title": {
            "standoff": 15
           },
           "zerolinecolor": "white",
           "zerolinewidth": 2
          }
         }
        },
        "title": {
         "text": "Distribution of the number of audience ratings"
        },
        "xaxis": {
         "anchor": "y",
         "domain": [
          0,
          1
         ],
         "title": {
          "text": "number_of_audience_ratings"
         }
        },
        "xaxis2": {
         "anchor": "y2",
         "domain": [
          0,
          1
         ],
         "matches": "x",
         "showgrid": true,
         "showticklabels": false
        },
        "yaxis": {
         "anchor": "x",
         "domain": [
          0,
          0.8316
         ],
         "title": {
          "text": "count"
         }
        },
        "yaxis2": {
         "anchor": "x2",
         "domain": [
          0.8416,
          1
         ],
         "matches": "y2",
         "showgrid": false,
         "showline": false,
         "showticklabels": false,
         "ticks": ""
        }
       }
      },
      "text/html": [
       "<div>                            <div id=\"6e680b41-a8a2-4715-a4d8-8012494a83d7\" class=\"plotly-graph-div\" style=\"height:525px; width:100%;\"></div>            <script type=\"text/javascript\">                require([\"plotly\"], function(Plotly) {                    window.PLOTLYENV=window.PLOTLYENV || {};                                    if (document.getElementById(\"6e680b41-a8a2-4715-a4d8-8012494a83d7\")) {                    Plotly.newPlot(                        \"6e680b41-a8a2-4715-a4d8-8012494a83d7\",                        [{\"alignmentgroup\":\"True\",\"bingroup\":\"x\",\"hovertemplate\":\"number_of_audience_ratings=%{x}<br>count=%{y}<extra></extra>\",\"legendgroup\":\"\",\"marker\":{\"color\":\"#636efa\",\"pattern\":{\"shape\":\"\"}},\"name\":\"\",\"offsetgroup\":\"\",\"orientation\":\"v\",\"showlegend\":false,\"x\":[103672,23647,33584,44564,17768,355952,41140,89669,10481,35778,57268,62018,149458,39026,54761,30867,25065,469510,138789,38368,457186,284606,207373,78740,48114,18709,50067,33723,88478,24471,45763,157274,208215,53555,63837,730433,409574,292794,23954,301261,389431,37738,133558,33106,942217,13893,149772,11490,67325,86540,123937,48189,29827,39736,41956,24322,78793,47463,51664,6128,46810,278682,238259,18655,62895,72669,60533,90049,137643,372497,68142,746458,222789,52783,258405,37024,14267,23391,27163,8529,1827436,238420,92856,53081,874425,139795,1107731,998186,605098,25627,1201878,101454,8536,112955,98633],\"xaxis\":\"x\",\"yaxis\":\"y\",\"type\":\"histogram\"},{\"alignmentgroup\":\"True\",\"hovertemplate\":\"number_of_audience_ratings=%{x}<extra></extra>\",\"legendgroup\":\"\",\"marker\":{\"color\":\"#636efa\"},\"name\":\"\",\"notched\":true,\"offsetgroup\":\"\",\"showlegend\":false,\"x\":[103672,23647,33584,44564,17768,355952,41140,89669,10481,35778,57268,62018,149458,39026,54761,30867,25065,469510,138789,38368,457186,284606,207373,78740,48114,18709,50067,33723,88478,24471,45763,157274,208215,53555,63837,730433,409574,292794,23954,301261,389431,37738,133558,33106,942217,13893,149772,11490,67325,86540,123937,48189,29827,39736,41956,24322,78793,47463,51664,6128,46810,278682,238259,18655,62895,72669,60533,90049,137643,372497,68142,746458,222789,52783,258405,37024,14267,23391,27163,8529,1827436,238420,92856,53081,874425,139795,1107731,998186,605098,25627,1201878,101454,8536,112955,98633],\"xaxis\":\"x2\",\"yaxis\":\"y2\",\"type\":\"box\"}],                        {\"template\":{\"data\":{\"histogram2dcontour\":[{\"type\":\"histogram2dcontour\",\"colorbar\":{\"outlinewidth\":0,\"ticks\":\"\"},\"colorscale\":[[0.0,\"#0d0887\"],[0.1111111111111111,\"#46039f\"],[0.2222222222222222,\"#7201a8\"],[0.3333333333333333,\"#9c179e\"],[0.4444444444444444,\"#bd3786\"],[0.5555555555555556,\"#d8576b\"],[0.6666666666666666,\"#ed7953\"],[0.7777777777777778,\"#fb9f3a\"],[0.8888888888888888,\"#fdca26\"],[1.0,\"#f0f921\"]]}],\"choropleth\":[{\"type\":\"choropleth\",\"colorbar\":{\"outlinewidth\":0,\"ticks\":\"\"}}],\"histogram2d\":[{\"type\":\"histogram2d\",\"colorbar\":{\"outlinewidth\":0,\"ticks\":\"\"},\"colorscale\":[[0.0,\"#0d0887\"],[0.1111111111111111,\"#46039f\"],[0.2222222222222222,\"#7201a8\"],[0.3333333333333333,\"#9c179e\"],[0.4444444444444444,\"#bd3786\"],[0.5555555555555556,\"#d8576b\"],[0.6666666666666666,\"#ed7953\"],[0.7777777777777778,\"#fb9f3a\"],[0.8888888888888888,\"#fdca26\"],[1.0,\"#f0f921\"]]}],\"heatmap\":[{\"type\":\"heatmap\",\"colorbar\":{\"outlinewidth\":0,\"ticks\":\"\"},\"colorscale\":[[0.0,\"#0d0887\"],[0.1111111111111111,\"#46039f\"],[0.2222222222222222,\"#7201a8\"],[0.3333333333333333,\"#9c179e\"],[0.4444444444444444,\"#bd3786\"],[0.5555555555555556,\"#d8576b\"],[0.6666666666666666,\"#ed7953\"],[0.7777777777777778,\"#fb9f3a\"],[0.8888888888888888,\"#fdca26\"],[1.0,\"#f0f921\"]]}],\"heatmapgl\":[{\"type\":\"heatmapgl\",\"colorbar\":{\"outlinewidth\":0,\"ticks\":\"\"},\"colorscale\":[[0.0,\"#0d0887\"],[0.1111111111111111,\"#46039f\"],[0.2222222222222222,\"#7201a8\"],[0.3333333333333333,\"#9c179e\"],[0.4444444444444444,\"#bd3786\"],[0.5555555555555556,\"#d8576b\"],[0.6666666666666666,\"#ed7953\"],[0.7777777777777778,\"#fb9f3a\"],[0.8888888888888888,\"#fdca26\"],[1.0,\"#f0f921\"]]}],\"contourcarpet\":[{\"type\":\"contourcarpet\",\"colorbar\":{\"outlinewidth\":0,\"ticks\":\"\"}}],\"contour\":[{\"type\":\"contour\",\"colorbar\":{\"outlinewidth\":0,\"ticks\":\"\"},\"colorscale\":[[0.0,\"#0d0887\"],[0.1111111111111111,\"#46039f\"],[0.2222222222222222,\"#7201a8\"],[0.3333333333333333,\"#9c179e\"],[0.4444444444444444,\"#bd3786\"],[0.5555555555555556,\"#d8576b\"],[0.6666666666666666,\"#ed7953\"],[0.7777777777777778,\"#fb9f3a\"],[0.8888888888888888,\"#fdca26\"],[1.0,\"#f0f921\"]]}],\"surface\":[{\"type\":\"surface\",\"colorbar\":{\"outlinewidth\":0,\"ticks\":\"\"},\"colorscale\":[[0.0,\"#0d0887\"],[0.1111111111111111,\"#46039f\"],[0.2222222222222222,\"#7201a8\"],[0.3333333333333333,\"#9c179e\"],[0.4444444444444444,\"#bd3786\"],[0.5555555555555556,\"#d8576b\"],[0.6666666666666666,\"#ed7953\"],[0.7777777777777778,\"#fb9f3a\"],[0.8888888888888888,\"#fdca26\"],[1.0,\"#f0f921\"]]}],\"mesh3d\":[{\"type\":\"mesh3d\",\"colorbar\":{\"outlinewidth\":0,\"ticks\":\"\"}}],\"scatter\":[{\"fillpattern\":{\"fillmode\":\"overlay\",\"size\":10,\"solidity\":0.2},\"type\":\"scatter\"}],\"parcoords\":[{\"type\":\"parcoords\",\"line\":{\"colorbar\":{\"outlinewidth\":0,\"ticks\":\"\"}}}],\"scatterpolargl\":[{\"type\":\"scatterpolargl\",\"marker\":{\"colorbar\":{\"outlinewidth\":0,\"ticks\":\"\"}}}],\"bar\":[{\"error_x\":{\"color\":\"#2a3f5f\"},\"error_y\":{\"color\":\"#2a3f5f\"},\"marker\":{\"line\":{\"color\":\"#E5ECF6\",\"width\":0.5},\"pattern\":{\"fillmode\":\"overlay\",\"size\":10,\"solidity\":0.2}},\"type\":\"bar\"}],\"scattergeo\":[{\"type\":\"scattergeo\",\"marker\":{\"colorbar\":{\"outlinewidth\":0,\"ticks\":\"\"}}}],\"scatterpolar\":[{\"type\":\"scatterpolar\",\"marker\":{\"colorbar\":{\"outlinewidth\":0,\"ticks\":\"\"}}}],\"histogram\":[{\"marker\":{\"pattern\":{\"fillmode\":\"overlay\",\"size\":10,\"solidity\":0.2}},\"type\":\"histogram\"}],\"scattergl\":[{\"type\":\"scattergl\",\"marker\":{\"colorbar\":{\"outlinewidth\":0,\"ticks\":\"\"}}}],\"scatter3d\":[{\"type\":\"scatter3d\",\"line\":{\"colorbar\":{\"outlinewidth\":0,\"ticks\":\"\"}},\"marker\":{\"colorbar\":{\"outlinewidth\":0,\"ticks\":\"\"}}}],\"scattermapbox\":[{\"type\":\"scattermapbox\",\"marker\":{\"colorbar\":{\"outlinewidth\":0,\"ticks\":\"\"}}}],\"scatterternary\":[{\"type\":\"scatterternary\",\"marker\":{\"colorbar\":{\"outlinewidth\":0,\"ticks\":\"\"}}}],\"scattercarpet\":[{\"type\":\"scattercarpet\",\"marker\":{\"colorbar\":{\"outlinewidth\":0,\"ticks\":\"\"}}}],\"carpet\":[{\"aaxis\":{\"endlinecolor\":\"#2a3f5f\",\"gridcolor\":\"white\",\"linecolor\":\"white\",\"minorgridcolor\":\"white\",\"startlinecolor\":\"#2a3f5f\"},\"baxis\":{\"endlinecolor\":\"#2a3f5f\",\"gridcolor\":\"white\",\"linecolor\":\"white\",\"minorgridcolor\":\"white\",\"startlinecolor\":\"#2a3f5f\"},\"type\":\"carpet\"}],\"table\":[{\"cells\":{\"fill\":{\"color\":\"#EBF0F8\"},\"line\":{\"color\":\"white\"}},\"header\":{\"fill\":{\"color\":\"#C8D4E3\"},\"line\":{\"color\":\"white\"}},\"type\":\"table\"}],\"barpolar\":[{\"marker\":{\"line\":{\"color\":\"#E5ECF6\",\"width\":0.5},\"pattern\":{\"fillmode\":\"overlay\",\"size\":10,\"solidity\":0.2}},\"type\":\"barpolar\"}],\"pie\":[{\"automargin\":true,\"type\":\"pie\"}]},\"layout\":{\"autotypenumbers\":\"strict\",\"colorway\":[\"#636efa\",\"#EF553B\",\"#00cc96\",\"#ab63fa\",\"#FFA15A\",\"#19d3f3\",\"#FF6692\",\"#B6E880\",\"#FF97FF\",\"#FECB52\"],\"font\":{\"color\":\"#2a3f5f\"},\"hovermode\":\"closest\",\"hoverlabel\":{\"align\":\"left\"},\"paper_bgcolor\":\"white\",\"plot_bgcolor\":\"#E5ECF6\",\"polar\":{\"bgcolor\":\"#E5ECF6\",\"angularaxis\":{\"gridcolor\":\"white\",\"linecolor\":\"white\",\"ticks\":\"\"},\"radialaxis\":{\"gridcolor\":\"white\",\"linecolor\":\"white\",\"ticks\":\"\"}},\"ternary\":{\"bgcolor\":\"#E5ECF6\",\"aaxis\":{\"gridcolor\":\"white\",\"linecolor\":\"white\",\"ticks\":\"\"},\"baxis\":{\"gridcolor\":\"white\",\"linecolor\":\"white\",\"ticks\":\"\"},\"caxis\":{\"gridcolor\":\"white\",\"linecolor\":\"white\",\"ticks\":\"\"}},\"coloraxis\":{\"colorbar\":{\"outlinewidth\":0,\"ticks\":\"\"}},\"colorscale\":{\"sequential\":[[0.0,\"#0d0887\"],[0.1111111111111111,\"#46039f\"],[0.2222222222222222,\"#7201a8\"],[0.3333333333333333,\"#9c179e\"],[0.4444444444444444,\"#bd3786\"],[0.5555555555555556,\"#d8576b\"],[0.6666666666666666,\"#ed7953\"],[0.7777777777777778,\"#fb9f3a\"],[0.8888888888888888,\"#fdca26\"],[1.0,\"#f0f921\"]],\"sequentialminus\":[[0.0,\"#0d0887\"],[0.1111111111111111,\"#46039f\"],[0.2222222222222222,\"#7201a8\"],[0.3333333333333333,\"#9c179e\"],[0.4444444444444444,\"#bd3786\"],[0.5555555555555556,\"#d8576b\"],[0.6666666666666666,\"#ed7953\"],[0.7777777777777778,\"#fb9f3a\"],[0.8888888888888888,\"#fdca26\"],[1.0,\"#f0f921\"]],\"diverging\":[[0,\"#8e0152\"],[0.1,\"#c51b7d\"],[0.2,\"#de77ae\"],[0.3,\"#f1b6da\"],[0.4,\"#fde0ef\"],[0.5,\"#f7f7f7\"],[0.6,\"#e6f5d0\"],[0.7,\"#b8e186\"],[0.8,\"#7fbc41\"],[0.9,\"#4d9221\"],[1,\"#276419\"]]},\"xaxis\":{\"gridcolor\":\"white\",\"linecolor\":\"white\",\"ticks\":\"\",\"title\":{\"standoff\":15},\"zerolinecolor\":\"white\",\"automargin\":true,\"zerolinewidth\":2},\"yaxis\":{\"gridcolor\":\"white\",\"linecolor\":\"white\",\"ticks\":\"\",\"title\":{\"standoff\":15},\"zerolinecolor\":\"white\",\"automargin\":true,\"zerolinewidth\":2},\"scene\":{\"xaxis\":{\"backgroundcolor\":\"#E5ECF6\",\"gridcolor\":\"white\",\"linecolor\":\"white\",\"showbackground\":true,\"ticks\":\"\",\"zerolinecolor\":\"white\",\"gridwidth\":2},\"yaxis\":{\"backgroundcolor\":\"#E5ECF6\",\"gridcolor\":\"white\",\"linecolor\":\"white\",\"showbackground\":true,\"ticks\":\"\",\"zerolinecolor\":\"white\",\"gridwidth\":2},\"zaxis\":{\"backgroundcolor\":\"#E5ECF6\",\"gridcolor\":\"white\",\"linecolor\":\"white\",\"showbackground\":true,\"ticks\":\"\",\"zerolinecolor\":\"white\",\"gridwidth\":2}},\"shapedefaults\":{\"line\":{\"color\":\"#2a3f5f\"}},\"annotationdefaults\":{\"arrowcolor\":\"#2a3f5f\",\"arrowhead\":0,\"arrowwidth\":1},\"geo\":{\"bgcolor\":\"white\",\"landcolor\":\"#E5ECF6\",\"subunitcolor\":\"white\",\"showland\":true,\"showlakes\":true,\"lakecolor\":\"white\"},\"title\":{\"x\":0.05},\"mapbox\":{\"style\":\"light\"}}},\"xaxis\":{\"anchor\":\"y\",\"domain\":[0.0,1.0],\"title\":{\"text\":\"number_of_audience_ratings\"}},\"yaxis\":{\"anchor\":\"x\",\"domain\":[0.0,0.8316],\"title\":{\"text\":\"count\"}},\"xaxis2\":{\"anchor\":\"y2\",\"domain\":[0.0,1.0],\"matches\":\"x\",\"showticklabels\":false,\"showgrid\":true},\"yaxis2\":{\"anchor\":\"x2\",\"domain\":[0.8416,1.0],\"matches\":\"y2\",\"showticklabels\":false,\"showline\":false,\"ticks\":\"\",\"showgrid\":false},\"legend\":{\"tracegroupgap\":0},\"title\":{\"text\":\"Distribution of the number of audience ratings\"},\"barmode\":\"relative\"},                        {\"responsive\": true}                    ).then(function(){\n",
       "                            \n",
       "var gd = document.getElementById('6e680b41-a8a2-4715-a4d8-8012494a83d7');\n",
       "var x = new MutationObserver(function (mutations, observer) {{\n",
       "        var display = window.getComputedStyle(gd).display;\n",
       "        if (!display || display === 'none') {{\n",
       "            console.log([gd, 'removed!']);\n",
       "            Plotly.purge(gd);\n",
       "            observer.disconnect();\n",
       "        }}\n",
       "}});\n",
       "\n",
       "// Listen for the removal of the full notebook cells\n",
       "var notebookContainer = gd.closest('#notebook-container');\n",
       "if (notebookContainer) {{\n",
       "    x.observe(notebookContainer, {childList: true});\n",
       "}}\n",
       "\n",
       "// Listen for the clearing of the current output cell\n",
       "var outputEl = gd.closest('.output');\n",
       "if (outputEl) {{\n",
       "    x.observe(outputEl, {childList: true});\n",
       "}}\n",
       "\n",
       "                        })                };                });            </script>        </div>"
      ]
     },
     "metadata": {},
     "output_type": "display_data"
    }
   ],
   "source": [
    "\n",
    "fig=px.histogram(df, x='number_of_audience_ratings',title='Distribution of the number of audience ratings',marginal='box')\n",
    "fig.show()"
   ]
  },
  {
   "cell_type": "markdown",
   "id": "6b6b7df5",
   "metadata": {},
   "source": [
    "### Insights from the Univeriate analysis\n",
    "* The audience score shows a normal distribuion that is negatively skewed, with most of the movie scoring above 85 With minimum of 72 and maximum of 98. \n",
    "* The critic score has a negatively skewed normal distribution too,  with most movies having a critic score of above 97, the minimum score is 92 and maximum 100.\n",
    "* The number of critic ratings shows a normal distribution that is skewed positive, showing that many movies have less than 125 critic ratings. The highest number of critic ratings in the entire dataset is 370.\n",
    "* As for the number of audience ratings, 95 of the movies have between 6128 to 99,000 ratings and only 2 movies have over 32 million ratings which we have dropped since they were like outliers."
   ]
  },
  {
   "cell_type": "markdown",
   "id": "6d1b0c59",
   "metadata": {},
   "source": [
    "### Bivariate analysis.\n",
    "### Possible questions\n",
    "2. Which movies are ranked high according to genre?\n",
    "3. How does ranking compare with critic score?\n",
    "4. Which movies are ranked high according to movie authors and which movie received best rank?\n",
    "5. How does audience score compare with number of audience ratings?\n",
    "6. How does critic score compare with number of critic ratings? "
   ]
  },
  {
   "cell_type": "code",
   "execution_count": 73,
   "id": "1fc66601",
   "metadata": {},
   "outputs": [
    {
     "data": {
      "text/plain": [
       "Drama                                                       9\n",
       "Drama,Mystery & Suspense                                    8\n",
       "Classics,Drama                                              6\n",
       "Action & Adventure,Drama,Science Fiction & Fantasy          4\n",
       "Classics,Drama,Mystery & Suspense                           4\n",
       "Classics,Drama,Romance                                      3\n",
       "Classics,Mystery & Suspense                                 3\n",
       "Animation,Comedy,Kids & Family,Science Fiction & Fantasy    3\n",
       "Art House & International,Drama                             3\n",
       "Art House & International,Classics,Drama                    3\n",
       "Name: movie_genre, dtype: int64"
      ]
     },
     "execution_count": 73,
     "metadata": {},
     "output_type": "execute_result"
    }
   ],
   "source": [
    "# 2. Gettig the first ten movies\n",
    "df.movie_genre.value_counts().head(10)"
   ]
  },
  {
   "cell_type": "code",
   "execution_count": 72,
   "id": "2ddecf60",
   "metadata": {
    "scrolled": false
   },
   "outputs": [
    {
     "data": {
      "text/plain": [
       "(46, 9)"
      ]
     },
     "execution_count": 72,
     "metadata": {},
     "output_type": "execute_result"
    }
   ],
   "source": [
    "# Creating a dataframe with the first 10 \n",
    "top_ten_genres=df[(df.movie_genre=='Drama') | (df.movie_genre=='Drama,Mystery & Suspense') | (df.movie_genre=='Classics,Drama') | (df.movie_genre=='Action & Adventure,Drama,Science Fiction & Fantasy') | (df.movie_genre=='Classics,Drama,Mystery & Suspense') | (df.movie_genre=='Animation,Comedy,Kids & Family,Science Fiction & Fantasy') | (df.movie_genre=='Classics,Drama,Romance') | (df.movie_genre=='Art House & International,Drama') | (df.movie_genre=='Classics,Mystery & Suspense') | (df.movie_genre=='Art House & International,Classics,Drama')]\n",
    "top_ten_genres.shape"
   ]
  },
  {
   "cell_type": "code",
   "execution_count": 74,
   "id": "1d73abd8",
   "metadata": {
    "scrolled": false
   },
   "outputs": [
    {
     "data": {
      "image/png": "[encoded data removed]",
      "text/plain": [
       "<Figure size 1008x504 with 1 Axes>"
      ]
     },
     "metadata": {
      "needs_background": "light"
     },
     "output_type": "display_data"
    }
   ],
   "source": [
    "#2.Movie according to genre\n",
    "plt.figure(figsize=(14,7))\n",
    "plt.bar(x=top_ten_genres.movie_genre,height=top_ten_genres['ranking'])\n",
    "plt.xticks(rotation=90)\n",
    "plt.title('Ranking of movies according to genre',loc='center');"
   ]
  },
  {
   "cell_type": "code",
   "execution_count": 75,
   "id": "7537ef0a",
   "metadata": {},
   "outputs": [
    {
     "data": {
      "application/vnd.plotly.v1+json": {
       "config": {
        "plotlyServerURL": "https://plot.ly"
       },
       "data": [
        {
         "customdata": [
          [
           49,
           97,
           "Sidney Lumet",
           "Classics,Drama",
           "12 Angry Men (Twelve Angry Men) (1957)"
          ],
          [
           44,
           86,
           "Alfred Hitchcock",
           "Action & Adventure,Classics,Mystery & Suspense",
           "The 39 Steps (1935)"
          ],
          [
           45,
           89,
           "Michael Curtiz",
           "Action & Adventure,Classics,Romance",
           "The Adventures of Robin Hood (1938)"
          ],
          [
           64,
           94,
           "Joseph L. Mankiewicz",
           "Classics,Comedy,Drama",
           "All About Eve (1950)"
          ],
          [
           40,
           89,
           "Lewis Milestone",
           "Classics,Drama",
           "All Quiet on the Western Front (1930)"
          ],
          [
           74,
           95,
           "Michael Curtiz",
           "Classics,Drama,Romance",
           "Casablanca (1942)"
          ],
          [
           45,
           87,
           "James Whale",
           "Classics,Horror,Science Fiction & Fantasy,Special Interest",
           "Frankenstein (1931)"
          ],
          [
           54,
           86,
           "Ernest B. Schoedsack",
           "Action & Adventure,Classics,Horror",
           "King Kong (1933)"
          ],
          [
           60,
           91,
           "Otto Preminger",
           "Classics,Mystery & Suspense",
           "Laura (1944)"
          ],
          [
           51,
           95,
           "Fritz Lang",
           "Art House & International,Drama,Mystery & Suspense",
           "M (1931)"
          ],
          [
           50,
           91,
           "John Huston",
           "Drama,Mystery & Suspense",
           "The Maltese Falcon (1941)"
          ],
          [
           116,
           92,
           "Fritz Lang",
           "Action & Adventure,Art House & International,Classics,Drama,Science Fiction & Fantasy",
           "Metropolis (1927)"
          ],
          [
           63,
           95,
           "Alfred Hitchcock",
           "Classics,Drama,Mystery & Suspense",
           "Rear Window (1954)"
          ],
          [
           48,
           92,
           "Alfred Hitchcock",
           "Classics,Drama,Mystery & Suspense",
           "Rebecca (1940)"
          ],
          [
           54,
           90,
           "Elia Kazan",
           "Classics,Drama",
           "A Streetcar Named Desire (1951)"
          ],
          [
           70,
           92,
           "Orson Welles",
           "Classics,Drama,Mystery & Suspense",
           "Touch of Evil (1958)"
          ],
          [
           50,
           89,
           "Fred Zinnemann",
           "Mystery & Suspense,Western",
           "High Noon (1952)"
          ],
          [
           47,
           78,
           "David Hand",
           "Animation,Classics,Kids & Family,Science Fiction & Fantasy",
           "Snow White and the Seven Dwarfs (1937)"
          ],
          [
           316,
           90,
           "Steve McQueen (III)",
           "Drama",
           "12 Years a Slave (2013)"
          ],
          [
           54,
           94,
           "FranÃ§ois Truffaut",
           "Art House & International,Classics,Drama",
           "The 400 Blows (Les Quatre cents coups) (1959)"
          ],
          [
           104,
           94,
           "Ridley Scott",
           "Drama,Mystery & Suspense,Science Fiction & Fantasy",
           "Alien (1979)"
          ],
          [
           80,
           94,
           "Francis Ford Coppola",
           "Action & Adventure,Drama",
           "Apocalypse Now (1979)"
          ],
          [
           313,
           90,
           "Ben Affleck",
           "Drama,Mystery & Suspense",
           "Argo (2012)"
          ],
          [
           333,
           82,
           "Denis Villeneuve",
           "Drama,Mystery & Suspense,Science Fiction & Fantasy",
           "Arrival (2016)"
          ],
          [
           283,
           89,
           "Edgar Wright",
           "Action & Adventure,Comedy,Drama",
           "Baby Driver (2017)"
          ],
          [
           45,
           85,
           "Sergei M. Eisenstein",
           "Art House & International,Classics,Drama",
           "Battleship Potemkin (1925)"
          ],
          [
           104,
           89,
           "Richard Lester",
           "Classics,Comedy,Musical & Performing Arts",
           "A Hard Day's Night (1964)"
          ],
          [
           56,
           94,
           "Vittorio De Sica",
           "Drama",
           "Bicycle Thieves (Ladri di biciclette) (1949)"
          ],
          [
           283,
           81,
           "Richard Linklater",
           "Drama",
           "Boyhood (2014)"
          ],
          [
           41,
           87,
           "James Whale",
           "Classics,Horror,Science Fiction & Fantasy,Special Interest",
           "The Bride of Frankenstein (1935)"
          ],
          [
           243,
           87,
           "John Crowley",
           "Drama",
           "Brooklyn (2015)"
          ],
          [
           75,
           90,
           "Orson Welles",
           "Classics,Drama,Mystery & Suspense",
           "Citizen Kane (1941)"
          ],
          [
           74,
           94,
           "Stanley Kubrick",
           "Classics,Comedy,Science Fiction & Fantasy",
           "Dr. Strangelove Or How I Learned to Stop Worrying and Love the Bomb (1964)"
          ],
          [
           337,
           82,
           "Christopher Nolan",
           "Action & Adventure,Drama",
           "Dunkirk (2017)"
          ],
          [
           282,
           87,
           "Jordan Peele",
           "Comedy,Horror,Mystery & Suspense",
           "Get Out (2017)"
          ],
          [
           85,
           98,
           "Francis Ford Coppola",
           "Drama",
           "The Godfather (1972)"
          ],
          [
           72,
           97,
           "Francis Ford Coppola",
           "Drama,Mystery & Suspense",
           "The Godfather, Part II (1974)"
          ],
          [
           83,
           93,
           "Victor Fleming",
           "Classics,Drama,Romance",
           "Gone With the Wind (1939)"
          ],
          [
           43,
           88,
           "John Ford",
           "Classics,Drama",
           "The Grapes of Wrath (1940)"
          ],
          [
           315,
           80,
           "Alfonso CuarÃ³n",
           "Drama,Science Fiction & Fantasy",
           "Gravity (2013)"
          ],
          [
           314,
           89,
           "David Yates (II)",
           "Action & Adventure,Drama,Kids & Family,Mystery & Suspense,Science Fiction & Fantasy",
           "Harry Potter and the Deathly Hallows - Part 2 (2011)"
          ],
          [
           237,
           88,
           "David Mackenzie",
           "Drama,Mystery & Suspense",
           "Hell or High Water (2016)"
          ],
          [
           324,
           89,
           "Pete Docter",
           "Animation,Kids & Family",
           "Inside Out (2015)"
          ],
          [
           52,
           93,
           "Frank Capra",
           "Classics,Comedy,Romance",
           "It Happened One Night (1934)"
          ],
          [
           74,
           90,
           "Steven Spielberg",
           "Action & Adventure,Drama,Mystery & Suspense",
           "Jaws (1975)"
          ],
          [
           51,
           90,
           "Peter Bogdanovich",
           "Classics,Drama",
           "The Last Picture Show (1971)"
          ],
          [
           108,
           94,
           "Curtis Hanson",
           "Drama,Mystery & Suspense",
           "L.A. Confidential (1997)"
          ],
          [
           63,
           92,
           "Jean Renoir",
           "Art House & International,Classics,Drama",
           "La Grande illusion (Grand Illusion) (1938)"
          ],
          [
           358,
           82,
           "Damien Chazelle",
           "Comedy,Drama,Musical & Performing Arts",
           "La La Land (2016)"
          ],
          [
           309,
           91,
           "James Mangold",
           "Action & Adventure,Drama,Science Fiction & Fantasy",
           "Logan (2017)"
          ],
          [
           370,
           86,
           "George Miller",
           "Action & Adventure,Science Fiction & Fantasy",
           "Mad Max: Fury Road (2015)"
          ],
          [
           278,
           77,
           "Kenneth Lonergan",
           "Drama",
           "Manchester by the Sea (2016)"
          ],
          [
           156,
           87,
           "James Marsh",
           "Documentary,Special Interest",
           "Man on Wire (2008)"
          ],
          [
           53,
           95,
           "Charles Chaplin",
           "Classics,Comedy",
           "Modern Times (1936)"
          ],
          [
           292,
           80,
           "Barry Jenkins (III) ",
           "Drama",
           "Moonlight (2016)"
          ],
          [
           64,
           90,
           "Charles Laughton",
           "Drama,Mystery & Suspense",
           "The Night of the Hunter (1955)"
          ],
          [
           65,
           94,
           "Alfred Hitchcock",
           "Classics,Mystery & Suspense",
           "North by Northwest (1959)"
          ],
          [
           62,
           87,
           "F.W. Murnau",
           "Art House & International,Classics,Horror,Science Fiction & Fantasy",
           "Nosferatu, a Symphony of Horror (Nosferatu, eine Symphonie des Grauens) (Nosferatu the Vampire) (1922)"
          ],
          [
           61,
           95,
           "Elia Kazan",
           "Classics,Drama,Romance",
           "On the Waterfront (1954)"
          ],
          [
           41,
           92,
           "Roberto Rossellini",
           "Art House & International,Drama",
           "Open City (1946)"
          ],
          [
           54,
           93,
           "George Cukor",
           "Classics,Comedy,Romance",
           "The Philadelphia Story (1940)"
          ],
          [
           45,
           72,
           "Hamilton Luske",
           "Animation,Kids & Family,Musical & Performing Arts,Science Fiction & Fantasy",
           "Pinocchio (1940)"
          ],
          [
           86,
           94,
           "Alfred Hitchcock",
           "Classics,Horror,Mystery & Suspense",
           "Psycho (1960)"
          ],
          [
           60,
           87,
           "Roman Polanski",
           "Classics,Drama,Horror,Mystery & Suspense",
           "Repulsion (1965)"
          ],
          [
           52,
           94,
           "William Wyler",
           "Classics,Comedy,Drama,Romance",
           "Roman Holiday (1953)"
          ],
          [
           69,
           87,
           "Roman Polanski",
           "Classics,Horror,Mystery & Suspense",
           "Rosemary's Baby (1968)"
          ],
          [
           236,
           86,
           "Ava DuVernay",
           "Drama",
           "Selma (2015)"
          ],
          [
           57,
           97,
           "Akira Kurosawa",
           "Action & Adventure,Art House & International,Classics,Drama",
           "Seven Samurai (Shichinin no Samurai) (1956)"
          ],
          [
           49,
           95,
           "Stanley Donen",
           "Classics,Comedy,Musical & Performing Arts,Romance",
           "Singin' in the Rain (1952)"
          ],
          [
           349,
           86,
           "Sam Mendes",
           "Action & Adventure,Mystery & Suspense",
           "Skyfall (2012)"
          ],
          [
           311,
           93,
           "Tom McCarthy",
           "Drama,Mystery & Suspense",
           "Spotlight (2015)"
          ],
          [
           336,
           91,
           "J.J. Abrams",
           "Action & Adventure,Drama,Science Fiction & Fantasy",
           "Star Trek (2009)"
          ],
          [
           370,
           89,
           "J.J. Abrams",
           "Action & Adventure,Science Fiction & Fantasy",
           "Star Wars: Episode VII - The Force Awakens (2015)"
          ],
          [
           60,
           95,
           "Billy Wilder",
           "Classics,Drama",
           "Sunset Boulevard (1950)"
          ],
          [
           77,
           93,
           "Martin Scorsese",
           "Drama,Mystery & Suspense",
           "Taxi Driver (1976)"
          ],
          [
           214,
           72,
           "Jennifer Kent",
           "Drama,Horror,Mystery & Suspense",
           "The Babadook (2014)"
          ],
          [
           83,
           95,
           "Gillo Pontecorvo",
           "Art House & International,Drama",
           "The Battle of Algiers (La Battaglia di Algeri) (1967)"
          ],
          [
           217,
           90,
           "Michael Showalter",
           "Comedy,Romance",
           "The Big Sick (2017)"
          ],
          [
           49,
           89,
           "Robert Wiene",
           "Art House & International,Classics,Cult Movies,Horror,Mystery & Suspense",
           "The Cabinet of Dr. Caligari (Das Cabinet des Dr. Caligari) (1920)"
          ],
          [
           50,
           91,
           "Bernardo Bertolucci",
           "Art House & International,Drama",
           "The Conformist (1970)"
          ],
          [
           325,
           94,
           "Christopher Nolan",
           "Action & Adventure,Drama,Science Fiction & Fantasy",
           "The Dark Knight (2008)"
          ],
          [
           68,
           97,
           "Sergio Leone",
           "Western",
           "The Good, the Bad and the Ugly (1966)"
          ],
          [
           284,
           86,
           "Jon Favreau",
           "Action & Adventure,Kids & Family",
           "The Jungle Book (2016)"
          ],
          [
           77,
           93,
           "Carol Reed",
           "Classics,Mystery & Suspense",
           "The Third Man (1949)"
          ],
          [
           110,
           89,
           "King Vidor",
           "Classics,Kids & Family,Musical & Performing Arts,Science Fiction & Fantasy",
           "The Wizard of Oz (1939)"
          ],
          [
           222,
           88,
           "Darren Aronofsky",
           "Drama",
           "The Wrestler (2008)"
          ],
          [
           78,
           92,
           "John Lasseter",
           "Animation,Comedy,Kids & Family,Science Fiction & Fantasy",
           "Toy Story (1995)"
          ],
          [
           163,
           86,
           "Ash Brannon",
           "Animation,Comedy,Kids & Family,Science Fiction & Fantasy",
           "Toy Story 2 (1999)"
          ],
          [
           291,
           89,
           "Lee Unkrich",
           "Animation,Comedy,Kids & Family,Science Fiction & Fantasy",
           "Toy Story 3 (2010)"
          ],
          [
           45,
           93,
           "John Huston",
           "Action & Adventure,Classics,Drama,Western",
           "The Treasure of the Sierra Madre (1948)"
          ],
          [
           286,
           90,
           "Pete Docter",
           "Action & Adventure,Animation,Comedy,Kids & Family",
           "Up (2009)"
          ],
          [
           64,
           93,
           "Alfred Hitchcock",
           "Classics,Drama,Mystery & Suspense,Romance",
           "Vertigo (1958)"
          ],
          [
           40,
           95,
           "Henri-Georges Clouzot",
           "Art House & International,Drama,Mystery & Suspense",
           "The Wages of Fear (1953)"
          ],
          [
           333,
           90,
           "Patty Jenkins",
           "Action & Adventure,Drama,Science Fiction & Fantasy",
           "Wonder Woman (2017)"
          ],
          [
           249,
           92,
           "Byron Howard",
           "Action & Adventure,Animation,Comedy",
           "Zootopia (2016)"
          ]
         ],
         "hovertemplate": "ranking=%{x}<br>critic_score=%{y}<br>number_of_critic_ratings=%{marker.color}<br>audience_score=%{customdata[1]}<br>movie_author=%{customdata[2]}<br>movie_genre=%{customdata[3]}<br>title=%{customdata[4]}<extra></extra>",
         "legendgroup": "",
         "marker": {
          "color": [
           49,
           44,
           45,
           64,
           40,
           74,
           45,
           54,
           60,
           51,
           50,
           116,
           63,
           48,
           54,
           70,
           50,
           47,
           316,
           54,
           104,
           80,
           313,
           333,
           283,
           45,
           104,
           56,
           283,
           41,
           243,
           75,
           74,
           337,
           282,
           85,
           72,
           83,
           43,
           315,
           314,
           237,
           324,
           52,
           74,
           51,
           108,
           63,
           358,
           309,
           370,
           278,
           156,
           53,
           292,
           64,
           65,
           62,
           61,
           41,
           54,
           45,
           86,
           60,
           52,
           69,
           236,
           57,
           49,
           349,
           311,
           336,
           370,
           60,
           77,
           214,
           83,
           217,
           49,
           50,
           325,
           68,
           284,
           77,
           110,
           222,
           78,
           163,
           291,
           45,
           286,
           64,
           40,
           333,
           249
          ],
          "coloraxis": "coloraxis",
          "size": [
           49,
           44,
           45,
           64,
           40,
           74,
           45,
           54,
           60,
           51,
           50,
           116,
           63,
           48,
           54,
           70,
           50,
           47,
           316,
           54,
           104,
           80,
           313,
           333,
           283,
           45,
           104,
           56,
           283,
           41,
           243,
           75,
           74,
           337,
           282,
           85,
           72,
           83,
           43,
           315,
           314,
           237,
           324,
           52,
           74,
           51,
           108,
           63,
           358,
           309,
           370,
           278,
           156,
           53,
           292,
           64,
           65,
           62,
           61,
           41,
           54,
           45,
           86,
           60,
           52,
           69,
           236,
           57,
           49,
           349,
           311,
           336,
           370,
           60,
           77,
           214,
           83,
           217,
           49,
           50,
           325,
           68,
           284,
           77,
           110,
           222,
           78,
           163,
           291,
           45,
           286,
           64,
           40,
           333,
           249
          ],
          "sizemode": "area",
          "sizeref": 0.925,
          "symbol": "circle"
         },
         "mode": "markers",
         "name": "",
         "orientation": "v",
         "showlegend": false,
         "type": "scatter",
         "x": [
          53,
          76,
          34,
          7,
          56,
          16,
          65,
          32,
          19,
          45,
          27,
          10,
          36,
          71,
          60,
          68,
          88,
          21,
          29,
          54,
          48,
          89,
          40,
          58,
          59,
          100,
          22,
          49,
          15,
          43,
          74,
          2,
          64,
          26,
          4,
          9,
          99,
          78,
          94,
          30,
          93,
          83,
          8,
          13,
          97,
          92,
          77,
          23,
          86,
          55,
          5,
          63,
          96,
          12,
          17,
          61,
          24,
          20,
          90,
          81,
          47,
          84,
          18,
          28,
          95,
          72,
          37,
          50,
          14,
          80,
          33,
          87,
          62,
          31,
          38,
          69,
          25,
          42,
          6,
          70,
          67,
          79,
          85,
          3,
          1,
          75,
          98,
          41,
          39,
          51,
          52,
          66,
          91,
          46,
          44
         ],
         "xaxis": "x",
         "y": [
          100,
          98,
          100,
          100,
          100,
          97,
          100,
          98,
          100,
          100,
          100,
          99,
          100,
          100,
          98,
          96,
          96,
          98,
          96,
          100,
          97,
          98,
          96,
          94,
          93,
          100,
          98,
          98,
          98,
          100,
          97,
          100,
          99,
          93,
          99,
          99,
          97,
          94,
          100,
          96,
          96,
          97,
          98,
          98,
          97,
          100,
          99,
          97,
          92,
          93,
          97,
          96,
          100,
          100,
          98,
          98,
          100,
          97,
          98,
          100,
          100,
          100,
          97,
          100,
          98,
          99,
          99,
          100,
          100,
          93,
          96,
          95,
          92,
          98,
          99,
          98,
          99,
          98,
          100,
          100,
          94,
          97,
          95,
          100,
          99,
          98,
          100,
          100,
          99,
          100,
          98,
          97,
          100,
          92,
          98
         ],
         "yaxis": "y"
        }
       ],
       "layout": {
        "coloraxis": {
         "colorbar": {
          "title": {
           "text": "number_of_critic_ratings"
          }
         },
         "colorscale": [
          [
           0,
           "#0d0887"
          ],
          [
           0.1111111111111111,
           "#46039f"
          ],
          [
           0.2222222222222222,
           "#7201a8"
          ],
          [
           0.3333333333333333,
           "#9c179e"
          ],
          [
           0.4444444444444444,
           "#bd3786"
          ],
          [
           0.5555555555555556,
           "#d8576b"
          ],
          [
           0.6666666666666666,
           "#ed7953"
          ],
          [
           0.7777777777777778,
           "#fb9f3a"
          ],
          [
           0.8888888888888888,
           "#fdca26"
          ],
          [
           1,
           "#f0f921"
          ]
         ]
        },
        "legend": {
         "itemsizing": "constant",
         "tracegroupgap": 0
        },
        "template": {
         "data": {
          "bar": [
           {
            "error_x": {
             "color": "#2a3f5f"
            },
            "error_y": {
             "color": "#2a3f5f"
            },
            "marker": {
             "line": {
              "color": "#E5ECF6",
              "width": 0.5
             },
             "pattern": {
              "fillmode": "overlay",
              "size": 10,
              "solidity": 0.2
             }
            },
            "type": "bar"
           }
          ],
          "barpolar": [
           {
            "marker": {
             "line": {
              "color": "#E5ECF6",
              "width": 0.5
             },
             "pattern": {
              "fillmode": "overlay",
              "size": 10,
              "solidity": 0.2
             }
            },
            "type": "barpolar"
           }
          ],
          "carpet": [
           {
            "aaxis": {
             "endlinecolor": "#2a3f5f",
             "gridcolor": "white",
             "linecolor": "white",
             "minorgridcolor": "white",
             "startlinecolor": "#2a3f5f"
            },
            "baxis": {
             "endlinecolor": "#2a3f5f",
             "gridcolor": "white",
             "linecolor": "white",
             "minorgridcolor": "white",
             "startlinecolor": "#2a3f5f"
            },
            "type": "carpet"
           }
          ],
          "choropleth": [
           {
            "colorbar": {
             "outlinewidth": 0,
             "ticks": ""
            },
            "type": "choropleth"
           }
          ],
          "contour": [
           {
            "colorbar": {
             "outlinewidth": 0,
             "ticks": ""
            },
            "colorscale": [
             [
              0,
              "#0d0887"
             ],
             [
              0.1111111111111111,
              "#46039f"
             ],
             [
              0.2222222222222222,
              "#7201a8"
             ],
             [
              0.3333333333333333,
              "#9c179e"
             ],
             [
              0.4444444444444444,
              "#bd3786"
             ],
             [
              0.5555555555555556,
              "#d8576b"
             ],
             [
              0.6666666666666666,
              "#ed7953"
             ],
             [
              0.7777777777777778,
              "#fb9f3a"
             ],
             [
              0.8888888888888888,
              "#fdca26"
             ],
             [
              1,
              "#f0f921"
             ]
            ],
            "type": "contour"
           }
          ],
          "contourcarpet": [
           {
            "colorbar": {
             "outlinewidth": 0,
             "ticks": ""
            },
            "type": "contourcarpet"
           }
          ],
          "heatmap": [
           {
            "colorbar": {
             "outlinewidth": 0,
             "ticks": ""
            },
            "colorscale": [
             [
              0,
              "#0d0887"
             ],
             [
              0.1111111111111111,
              "#46039f"
             ],
             [
              0.2222222222222222,
              "#7201a8"
             ],
             [
              0.3333333333333333,
              "#9c179e"
             ],
             [
              0.4444444444444444,
              "#bd3786"
             ],
             [
              0.5555555555555556,
              "#d8576b"
             ],
             [
              0.6666666666666666,
              "#ed7953"
             ],
             [
              0.7777777777777778,
              "#fb9f3a"
             ],
             [
              0.8888888888888888,
              "#fdca26"
             ],
             [
              1,
              "#f0f921"
             ]
            ],
            "type": "heatmap"
           }
          ],
          "heatmapgl": [
           {
            "colorbar": {
             "outlinewidth": 0,
             "ticks": ""
            },
            "colorscale": [
             [
              0,
              "#0d0887"
             ],
             [
              0.1111111111111111,
              "#46039f"
             ],
             [
              0.2222222222222222,
              "#7201a8"
             ],
             [
              0.3333333333333333,
              "#9c179e"
             ],
             [
              0.4444444444444444,
              "#bd3786"
             ],
             [
              0.5555555555555556,
              "#d8576b"
             ],
             [
              0.6666666666666666,
              "#ed7953"
             ],
             [
              0.7777777777777778,
              "#fb9f3a"
             ],
             [
              0.8888888888888888,
              "#fdca26"
             ],
             [
              1,
              "#f0f921"
             ]
            ],
            "type": "heatmapgl"
           }
          ],
          "histogram": [
           {
            "marker": {
             "pattern": {
              "fillmode": "overlay",
              "size": 10,
              "solidity": 0.2
             }
            },
            "type": "histogram"
           }
          ],
          "histogram2d": [
           {
            "colorbar": {
             "outlinewidth": 0,
             "ticks": ""
            },
            "colorscale": [
             [
              0,
              "#0d0887"
             ],
             [
              0.1111111111111111,
              "#46039f"
             ],
             [
              0.2222222222222222,
              "#7201a8"
             ],
             [
              0.3333333333333333,
              "#9c179e"
             ],
             [
              0.4444444444444444,
              "#bd3786"
             ],
             [
              0.5555555555555556,
              "#d8576b"
             ],
             [
              0.6666666666666666,
              "#ed7953"
             ],
             [
              0.7777777777777778,
              "#fb9f3a"
             ],
             [
              0.8888888888888888,
              "#fdca26"
             ],
             [
              1,
              "#f0f921"
             ]
            ],
            "type": "histogram2d"
           }
          ],
          "histogram2dcontour": [
           {
            "colorbar": {
             "outlinewidth": 0,
             "ticks": ""
            },
            "colorscale": [
             [
              0,
              "#0d0887"
             ],
             [
              0.1111111111111111,
              "#46039f"
             ],
             [
              0.2222222222222222,
              "#7201a8"
             ],
             [
              0.3333333333333333,
              "#9c179e"
             ],
             [
              0.4444444444444444,
              "#bd3786"
             ],
             [
              0.5555555555555556,
              "#d8576b"
             ],
             [
              0.6666666666666666,
              "#ed7953"
             ],
             [
              0.7777777777777778,
              "#fb9f3a"
             ],
             [
              0.8888888888888888,
              "#fdca26"
             ],
             [
              1,
              "#f0f921"
             ]
            ],
            "type": "histogram2dcontour"
           }
          ],
          "mesh3d": [
           {
            "colorbar": {
             "outlinewidth": 0,
             "ticks": ""
            },
            "type": "mesh3d"
           }
          ],
          "parcoords": [
           {
            "line": {
             "colorbar": {
              "outlinewidth": 0,
              "ticks": ""
             }
            },
            "type": "parcoords"
           }
          ],
          "pie": [
           {
            "automargin": true,
            "type": "pie"
           }
          ],
          "scatter": [
           {
            "fillpattern": {
             "fillmode": "overlay",
             "size": 10,
             "solidity": 0.2
            },
            "type": "scatter"
           }
          ],
          "scatter3d": [
           {
            "line": {
             "colorbar": {
              "outlinewidth": 0,
              "ticks": ""
             }
            },
            "marker": {
             "colorbar": {
              "outlinewidth": 0,
              "ticks": ""
             }
            },
            "type": "scatter3d"
           }
          ],
          "scattercarpet": [
           {
            "marker": {
             "colorbar": {
              "outlinewidth": 0,
              "ticks": ""
             }
            },
            "type": "scattercarpet"
           }
          ],
          "scattergeo": [
           {
            "marker": {
             "colorbar": {
              "outlinewidth": 0,
              "ticks": ""
             }
            },
            "type": "scattergeo"
           }
          ],
          "scattergl": [
           {
            "marker": {
             "colorbar": {
              "outlinewidth": 0,
              "ticks": ""
             }
            },
            "type": "scattergl"
           }
          ],
          "scattermapbox": [
           {
            "marker": {
             "colorbar": {
              "outlinewidth": 0,
              "ticks": ""
             }
            },
            "type": "scattermapbox"
           }
          ],
          "scatterpolar": [
           {
            "marker": {
             "colorbar": {
              "outlinewidth": 0,
              "ticks": ""
             }
            },
            "type": "scatterpolar"
           }
          ],
          "scatterpolargl": [
           {
            "marker": {
             "colorbar": {
              "outlinewidth": 0,
              "ticks": ""
             }
            },
            "type": "scatterpolargl"
           }
          ],
          "scatterternary": [
           {
            "marker": {
             "colorbar": {
              "outlinewidth": 0,
              "ticks": ""
             }
            },
            "type": "scatterternary"
           }
          ],
          "surface": [
           {
            "colorbar": {
             "outlinewidth": 0,
             "ticks": ""
            },
            "colorscale": [
             [
              0,
              "#0d0887"
             ],
             [
              0.1111111111111111,
              "#46039f"
             ],
             [
              0.2222222222222222,
              "#7201a8"
             ],
             [
              0.3333333333333333,
              "#9c179e"
             ],
             [
              0.4444444444444444,
              "#bd3786"
             ],
             [
              0.5555555555555556,
              "#d8576b"
             ],
             [
              0.6666666666666666,
              "#ed7953"
             ],
             [
              0.7777777777777778,
              "#fb9f3a"
             ],
             [
              0.8888888888888888,
              "#fdca26"
             ],
             [
              1,
              "#f0f921"
             ]
            ],
            "type": "surface"
           }
          ],
          "table": [
           {
            "cells": {
             "fill": {
              "color": "#EBF0F8"
             },
             "line": {
              "color": "white"
             }
            },
            "header": {
             "fill": {
              "color": "#C8D4E3"
             },
             "line": {
              "color": "white"
             }
            },
            "type": "table"
           }
          ]
         },
         "layout": {
          "annotationdefaults": {
           "arrowcolor": "#2a3f5f",
           "arrowhead": 0,
           "arrowwidth": 1
          },
          "autotypenumbers": "strict",
          "coloraxis": {
           "colorbar": {
            "outlinewidth": 0,
            "ticks": ""
           }
          },
          "colorscale": {
           "diverging": [
            [
             0,
             "#8e0152"
            ],
            [
             0.1,
             "#c51b7d"
            ],
            [
             0.2,
             "#de77ae"
            ],
            [
             0.3,
             "#f1b6da"
            ],
            [
             0.4,
             "#fde0ef"
            ],
            [
             0.5,
             "#f7f7f7"
            ],
            [
             0.6,
             "#e6f5d0"
            ],
            [
             0.7,
             "#b8e186"
            ],
            [
             0.8,
             "#7fbc41"
            ],
            [
             0.9,
             "#4d9221"
            ],
            [
             1,
             "#276419"
            ]
           ],
           "sequential": [
            [
             0,
             "#0d0887"
            ],
            [
             0.1111111111111111,
             "#46039f"
            ],
            [
             0.2222222222222222,
             "#7201a8"
            ],
            [
             0.3333333333333333,
             "#9c179e"
            ],
            [
             0.4444444444444444,
             "#bd3786"
            ],
            [
             0.5555555555555556,
             "#d8576b"
            ],
            [
             0.6666666666666666,
             "#ed7953"
            ],
            [
             0.7777777777777778,
             "#fb9f3a"
            ],
            [
             0.8888888888888888,
             "#fdca26"
            ],
            [
             1,
             "#f0f921"
            ]
           ],
           "sequentialminus": [
            [
             0,
             "#0d0887"
            ],
            [
             0.1111111111111111,
             "#46039f"
            ],
            [
             0.2222222222222222,
             "#7201a8"
            ],
            [
             0.3333333333333333,
             "#9c179e"
            ],
            [
             0.4444444444444444,
             "#bd3786"
            ],
            [
             0.5555555555555556,
             "#d8576b"
            ],
            [
             0.6666666666666666,
             "#ed7953"
            ],
            [
             0.7777777777777778,
             "#fb9f3a"
            ],
            [
             0.8888888888888888,
             "#fdca26"
            ],
            [
             1,
             "#f0f921"
            ]
           ]
          },
          "colorway": [
           "#636efa",
           "#EF553B",
           "#00cc96",
           "#ab63fa",
           "#FFA15A",
           "#19d3f3",
           "#FF6692",
           "#B6E880",
           "#FF97FF",
           "#FECB52"
          ],
          "font": {
           "color": "#2a3f5f"
          },
          "geo": {
           "bgcolor": "white",
           "lakecolor": "white",
           "landcolor": "#E5ECF6",
           "showlakes": true,
           "showland": true,
           "subunitcolor": "white"
          },
          "hoverlabel": {
           "align": "left"
          },
          "hovermode": "closest",
          "mapbox": {
           "style": "light"
          },
          "paper_bgcolor": "white",
          "plot_bgcolor": "#E5ECF6",
          "polar": {
           "angularaxis": {
            "gridcolor": "white",
            "linecolor": "white",
            "ticks": ""
           },
           "bgcolor": "#E5ECF6",
           "radialaxis": {
            "gridcolor": "white",
            "linecolor": "white",
            "ticks": ""
           }
          },
          "scene": {
           "xaxis": {
            "backgroundcolor": "#E5ECF6",
            "gridcolor": "white",
            "gridwidth": 2,
            "linecolor": "white",
            "showbackground": true,
            "ticks": "",
            "zerolinecolor": "white"
           },
           "yaxis": {
            "backgroundcolor": "#E5ECF6",
            "gridcolor": "white",
            "gridwidth": 2,
            "linecolor": "white",
            "showbackground": true,
            "ticks": "",
            "zerolinecolor": "white"
           },
           "zaxis": {
            "backgroundcolor": "#E5ECF6",
            "gridcolor": "white",
            "gridwidth": 2,
            "linecolor": "white",
            "showbackground": true,
            "ticks": "",
            "zerolinecolor": "white"
           }
          },
          "shapedefaults": {
           "line": {
            "color": "#2a3f5f"
           }
          },
          "ternary": {
           "aaxis": {
            "gridcolor": "white",
            "linecolor": "white",
            "ticks": ""
           },
           "baxis": {
            "gridcolor": "white",
            "linecolor": "white",
            "ticks": ""
           },
           "bgcolor": "#E5ECF6",
           "caxis": {
            "gridcolor": "white",
            "linecolor": "white",
            "ticks": ""
           }
          },
          "title": {
           "x": 0.05
          },
          "xaxis": {
           "automargin": true,
           "gridcolor": "white",
           "linecolor": "white",
           "ticks": "",
           "title": {
            "standoff": 15
           },
           "zerolinecolor": "white",
           "zerolinewidth": 2
          },
          "yaxis": {
           "automargin": true,
           "gridcolor": "white",
           "linecolor": "white",
           "ticks": "",
           "title": {
            "standoff": 15
           },
           "zerolinecolor": "white",
           "zerolinewidth": 2
          }
         }
        },
        "title": {
         "text": "Movie ranking"
        },
        "xaxis": {
         "anchor": "y",
         "domain": [
          0,
          1
         ],
         "title": {
          "text": "ranking"
         }
        },
        "yaxis": {
         "anchor": "x",
         "domain": [
          0,
          1
         ],
         "title": {
          "text": "critic_score"
         }
        }
       }
      },
      "text/html": [
       "<div>                            <div id=\"11ac7d22-4144-4912-80e0-c8aeae699fb4\" class=\"plotly-graph-div\" style=\"height:525px; width:100%;\"></div>            <script type=\"text/javascript\">                require([\"plotly\"], function(Plotly) {                    window.PLOTLYENV=window.PLOTLYENV || {};                                    if (document.getElementById(\"11ac7d22-4144-4912-80e0-c8aeae699fb4\")) {                    Plotly.newPlot(                        \"11ac7d22-4144-4912-80e0-c8aeae699fb4\",                        [{\"customdata\":[[49,97,\"Sidney Lumet\",\"Classics,Drama\",\"12 Angry Men (Twelve Angry Men) (1957)\"],[44,86,\"Alfred Hitchcock\",\"Action & Adventure,Classics,Mystery & Suspense\",\"The 39 Steps (1935)\"],[45,89,\"Michael Curtiz\",\"Action & Adventure,Classics,Romance\",\"The Adventures of Robin Hood (1938)\"],[64,94,\"Joseph L. Mankiewicz\",\"Classics,Comedy,Drama\",\"All About Eve (1950)\"],[40,89,\"Lewis Milestone\",\"Classics,Drama\",\"All Quiet on the Western Front (1930)\"],[74,95,\"Michael Curtiz\",\"Classics,Drama,Romance\",\"Casablanca (1942)\"],[45,87,\"James Whale\",\"Classics,Horror,Science Fiction & Fantasy,Special Interest\",\"Frankenstein (1931)\"],[54,86,\"Ernest B. Schoedsack\",\"Action & Adventure,Classics,Horror\",\"King Kong (1933)\"],[60,91,\"Otto Preminger\",\"Classics,Mystery & Suspense\",\"Laura (1944)\"],[51,95,\"Fritz Lang\",\"Art House & International,Drama,Mystery & Suspense\",\"M (1931)\"],[50,91,\"John Huston\",\"Drama,Mystery & Suspense\",\"The Maltese Falcon (1941)\"],[116,92,\"Fritz Lang\",\"Action & Adventure,Art House & International,Classics,Drama,Science Fiction & Fantasy\",\"Metropolis (1927)\"],[63,95,\"Alfred Hitchcock\",\"Classics,Drama,Mystery & Suspense\",\"Rear Window (1954)\"],[48,92,\"Alfred Hitchcock\",\"Classics,Drama,Mystery & Suspense\",\"Rebecca (1940)\"],[54,90,\"Elia Kazan\",\"Classics,Drama\",\"A Streetcar Named Desire (1951)\"],[70,92,\"Orson Welles\",\"Classics,Drama,Mystery & Suspense\",\"Touch of Evil (1958)\"],[50,89,\"Fred Zinnemann\",\"Mystery & Suspense,Western\",\"High Noon (1952)\"],[47,78,\"David Hand\",\"Animation,Classics,Kids & Family,Science Fiction & Fantasy\",\"Snow White and the Seven Dwarfs (1937)\"],[316,90,\"Steve McQueen (III)\",\"Drama\",\"12 Years a Slave (2013)\"],[54,94,\"Fran\\u00c3\\u00a7ois Truffaut\",\"Art House & International,Classics,Drama\",\"The 400 Blows (Les Quatre cents coups) (1959)\"],[104,94,\"Ridley Scott\",\"Drama,Mystery & Suspense,Science Fiction & Fantasy\",\"Alien (1979)\"],[80,94,\"Francis Ford Coppola\",\"Action & Adventure,Drama\",\"Apocalypse Now (1979)\"],[313,90,\"Ben Affleck\",\"Drama,Mystery & Suspense\",\"Argo (2012)\"],[333,82,\"Denis Villeneuve\",\"Drama,Mystery & Suspense,Science Fiction & Fantasy\",\"Arrival (2016)\"],[283,89,\"Edgar Wright\",\"Action & Adventure,Comedy,Drama\",\"Baby Driver (2017)\"],[45,85,\"Sergei M. Eisenstein\",\"Art House & International,Classics,Drama\",\"Battleship Potemkin (1925)\"],[104,89,\"Richard Lester\",\"Classics,Comedy,Musical & Performing Arts\",\"A Hard Day's Night (1964)\"],[56,94,\"Vittorio De Sica\",\"Drama\",\"Bicycle Thieves (Ladri di biciclette) (1949)\"],[283,81,\"Richard Linklater\",\"Drama\",\"Boyhood (2014)\"],[41,87,\"James Whale\",\"Classics,Horror,Science Fiction & Fantasy,Special Interest\",\"The Bride of Frankenstein (1935)\"],[243,87,\"John Crowley\",\"Drama\",\"Brooklyn (2015)\"],[75,90,\"Orson Welles\",\"Classics,Drama,Mystery & Suspense\",\"Citizen Kane (1941)\"],[74,94,\"Stanley Kubrick\",\"Classics,Comedy,Science Fiction & Fantasy\",\"Dr. Strangelove Or How I Learned to Stop Worrying and Love the Bomb (1964)\"],[337,82,\"Christopher Nolan\",\"Action & Adventure,Drama\",\"Dunkirk (2017)\"],[282,87,\"Jordan Peele\",\"Comedy,Horror,Mystery & Suspense\",\"Get Out (2017)\"],[85,98,\"Francis Ford Coppola\",\"Drama\",\"The Godfather (1972)\"],[72,97,\"Francis Ford Coppola\",\"Drama,Mystery & Suspense\",\"The Godfather, Part II (1974)\"],[83,93,\"Victor Fleming\",\"Classics,Drama,Romance\",\"Gone With the Wind (1939)\"],[43,88,\"John Ford\",\"Classics,Drama\",\"The Grapes of Wrath (1940)\"],[315,80,\"Alfonso Cuar\\u00c3\\u00b3n\",\"Drama,Science Fiction & Fantasy\",\"Gravity (2013)\"],[314,89,\"David Yates (II)\",\"Action & Adventure,Drama,Kids & Family,Mystery & Suspense,Science Fiction & Fantasy\",\"Harry Potter and the Deathly Hallows - Part 2 (2011)\"],[237,88,\"David Mackenzie\",\"Drama,Mystery & Suspense\",\"Hell or High Water (2016)\"],[324,89,\"Pete Docter\",\"Animation,Kids & Family\",\"Inside Out (2015)\"],[52,93,\"Frank Capra\",\"Classics,Comedy,Romance\",\"It Happened One Night (1934)\"],[74,90,\"Steven Spielberg\",\"Action & Adventure,Drama,Mystery & Suspense\",\"Jaws (1975)\"],[51,90,\"Peter Bogdanovich\",\"Classics,Drama\",\"The Last Picture Show (1971)\"],[108,94,\"Curtis Hanson\",\"Drama,Mystery & Suspense\",\"L.A. Confidential (1997)\"],[63,92,\"Jean Renoir\",\"Art House & International,Classics,Drama\",\"La Grande illusion (Grand Illusion) (1938)\"],[358,82,\"Damien Chazelle\",\"Comedy,Drama,Musical & Performing Arts\",\"La La Land (2016)\"],[309,91,\"James Mangold\",\"Action & Adventure,Drama,Science Fiction & Fantasy\",\"Logan (2017)\"],[370,86,\"George Miller\",\"Action & Adventure,Science Fiction & Fantasy\",\"Mad Max: Fury Road (2015)\"],[278,77,\"Kenneth Lonergan\",\"Drama\",\"Manchester by the Sea (2016)\"],[156,87,\"James Marsh\",\"Documentary,Special Interest\",\"Man on Wire (2008)\"],[53,95,\"Charles Chaplin\",\"Classics,Comedy\",\"Modern Times (1936)\"],[292,80,\"Barry Jenkins (III) \",\"Drama\",\"Moonlight (2016)\"],[64,90,\"Charles Laughton\",\"Drama,Mystery & Suspense\",\"The Night of the Hunter (1955)\"],[65,94,\"Alfred Hitchcock\",\"Classics,Mystery & Suspense\",\"North by Northwest (1959)\"],[62,87,\"F.W. Murnau\",\"Art House & International,Classics,Horror,Science Fiction & Fantasy\",\"Nosferatu, a Symphony of Horror (Nosferatu, eine Symphonie des Grauens) (Nosferatu the Vampire) (1922)\"],[61,95,\"Elia Kazan\",\"Classics,Drama,Romance\",\"On the Waterfront (1954)\"],[41,92,\"Roberto Rossellini\",\"Art House & International,Drama\",\"Open City (1946)\"],[54,93,\"George Cukor\",\"Classics,Comedy,Romance\",\"The Philadelphia Story (1940)\"],[45,72,\"Hamilton Luske\",\"Animation,Kids & Family,Musical & Performing Arts,Science Fiction & Fantasy\",\"Pinocchio (1940)\"],[86,94,\"Alfred Hitchcock\",\"Classics,Horror,Mystery & Suspense\",\"Psycho (1960)\"],[60,87,\"Roman Polanski\",\"Classics,Drama,Horror,Mystery & Suspense\",\"Repulsion (1965)\"],[52,94,\"William Wyler\",\"Classics,Comedy,Drama,Romance\",\"Roman Holiday (1953)\"],[69,87,\"Roman Polanski\",\"Classics,Horror,Mystery & Suspense\",\"Rosemary's Baby (1968)\"],[236,86,\"Ava DuVernay\",\"Drama\",\"Selma (2015)\"],[57,97,\"Akira Kurosawa\",\"Action & Adventure,Art House & International,Classics,Drama\",\"Seven Samurai (Shichinin no Samurai) (1956)\"],[49,95,\"Stanley Donen\",\"Classics,Comedy,Musical & Performing Arts,Romance\",\"Singin' in the Rain (1952)\"],[349,86,\"Sam Mendes\",\"Action & Adventure,Mystery & Suspense\",\"Skyfall (2012)\"],[311,93,\"Tom McCarthy\",\"Drama,Mystery & Suspense\",\"Spotlight (2015)\"],[336,91,\"J.J. Abrams\",\"Action & Adventure,Drama,Science Fiction & Fantasy\",\"Star Trek (2009)\"],[370,89,\"J.J. Abrams\",\"Action & Adventure,Science Fiction & Fantasy\",\"Star Wars: Episode VII - The Force Awakens (2015)\"],[60,95,\"Billy Wilder\",\"Classics,Drama\",\"Sunset Boulevard (1950)\"],[77,93,\"Martin Scorsese\",\"Drama,Mystery & Suspense\",\"Taxi Driver (1976)\"],[214,72,\"Jennifer Kent\",\"Drama,Horror,Mystery & Suspense\",\"The Babadook (2014)\"],[83,95,\"Gillo Pontecorvo\",\"Art House & International,Drama\",\"The Battle of Algiers (La Battaglia di Algeri) (1967)\"],[217,90,\"Michael Showalter\",\"Comedy,Romance\",\"The Big Sick (2017)\"],[49,89,\"Robert Wiene\",\"Art House & International,Classics,Cult Movies,Horror,Mystery & Suspense\",\"The Cabinet of Dr. Caligari (Das Cabinet des Dr. Caligari) (1920)\"],[50,91,\"Bernardo Bertolucci\",\"Art House & International,Drama\",\"The Conformist (1970)\"],[325,94,\"Christopher Nolan\",\"Action & Adventure,Drama,Science Fiction & Fantasy\",\"The Dark Knight (2008)\"],[68,97,\"Sergio Leone\",\"Western\",\"The Good, the Bad and the Ugly (1966)\"],[284,86,\"Jon Favreau\",\"Action & Adventure,Kids & Family\",\"The Jungle Book (2016)\"],[77,93,\"Carol Reed\",\"Classics,Mystery & Suspense\",\"The Third Man (1949)\"],[110,89,\"King Vidor\",\"Classics,Kids & Family,Musical & Performing Arts,Science Fiction & Fantasy\",\"The Wizard of Oz (1939)\"],[222,88,\"Darren Aronofsky\",\"Drama\",\"The Wrestler (2008)\"],[78,92,\"John Lasseter\",\"Animation,Comedy,Kids & Family,Science Fiction & Fantasy\",\"Toy Story (1995)\"],[163,86,\"Ash Brannon\",\"Animation,Comedy,Kids & Family,Science Fiction & Fantasy\",\"Toy Story 2 (1999)\"],[291,89,\"Lee Unkrich\",\"Animation,Comedy,Kids & Family,Science Fiction & Fantasy\",\"Toy Story 3 (2010)\"],[45,93,\"John Huston\",\"Action & Adventure,Classics,Drama,Western\",\"The Treasure of the Sierra Madre (1948)\"],[286,90,\"Pete Docter\",\"Action & Adventure,Animation,Comedy,Kids & Family\",\"Up (2009)\"],[64,93,\"Alfred Hitchcock\",\"Classics,Drama,Mystery & Suspense,Romance\",\"Vertigo (1958)\"],[40,95,\"Henri-Georges Clouzot\",\"Art House & International,Drama,Mystery & Suspense\",\"The Wages of Fear (1953)\"],[333,90,\"Patty Jenkins\",\"Action & Adventure,Drama,Science Fiction & Fantasy\",\"Wonder Woman (2017)\"],[249,92,\"Byron Howard\",\"Action & Adventure,Animation,Comedy\",\"Zootopia (2016)\"]],\"hovertemplate\":\"ranking=%{x}<br>critic_score=%{y}<br>number_of_critic_ratings=%{marker.color}<br>audience_score=%{customdata[1]}<br>movie_author=%{customdata[2]}<br>movie_genre=%{customdata[3]}<br>title=%{customdata[4]}<extra></extra>\",\"legendgroup\":\"\",\"marker\":{\"color\":[49,44,45,64,40,74,45,54,60,51,50,116,63,48,54,70,50,47,316,54,104,80,313,333,283,45,104,56,283,41,243,75,74,337,282,85,72,83,43,315,314,237,324,52,74,51,108,63,358,309,370,278,156,53,292,64,65,62,61,41,54,45,86,60,52,69,236,57,49,349,311,336,370,60,77,214,83,217,49,50,325,68,284,77,110,222,78,163,291,45,286,64,40,333,249],\"coloraxis\":\"coloraxis\",\"size\":[49,44,45,64,40,74,45,54,60,51,50,116,63,48,54,70,50,47,316,54,104,80,313,333,283,45,104,56,283,41,243,75,74,337,282,85,72,83,43,315,314,237,324,52,74,51,108,63,358,309,370,278,156,53,292,64,65,62,61,41,54,45,86,60,52,69,236,57,49,349,311,336,370,60,77,214,83,217,49,50,325,68,284,77,110,222,78,163,291,45,286,64,40,333,249],\"sizemode\":\"area\",\"sizeref\":0.925,\"symbol\":\"circle\"},\"mode\":\"markers\",\"name\":\"\",\"orientation\":\"v\",\"showlegend\":false,\"x\":[53,76,34,7,56,16,65,32,19,45,27,10,36,71,60,68,88,21,29,54,48,89,40,58,59,100,22,49,15,43,74,2,64,26,4,9,99,78,94,30,93,83,8,13,97,92,77,23,86,55,5,63,96,12,17,61,24,20,90,81,47,84,18,28,95,72,37,50,14,80,33,87,62,31,38,69,25,42,6,70,67,79,85,3,1,75,98,41,39,51,52,66,91,46,44],\"xaxis\":\"x\",\"y\":[100,98,100,100,100,97,100,98,100,100,100,99,100,100,98,96,96,98,96,100,97,98,96,94,93,100,98,98,98,100,97,100,99,93,99,99,97,94,100,96,96,97,98,98,97,100,99,97,92,93,97,96,100,100,98,98,100,97,98,100,100,100,97,100,98,99,99,100,100,93,96,95,92,98,99,98,99,98,100,100,94,97,95,100,99,98,100,100,99,100,98,97,100,92,98],\"yaxis\":\"y\",\"type\":\"scatter\"}],                        {\"template\":{\"data\":{\"histogram2dcontour\":[{\"type\":\"histogram2dcontour\",\"colorbar\":{\"outlinewidth\":0,\"ticks\":\"\"},\"colorscale\":[[0.0,\"#0d0887\"],[0.1111111111111111,\"#46039f\"],[0.2222222222222222,\"#7201a8\"],[0.3333333333333333,\"#9c179e\"],[0.4444444444444444,\"#bd3786\"],[0.5555555555555556,\"#d8576b\"],[0.6666666666666666,\"#ed7953\"],[0.7777777777777778,\"#fb9f3a\"],[0.8888888888888888,\"#fdca26\"],[1.0,\"#f0f921\"]]}],\"choropleth\":[{\"type\":\"choropleth\",\"colorbar\":{\"outlinewidth\":0,\"ticks\":\"\"}}],\"histogram2d\":[{\"type\":\"histogram2d\",\"colorbar\":{\"outlinewidth\":0,\"ticks\":\"\"},\"colorscale\":[[0.0,\"#0d0887\"],[0.1111111111111111,\"#46039f\"],[0.2222222222222222,\"#7201a8\"],[0.3333333333333333,\"#9c179e\"],[0.4444444444444444,\"#bd3786\"],[0.5555555555555556,\"#d8576b\"],[0.6666666666666666,\"#ed7953\"],[0.7777777777777778,\"#fb9f3a\"],[0.8888888888888888,\"#fdca26\"],[1.0,\"#f0f921\"]]}],\"heatmap\":[{\"type\":\"heatmap\",\"colorbar\":{\"outlinewidth\":0,\"ticks\":\"\"},\"colorscale\":[[0.0,\"#0d0887\"],[0.1111111111111111,\"#46039f\"],[0.2222222222222222,\"#7201a8\"],[0.3333333333333333,\"#9c179e\"],[0.4444444444444444,\"#bd3786\"],[0.5555555555555556,\"#d8576b\"],[0.6666666666666666,\"#ed7953\"],[0.7777777777777778,\"#fb9f3a\"],[0.8888888888888888,\"#fdca26\"],[1.0,\"#f0f921\"]]}],\"heatmapgl\":[{\"type\":\"heatmapgl\",\"colorbar\":{\"outlinewidth\":0,\"ticks\":\"\"},\"colorscale\":[[0.0,\"#0d0887\"],[0.1111111111111111,\"#46039f\"],[0.2222222222222222,\"#7201a8\"],[0.3333333333333333,\"#9c179e\"],[0.4444444444444444,\"#bd3786\"],[0.5555555555555556,\"#d8576b\"],[0.6666666666666666,\"#ed7953\"],[0.7777777777777778,\"#fb9f3a\"],[0.8888888888888888,\"#fdca26\"],[1.0,\"#f0f921\"]]}],\"contourcarpet\":[{\"type\":\"contourcarpet\",\"colorbar\":{\"outlinewidth\":0,\"ticks\":\"\"}}],\"contour\":[{\"type\":\"contour\",\"colorbar\":{\"outlinewidth\":0,\"ticks\":\"\"},\"colorscale\":[[0.0,\"#0d0887\"],[0.1111111111111111,\"#46039f\"],[0.2222222222222222,\"#7201a8\"],[0.3333333333333333,\"#9c179e\"],[0.4444444444444444,\"#bd3786\"],[0.5555555555555556,\"#d8576b\"],[0.6666666666666666,\"#ed7953\"],[0.7777777777777778,\"#fb9f3a\"],[0.8888888888888888,\"#fdca26\"],[1.0,\"#f0f921\"]]}],\"surface\":[{\"type\":\"surface\",\"colorbar\":{\"outlinewidth\":0,\"ticks\":\"\"},\"colorscale\":[[0.0,\"#0d0887\"],[0.1111111111111111,\"#46039f\"],[0.2222222222222222,\"#7201a8\"],[0.3333333333333333,\"#9c179e\"],[0.4444444444444444,\"#bd3786\"],[0.5555555555555556,\"#d8576b\"],[0.6666666666666666,\"#ed7953\"],[0.7777777777777778,\"#fb9f3a\"],[0.8888888888888888,\"#fdca26\"],[1.0,\"#f0f921\"]]}],\"mesh3d\":[{\"type\":\"mesh3d\",\"colorbar\":{\"outlinewidth\":0,\"ticks\":\"\"}}],\"scatter\":[{\"fillpattern\":{\"fillmode\":\"overlay\",\"size\":10,\"solidity\":0.2},\"type\":\"scatter\"}],\"parcoords\":[{\"type\":\"parcoords\",\"line\":{\"colorbar\":{\"outlinewidth\":0,\"ticks\":\"\"}}}],\"scatterpolargl\":[{\"type\":\"scatterpolargl\",\"marker\":{\"colorbar\":{\"outlinewidth\":0,\"ticks\":\"\"}}}],\"bar\":[{\"error_x\":{\"color\":\"#2a3f5f\"},\"error_y\":{\"color\":\"#2a3f5f\"},\"marker\":{\"line\":{\"color\":\"#E5ECF6\",\"width\":0.5},\"pattern\":{\"fillmode\":\"overlay\",\"size\":10,\"solidity\":0.2}},\"type\":\"bar\"}],\"scattergeo\":[{\"type\":\"scattergeo\",\"marker\":{\"colorbar\":{\"outlinewidth\":0,\"ticks\":\"\"}}}],\"scatterpolar\":[{\"type\":\"scatterpolar\",\"marker\":{\"colorbar\":{\"outlinewidth\":0,\"ticks\":\"\"}}}],\"histogram\":[{\"marker\":{\"pattern\":{\"fillmode\":\"overlay\",\"size\":10,\"solidity\":0.2}},\"type\":\"histogram\"}],\"scattergl\":[{\"type\":\"scattergl\",\"marker\":{\"colorbar\":{\"outlinewidth\":0,\"ticks\":\"\"}}}],\"scatter3d\":[{\"type\":\"scatter3d\",\"line\":{\"colorbar\":{\"outlinewidth\":0,\"ticks\":\"\"}},\"marker\":{\"colorbar\":{\"outlinewidth\":0,\"ticks\":\"\"}}}],\"scattermapbox\":[{\"type\":\"scattermapbox\",\"marker\":{\"colorbar\":{\"outlinewidth\":0,\"ticks\":\"\"}}}],\"scatterternary\":[{\"type\":\"scatterternary\",\"marker\":{\"colorbar\":{\"outlinewidth\":0,\"ticks\":\"\"}}}],\"scattercarpet\":[{\"type\":\"scattercarpet\",\"marker\":{\"colorbar\":{\"outlinewidth\":0,\"ticks\":\"\"}}}],\"carpet\":[{\"aaxis\":{\"endlinecolor\":\"#2a3f5f\",\"gridcolor\":\"white\",\"linecolor\":\"white\",\"minorgridcolor\":\"white\",\"startlinecolor\":\"#2a3f5f\"},\"baxis\":{\"endlinecolor\":\"#2a3f5f\",\"gridcolor\":\"white\",\"linecolor\":\"white\",\"minorgridcolor\":\"white\",\"startlinecolor\":\"#2a3f5f\"},\"type\":\"carpet\"}],\"table\":[{\"cells\":{\"fill\":{\"color\":\"#EBF0F8\"},\"line\":{\"color\":\"white\"}},\"header\":{\"fill\":{\"color\":\"#C8D4E3\"},\"line\":{\"color\":\"white\"}},\"type\":\"table\"}],\"barpolar\":[{\"marker\":{\"line\":{\"color\":\"#E5ECF6\",\"width\":0.5},\"pattern\":{\"fillmode\":\"overlay\",\"size\":10,\"solidity\":0.2}},\"type\":\"barpolar\"}],\"pie\":[{\"automargin\":true,\"type\":\"pie\"}]},\"layout\":{\"autotypenumbers\":\"strict\",\"colorway\":[\"#636efa\",\"#EF553B\",\"#00cc96\",\"#ab63fa\",\"#FFA15A\",\"#19d3f3\",\"#FF6692\",\"#B6E880\",\"#FF97FF\",\"#FECB52\"],\"font\":{\"color\":\"#2a3f5f\"},\"hovermode\":\"closest\",\"hoverlabel\":{\"align\":\"left\"},\"paper_bgcolor\":\"white\",\"plot_bgcolor\":\"#E5ECF6\",\"polar\":{\"bgcolor\":\"#E5ECF6\",\"angularaxis\":{\"gridcolor\":\"white\",\"linecolor\":\"white\",\"ticks\":\"\"},\"radialaxis\":{\"gridcolor\":\"white\",\"linecolor\":\"white\",\"ticks\":\"\"}},\"ternary\":{\"bgcolor\":\"#E5ECF6\",\"aaxis\":{\"gridcolor\":\"white\",\"linecolor\":\"white\",\"ticks\":\"\"},\"baxis\":{\"gridcolor\":\"white\",\"linecolor\":\"white\",\"ticks\":\"\"},\"caxis\":{\"gridcolor\":\"white\",\"linecolor\":\"white\",\"ticks\":\"\"}},\"coloraxis\":{\"colorbar\":{\"outlinewidth\":0,\"ticks\":\"\"}},\"colorscale\":{\"sequential\":[[0.0,\"#0d0887\"],[0.1111111111111111,\"#46039f\"],[0.2222222222222222,\"#7201a8\"],[0.3333333333333333,\"#9c179e\"],[0.4444444444444444,\"#bd3786\"],[0.5555555555555556,\"#d8576b\"],[0.6666666666666666,\"#ed7953\"],[0.7777777777777778,\"#fb9f3a\"],[0.8888888888888888,\"#fdca26\"],[1.0,\"#f0f921\"]],\"sequentialminus\":[[0.0,\"#0d0887\"],[0.1111111111111111,\"#46039f\"],[0.2222222222222222,\"#7201a8\"],[0.3333333333333333,\"#9c179e\"],[0.4444444444444444,\"#bd3786\"],[0.5555555555555556,\"#d8576b\"],[0.6666666666666666,\"#ed7953\"],[0.7777777777777778,\"#fb9f3a\"],[0.8888888888888888,\"#fdca26\"],[1.0,\"#f0f921\"]],\"diverging\":[[0,\"#8e0152\"],[0.1,\"#c51b7d\"],[0.2,\"#de77ae\"],[0.3,\"#f1b6da\"],[0.4,\"#fde0ef\"],[0.5,\"#f7f7f7\"],[0.6,\"#e6f5d0\"],[0.7,\"#b8e186\"],[0.8,\"#7fbc41\"],[0.9,\"#4d9221\"],[1,\"#276419\"]]},\"xaxis\":{\"gridcolor\":\"white\",\"linecolor\":\"white\",\"ticks\":\"\",\"title\":{\"standoff\":15},\"zerolinecolor\":\"white\",\"automargin\":true,\"zerolinewidth\":2},\"yaxis\":{\"gridcolor\":\"white\",\"linecolor\":\"white\",\"ticks\":\"\",\"title\":{\"standoff\":15},\"zerolinecolor\":\"white\",\"automargin\":true,\"zerolinewidth\":2},\"scene\":{\"xaxis\":{\"backgroundcolor\":\"#E5ECF6\",\"gridcolor\":\"white\",\"linecolor\":\"white\",\"showbackground\":true,\"ticks\":\"\",\"zerolinecolor\":\"white\",\"gridwidth\":2},\"yaxis\":{\"backgroundcolor\":\"#E5ECF6\",\"gridcolor\":\"white\",\"linecolor\":\"white\",\"showbackground\":true,\"ticks\":\"\",\"zerolinecolor\":\"white\",\"gridwidth\":2},\"zaxis\":{\"backgroundcolor\":\"#E5ECF6\",\"gridcolor\":\"white\",\"linecolor\":\"white\",\"showbackground\":true,\"ticks\":\"\",\"zerolinecolor\":\"white\",\"gridwidth\":2}},\"shapedefaults\":{\"line\":{\"color\":\"#2a3f5f\"}},\"annotationdefaults\":{\"arrowcolor\":\"#2a3f5f\",\"arrowhead\":0,\"arrowwidth\":1},\"geo\":{\"bgcolor\":\"white\",\"landcolor\":\"#E5ECF6\",\"subunitcolor\":\"white\",\"showland\":true,\"showlakes\":true,\"lakecolor\":\"white\"},\"title\":{\"x\":0.05},\"mapbox\":{\"style\":\"light\"}}},\"xaxis\":{\"anchor\":\"y\",\"domain\":[0.0,1.0],\"title\":{\"text\":\"ranking\"}},\"yaxis\":{\"anchor\":\"x\",\"domain\":[0.0,1.0],\"title\":{\"text\":\"critic_score\"}},\"coloraxis\":{\"colorbar\":{\"title\":{\"text\":\"number_of_critic_ratings\"}},\"colorscale\":[[0.0,\"#0d0887\"],[0.1111111111111111,\"#46039f\"],[0.2222222222222222,\"#7201a8\"],[0.3333333333333333,\"#9c179e\"],[0.4444444444444444,\"#bd3786\"],[0.5555555555555556,\"#d8576b\"],[0.6666666666666666,\"#ed7953\"],[0.7777777777777778,\"#fb9f3a\"],[0.8888888888888888,\"#fdca26\"],[1.0,\"#f0f921\"]]},\"legend\":{\"tracegroupgap\":0,\"itemsizing\":\"constant\"},\"title\":{\"text\":\"Movie ranking\"}},                        {\"responsive\": true}                    ).then(function(){\n",
       "                            \n",
       "var gd = document.getElementById('11ac7d22-4144-4912-80e0-c8aeae699fb4');\n",
       "var x = new MutationObserver(function (mutations, observer) {{\n",
       "        var display = window.getComputedStyle(gd).display;\n",
       "        if (!display || display === 'none') {{\n",
       "            console.log([gd, 'removed!']);\n",
       "            Plotly.purge(gd);\n",
       "            observer.disconnect();\n",
       "        }}\n",
       "}});\n",
       "\n",
       "// Listen for the removal of the full notebook cells\n",
       "var notebookContainer = gd.closest('#notebook-container');\n",
       "if (notebookContainer) {{\n",
       "    x.observe(notebookContainer, {childList: true});\n",
       "}}\n",
       "\n",
       "// Listen for the clearing of the current output cell\n",
       "var outputEl = gd.closest('.output');\n",
       "if (outputEl) {{\n",
       "    x.observe(outputEl, {childList: true});\n",
       "}}\n",
       "\n",
       "                        })                };                });            </script>        </div>"
      ]
     },
     "metadata": {},
     "output_type": "display_data"
    }
   ],
   "source": [
    "# 3. Ranking of movies to get the author with the best ranked movie\n",
    "fig=px.scatter(df,x='ranking',y='critic_score',size='number_of_critic_ratings',color='number_of_critic_ratings',\n",
    "    hover_data=['ranking','critic_score','number_of_critic_ratings','audience_score','movie_author','movie_genre','title'],\n",
    "              title='Movie ranking')\n",
    "fig.show()"
   ]
  },
  {
   "cell_type": "code",
   "execution_count": 70,
   "id": "52cb31a1",
   "metadata": {},
   "outputs": [
    {
     "data": {
      "image/png": "[encoded data removed]",
      "text/plain": [
       "<Figure size 864x360 with 1 Axes>"
      ]
     },
     "metadata": {
      "needs_background": "light"
     },
     "output_type": "display_data"
    }
   ],
   "source": [
    "#Comparing the Number of audience ratings and the audience score\n",
    "plt.figure(figsize=(12,5))\n",
    "plt.bar(x=df.audience_score,height=df.number_of_audience_ratings)\n",
    "plt.title('Audience Score verse Number of Audience Ratings',loc='center')\n",
    "plt.xlabel('Audience Score')\n",
    "plt.ylabel('Number of Audience Ratings');"
   ]
  },
  {
   "cell_type": "code",
   "execution_count": 69,
   "id": "9a3a98be",
   "metadata": {},
   "outputs": [
    {
     "data": {
      "image/png": "[encoded data removed]",
      "text/plain": [
       "<Figure size 864x360 with 1 Axes>"
      ]
     },
     "metadata": {
      "needs_background": "light"
     },
     "output_type": "display_data"
    }
   ],
   "source": [
    "#Comparing the Number of critic ratings and the critic score\n",
    "plt.figure(figsize=(12,5))\n",
    "plt.bar(x=df.critic_score,height=df.number_of_critic_ratings)\n",
    "plt.title('Critic Score verse Number of Critic Ratings',loc='center')\n",
    "plt.xlabel('Critic Score')\n",
    "plt.ylabel('Number of Critic Ratings');"
   ]
  },
  {
   "cell_type": "markdown",
   "id": "0369d5ae",
   "metadata": {},
   "source": [
    "### Insights from the bivariate analysis\n",
    "* Most of the movies in the dataset are from Drama genre with 9 movies followed by Drama, Mystery and Suspence with 8 movies and the list goes on. One may suppose that Drama has high ranking as compared to other movies which are not in the dataset. However, that is not the case, Art House & International,Classics,Drama, which has only 3 movies has the highest ranking followed by Drama, Mystery and Suspence.\n",
    "* Sergei M Eseinstein is the movie author  of the movie 'Battleship Potemkin (1925)' which has the highest ranking of 100 as well as critic score of 100 and the movie is from  Art House & International,Classics genre.\n",
    "* The audience score does not show any trend with the number of audience ratings.\n",
    "* The general trend is that the more the number of the critic ratings the less the critic score. \n"
   ]
  },
  {
   "cell_type": "markdown",
   "id": "9c17fa9f",
   "metadata": {},
   "source": [
    "# Conclusion\n",
    "* The audience score shows a normal distribuion that is negatively skewed, with most of the movie scoring above 85 With minimum of 72 and maximum of 98. \n",
    "* The critic score has a negatively skewed normal distribution too,  with most movies having a critic score of above 97, the minimum score is 92 and maximum 100.\n",
    "* The number of critic ratings shows a normal distribution that is skewed positive, showing that many movies have less than 125 critic ratings. The highest number of critic ratings in the entire dataset is 370.\n",
    "* As for the number of audience ratings, 95 of the movies have between 6128 to 99,000 ratings and only 2 movies have over 32 million ratings which we have dropped since they were like outliers.\n",
    "* Most of the movies in the dataset are from Drama genre with 9 movies followed by Drama, Mystery and Suspence with 8 movies and the list goes on. One may suppose that Drama has high ranking as compared to other movies which are not in the dataset. However, that is not the case, Art House & International,Classics,Drama, which has only 3 movies has the highest ranking followed by Drama, Mystery and Suspence.\n",
    "* Sergei M Eseinstein is the movie author  of the movie 'Battleship Potemkin (1925)' which has the highest ranking of 100 as well as critic score of 100 and the movie is from  Art House & International,Classics genre.\n",
    "* The audience score does not show any trend with the number of audience ratings.\n",
    "* The general trend is that the more the number of the critic ratings the less the critic score. "
   ]
  }
 ],
 "metadata": {
  "kernelspec": {
   "display_name": "Python 3 (ipykernel)",
   "language": "python",
   "name": "python3"
  },
  "language_info": {
   "codemirror_mode": {
    "name": "ipython",
    "version": 3
   },
   "file_extension": ".py",
   "mimetype": "text/x-python",
   "name": "python",
   "nbconvert_exporter": "python",
   "pygments_lexer": "ipython3",
   "version": "3.9.7"
  }
 },
 "nbformat": 4,
 "nbformat_minor": 5
}
